{
  "nbformat": 4,
  "nbformat_minor": 0,
  "metadata": {
    "colab": {
      "provenance": [],
      "collapsed_sections": [
        "dUb4O22Al2JQ"
      ]
    },
    "kernelspec": {
      "name": "python3",
      "display_name": "Python 3"
    },
    "language_info": {
      "name": "python"
    }
  },
  "cells": [
    {
      "cell_type": "markdown",
      "source": [
        "# Data Preparation"
      ],
      "metadata": {
        "id": "YFnWW9dIT37m"
      }
    },
    {
      "cell_type": "markdown",
      "source": [
        "## Combining Datasets"
      ],
      "metadata": {
        "id": "bbz2Cxf1e6Sw"
      }
    },
    {
      "cell_type": "code",
      "source": [
        "# Import packages\n",
        "import pandas as pd\n",
        "import numpy as np\n",
        "\n",
        "# Load datasets (source links in Works Cited of report)\n",
        "workout_recommendations = pd.read_excel('gym recommendation.xlsx')\n",
        "gym_details = pd.read_csv('megaGymDataset.csv')\n",
        "\n",
        "# Rename variables\n",
        "workout_recommendations[\"Level\"] = workout_recommendations[\"Level\"].replace(\"Obuse\", \"Obese\")\n",
        "# Drop unnecessary columns\n",
        "workout_recommendations = workout_recommendations.drop([\"Recommendation\", \"Diet\"], axis = 1)\n",
        "gym_details = gym_details.drop([\"Unnamed: 0\", \"Rating\", \"RatingDesc\", \"Desc\"], axis = 1)\n",
        "# Remove specific unwanted values\n",
        "vals_to_remove = [\n",
        "    \"HM Running Man Crunch\", \"Running lunge\", \"FYR Running Lunge\",\n",
        "    \"HM Running Lunge\", \"Dumbbell walking calf raise\", \"Walking Butt Kicks\",\n",
        "    \"Walking Glute Stretch\", \"Walking lunge\", \"30 Legs Walking Lunge\",\n",
        "    \"Barbell walking lunge\", \"Bodyweight Walking Lunge\", \"Walking lunge with hip extension\",\n",
        "    \"Walking lunge with twist\", \"Bodyweight Walking Lunge - Gethin Variation\",\n",
        "    \"HM Walking Hip Stretch\", \"Dumbbell walking lunge-\", 'Dumbbell Walking Lunge', \"Walking High Knee\"\n",
        "]\n",
        "\n",
        "gym_details_filtered = gym_details[gym_details['Title'].isin(vals_to_remove) == False]\n"
      ],
      "metadata": {
        "id": "LJsZ8DT7U1l9"
      },
      "execution_count": null,
      "outputs": []
    },
    {
      "cell_type": "code",
      "source": [
        "# List to store the new rows\n",
        "new_rows = []\n",
        "\n",
        "# Iterate through the indices and rows of the workout recommendations\n",
        "for index, row in workout_recommendations.iterrows():\n",
        "    # Replaces and/or with a comma and the converts the exercises into a list separated by commas\n",
        "    exercises = row['Exercises'].replace(' and ', ', ').replace(' or ', ', ').split(\", \")\n",
        "    # Removes leading and trailing spaces, commas, and periods\n",
        "    exercises = [exercise.strip(' ,.') for exercise in exercises]\n",
        "\n",
        "    # Iterate over each exercise and find matches in gym_details based on the title of the workout\n",
        "    #   (if it contains the word for the exercise in the title)\n",
        "    for exercise in exercises:\n",
        "        matches = gym_details_filtered[gym_details_filtered[\"Title\"].str.contains(exercise, case=False, na=False)]\n",
        "\n",
        "        # For each match, create a new row with relevant details\n",
        "        for match_index, match_row in matches.iterrows():\n",
        "            new_row = row.copy()\n",
        "            # Add the recommended exercise and details from gym_details\n",
        "            new_row['Recommended Exercise'] = match_row['Title']\n",
        "            new_row['Type'] = match_row['Type']\n",
        "            new_row['BodyPart'] = match_row['BodyPart']\n",
        "            new_row['Equipment'] = match_row['Equipment']\n",
        "            new_row['Workout Intensity Level'] = match_row['Level']\n",
        "\n",
        "            # Append this new row to the list of new rows\n",
        "            new_rows.append(new_row)\n",
        "\n",
        "# Convert the list of new rows into a DataFrame\n",
        "new_workout_recommendations = pd.DataFrame(new_rows)\n",
        "\n",
        "# Drop the list of recommended exercises since we now have a row for each recommendation\n",
        "new_workout_recommendations = new_workout_recommendations.drop([\"Exercises\"], axis = 1)\n",
        "\n",
        "meters_to_inches = 39.3701\n",
        "kg_to_pounds = 2.20462\n",
        "\n",
        "# Convert 'Height' from meters to inches and 'Weight' from kg to pounds\n",
        "new_workout_recommendations['Height_in_inches'] = new_workout_recommendations['Height'] * meters_to_inches\n",
        "new_workout_recommendations['Weight_in_pounds'] = new_workout_recommendations['Weight'] * kg_to_pounds\n",
        "\n",
        "new_workout_recommendations = new_workout_recommendations.drop(['Height'], axis = 1)\n",
        "new_workout_recommendations = new_workout_recommendations.drop(['Weight'], axis = 1)\n",
        "\n",
        "# Save final dataset to csv\n",
        "new_workout_recommendations.to_csv('workout_recommendations_new.csv', index=False)\n"
      ],
      "metadata": {
        "id": "HFExHOG4sil-"
      },
      "execution_count": null,
      "outputs": []
    },
    {
      "cell_type": "code",
      "source": [
        "new_workout_recommendations"
      ],
      "metadata": {
        "colab": {
          "base_uri": "https://localhost:8080/",
          "height": 669
        },
        "id": "LreI-Cbxwwax",
        "outputId": "2cea99ce-56d6-4661-88bd-a43b05231170"
      },
      "execution_count": null,
      "outputs": [
        {
          "output_type": "execute_result",
          "data": {
            "text/plain": [
              "        Sex  Age Hypertension Diabetes    BMI        Level Fitness Goal  \\\n",
              "0      Male   18           No       No  16.83  Underweight  Weight Gain   \n",
              "1      Male   18           No       No  16.83  Underweight  Weight Gain   \n",
              "2      Male   18           No       No  16.83  Underweight  Weight Gain   \n",
              "3      Male   18           No       No  16.83  Underweight  Weight Gain   \n",
              "4      Male   18           No       No  16.83  Underweight  Weight Gain   \n",
              "...     ...  ...          ...      ...    ...          ...          ...   \n",
              "96769  Male   38           No       No  27.69   Overweight  Weight Loss   \n",
              "96770  Male   39           No       No  27.67   Overweight  Weight Loss   \n",
              "96771  Male   39           No       No  27.67   Overweight  Weight Loss   \n",
              "96772  Male   39           No       No  27.67   Overweight  Weight Loss   \n",
              "96773  Male   39           No       No  27.67   Overweight  Weight Loss   \n",
              "\n",
              "           Fitness Type    Equipment               Recommended Exercise  \\\n",
              "0      Muscular Fitness        Bands                Squats - With Bands   \n",
              "1      Muscular Fitness      Barbell                   Jefferson Squats   \n",
              "2      Muscular Fitness      Barbell                Barbell Back Squats   \n",
              "3      Muscular Fitness  Kettlebells  Front Squats With Two Kettlebells   \n",
              "4      Muscular Fitness  Kettlebells                      Goblet Squats   \n",
              "...                 ...          ...                                ...   \n",
              "96769    Cardio Fitness    Body Only              Trail Running/Walking   \n",
              "96770    Cardio Fitness        Other                          Bicycling   \n",
              "96771    Cardio Fitness    Body Only                           Swimming   \n",
              "96772    Cardio Fitness      Machine                  Treadmill running   \n",
              "96773    Cardio Fitness    Body Only              Trail Running/Walking   \n",
              "\n",
              "           Type    BodyPart Workout Intensity Level  Height_in_inches  \\\n",
              "0      Strength  Quadriceps                Beginner         66.141768   \n",
              "1      Strength  Quadriceps                Beginner         66.141768   \n",
              "2      Strength  Quadriceps            Intermediate         66.141768   \n",
              "3      Strength  Quadriceps                Beginner         66.141768   \n",
              "4      Strength  Quadriceps            Intermediate         66.141768   \n",
              "...         ...         ...                     ...               ...   \n",
              "96769    Cardio  Quadriceps            Intermediate         75.196891   \n",
              "96770    Cardio  Quadriceps            Intermediate         75.590592   \n",
              "96771    Cardio       Chest            Intermediate         75.590592   \n",
              "96772    Cardio  Quadriceps            Intermediate         75.590592   \n",
              "96773    Cardio  Quadriceps            Intermediate         75.590592   \n",
              "\n",
              "       Weight_in_pounds  \n",
              "0             104.71945  \n",
              "1             104.71945  \n",
              "2             104.71945  \n",
              "3             104.71945  \n",
              "4             104.71945  \n",
              "...                 ...  \n",
              "96769         222.66662  \n",
              "96770         224.87124  \n",
              "96771         224.87124  \n",
              "96772         224.87124  \n",
              "96773         224.87124  \n",
              "\n",
              "[96774 rows x 15 columns]"
            ],
            "text/html": [
              "\n",
              "  <div id=\"df-5c372967-33d3-4400-9113-32a5daa9e45f\" class=\"colab-df-container\">\n",
              "    <div>\n",
              "<style scoped>\n",
              "    .dataframe tbody tr th:only-of-type {\n",
              "        vertical-align: middle;\n",
              "    }\n",
              "\n",
              "    .dataframe tbody tr th {\n",
              "        vertical-align: top;\n",
              "    }\n",
              "\n",
              "    .dataframe thead th {\n",
              "        text-align: right;\n",
              "    }\n",
              "</style>\n",
              "<table border=\"1\" class=\"dataframe\">\n",
              "  <thead>\n",
              "    <tr style=\"text-align: right;\">\n",
              "      <th></th>\n",
              "      <th>Sex</th>\n",
              "      <th>Age</th>\n",
              "      <th>Hypertension</th>\n",
              "      <th>Diabetes</th>\n",
              "      <th>BMI</th>\n",
              "      <th>Level</th>\n",
              "      <th>Fitness Goal</th>\n",
              "      <th>Fitness Type</th>\n",
              "      <th>Equipment</th>\n",
              "      <th>Recommended Exercise</th>\n",
              "      <th>Type</th>\n",
              "      <th>BodyPart</th>\n",
              "      <th>Workout Intensity Level</th>\n",
              "      <th>Height_in_inches</th>\n",
              "      <th>Weight_in_pounds</th>\n",
              "    </tr>\n",
              "  </thead>\n",
              "  <tbody>\n",
              "    <tr>\n",
              "      <th>0</th>\n",
              "      <td>Male</td>\n",
              "      <td>18</td>\n",
              "      <td>No</td>\n",
              "      <td>No</td>\n",
              "      <td>16.83</td>\n",
              "      <td>Underweight</td>\n",
              "      <td>Weight Gain</td>\n",
              "      <td>Muscular Fitness</td>\n",
              "      <td>Bands</td>\n",
              "      <td>Squats - With Bands</td>\n",
              "      <td>Strength</td>\n",
              "      <td>Quadriceps</td>\n",
              "      <td>Beginner</td>\n",
              "      <td>66.141768</td>\n",
              "      <td>104.71945</td>\n",
              "    </tr>\n",
              "    <tr>\n",
              "      <th>1</th>\n",
              "      <td>Male</td>\n",
              "      <td>18</td>\n",
              "      <td>No</td>\n",
              "      <td>No</td>\n",
              "      <td>16.83</td>\n",
              "      <td>Underweight</td>\n",
              "      <td>Weight Gain</td>\n",
              "      <td>Muscular Fitness</td>\n",
              "      <td>Barbell</td>\n",
              "      <td>Jefferson Squats</td>\n",
              "      <td>Strength</td>\n",
              "      <td>Quadriceps</td>\n",
              "      <td>Beginner</td>\n",
              "      <td>66.141768</td>\n",
              "      <td>104.71945</td>\n",
              "    </tr>\n",
              "    <tr>\n",
              "      <th>2</th>\n",
              "      <td>Male</td>\n",
              "      <td>18</td>\n",
              "      <td>No</td>\n",
              "      <td>No</td>\n",
              "      <td>16.83</td>\n",
              "      <td>Underweight</td>\n",
              "      <td>Weight Gain</td>\n",
              "      <td>Muscular Fitness</td>\n",
              "      <td>Barbell</td>\n",
              "      <td>Barbell Back Squats</td>\n",
              "      <td>Strength</td>\n",
              "      <td>Quadriceps</td>\n",
              "      <td>Intermediate</td>\n",
              "      <td>66.141768</td>\n",
              "      <td>104.71945</td>\n",
              "    </tr>\n",
              "    <tr>\n",
              "      <th>3</th>\n",
              "      <td>Male</td>\n",
              "      <td>18</td>\n",
              "      <td>No</td>\n",
              "      <td>No</td>\n",
              "      <td>16.83</td>\n",
              "      <td>Underweight</td>\n",
              "      <td>Weight Gain</td>\n",
              "      <td>Muscular Fitness</td>\n",
              "      <td>Kettlebells</td>\n",
              "      <td>Front Squats With Two Kettlebells</td>\n",
              "      <td>Strength</td>\n",
              "      <td>Quadriceps</td>\n",
              "      <td>Beginner</td>\n",
              "      <td>66.141768</td>\n",
              "      <td>104.71945</td>\n",
              "    </tr>\n",
              "    <tr>\n",
              "      <th>4</th>\n",
              "      <td>Male</td>\n",
              "      <td>18</td>\n",
              "      <td>No</td>\n",
              "      <td>No</td>\n",
              "      <td>16.83</td>\n",
              "      <td>Underweight</td>\n",
              "      <td>Weight Gain</td>\n",
              "      <td>Muscular Fitness</td>\n",
              "      <td>Kettlebells</td>\n",
              "      <td>Goblet Squats</td>\n",
              "      <td>Strength</td>\n",
              "      <td>Quadriceps</td>\n",
              "      <td>Intermediate</td>\n",
              "      <td>66.141768</td>\n",
              "      <td>104.71945</td>\n",
              "    </tr>\n",
              "    <tr>\n",
              "      <th>...</th>\n",
              "      <td>...</td>\n",
              "      <td>...</td>\n",
              "      <td>...</td>\n",
              "      <td>...</td>\n",
              "      <td>...</td>\n",
              "      <td>...</td>\n",
              "      <td>...</td>\n",
              "      <td>...</td>\n",
              "      <td>...</td>\n",
              "      <td>...</td>\n",
              "      <td>...</td>\n",
              "      <td>...</td>\n",
              "      <td>...</td>\n",
              "      <td>...</td>\n",
              "      <td>...</td>\n",
              "    </tr>\n",
              "    <tr>\n",
              "      <th>96769</th>\n",
              "      <td>Male</td>\n",
              "      <td>38</td>\n",
              "      <td>No</td>\n",
              "      <td>No</td>\n",
              "      <td>27.69</td>\n",
              "      <td>Overweight</td>\n",
              "      <td>Weight Loss</td>\n",
              "      <td>Cardio Fitness</td>\n",
              "      <td>Body Only</td>\n",
              "      <td>Trail Running/Walking</td>\n",
              "      <td>Cardio</td>\n",
              "      <td>Quadriceps</td>\n",
              "      <td>Intermediate</td>\n",
              "      <td>75.196891</td>\n",
              "      <td>222.66662</td>\n",
              "    </tr>\n",
              "    <tr>\n",
              "      <th>96770</th>\n",
              "      <td>Male</td>\n",
              "      <td>39</td>\n",
              "      <td>No</td>\n",
              "      <td>No</td>\n",
              "      <td>27.67</td>\n",
              "      <td>Overweight</td>\n",
              "      <td>Weight Loss</td>\n",
              "      <td>Cardio Fitness</td>\n",
              "      <td>Other</td>\n",
              "      <td>Bicycling</td>\n",
              "      <td>Cardio</td>\n",
              "      <td>Quadriceps</td>\n",
              "      <td>Intermediate</td>\n",
              "      <td>75.590592</td>\n",
              "      <td>224.87124</td>\n",
              "    </tr>\n",
              "    <tr>\n",
              "      <th>96771</th>\n",
              "      <td>Male</td>\n",
              "      <td>39</td>\n",
              "      <td>No</td>\n",
              "      <td>No</td>\n",
              "      <td>27.67</td>\n",
              "      <td>Overweight</td>\n",
              "      <td>Weight Loss</td>\n",
              "      <td>Cardio Fitness</td>\n",
              "      <td>Body Only</td>\n",
              "      <td>Swimming</td>\n",
              "      <td>Cardio</td>\n",
              "      <td>Chest</td>\n",
              "      <td>Intermediate</td>\n",
              "      <td>75.590592</td>\n",
              "      <td>224.87124</td>\n",
              "    </tr>\n",
              "    <tr>\n",
              "      <th>96772</th>\n",
              "      <td>Male</td>\n",
              "      <td>39</td>\n",
              "      <td>No</td>\n",
              "      <td>No</td>\n",
              "      <td>27.67</td>\n",
              "      <td>Overweight</td>\n",
              "      <td>Weight Loss</td>\n",
              "      <td>Cardio Fitness</td>\n",
              "      <td>Machine</td>\n",
              "      <td>Treadmill running</td>\n",
              "      <td>Cardio</td>\n",
              "      <td>Quadriceps</td>\n",
              "      <td>Intermediate</td>\n",
              "      <td>75.590592</td>\n",
              "      <td>224.87124</td>\n",
              "    </tr>\n",
              "    <tr>\n",
              "      <th>96773</th>\n",
              "      <td>Male</td>\n",
              "      <td>39</td>\n",
              "      <td>No</td>\n",
              "      <td>No</td>\n",
              "      <td>27.67</td>\n",
              "      <td>Overweight</td>\n",
              "      <td>Weight Loss</td>\n",
              "      <td>Cardio Fitness</td>\n",
              "      <td>Body Only</td>\n",
              "      <td>Trail Running/Walking</td>\n",
              "      <td>Cardio</td>\n",
              "      <td>Quadriceps</td>\n",
              "      <td>Intermediate</td>\n",
              "      <td>75.590592</td>\n",
              "      <td>224.87124</td>\n",
              "    </tr>\n",
              "  </tbody>\n",
              "</table>\n",
              "<p>96774 rows × 15 columns</p>\n",
              "</div>\n",
              "    <div class=\"colab-df-buttons\">\n",
              "\n",
              "  <div class=\"colab-df-container\">\n",
              "    <button class=\"colab-df-convert\" onclick=\"convertToInteractive('df-5c372967-33d3-4400-9113-32a5daa9e45f')\"\n",
              "            title=\"Convert this dataframe to an interactive table.\"\n",
              "            style=\"display:none;\">\n",
              "\n",
              "  <svg xmlns=\"http://www.w3.org/2000/svg\" height=\"24px\" viewBox=\"0 -960 960 960\">\n",
              "    <path d=\"M120-120v-720h720v720H120Zm60-500h600v-160H180v160Zm220 220h160v-160H400v160Zm0 220h160v-160H400v160ZM180-400h160v-160H180v160Zm440 0h160v-160H620v160ZM180-180h160v-160H180v160Zm440 0h160v-160H620v160Z\"/>\n",
              "  </svg>\n",
              "    </button>\n",
              "\n",
              "  <style>\n",
              "    .colab-df-container {\n",
              "      display:flex;\n",
              "      gap: 12px;\n",
              "    }\n",
              "\n",
              "    .colab-df-convert {\n",
              "      background-color: #E8F0FE;\n",
              "      border: none;\n",
              "      border-radius: 50%;\n",
              "      cursor: pointer;\n",
              "      display: none;\n",
              "      fill: #1967D2;\n",
              "      height: 32px;\n",
              "      padding: 0 0 0 0;\n",
              "      width: 32px;\n",
              "    }\n",
              "\n",
              "    .colab-df-convert:hover {\n",
              "      background-color: #E2EBFA;\n",
              "      box-shadow: 0px 1px 2px rgba(60, 64, 67, 0.3), 0px 1px 3px 1px rgba(60, 64, 67, 0.15);\n",
              "      fill: #174EA6;\n",
              "    }\n",
              "\n",
              "    .colab-df-buttons div {\n",
              "      margin-bottom: 4px;\n",
              "    }\n",
              "\n",
              "    [theme=dark] .colab-df-convert {\n",
              "      background-color: #3B4455;\n",
              "      fill: #D2E3FC;\n",
              "    }\n",
              "\n",
              "    [theme=dark] .colab-df-convert:hover {\n",
              "      background-color: #434B5C;\n",
              "      box-shadow: 0px 1px 3px 1px rgba(0, 0, 0, 0.15);\n",
              "      filter: drop-shadow(0px 1px 2px rgba(0, 0, 0, 0.3));\n",
              "      fill: #FFFFFF;\n",
              "    }\n",
              "  </style>\n",
              "\n",
              "    <script>\n",
              "      const buttonEl =\n",
              "        document.querySelector('#df-5c372967-33d3-4400-9113-32a5daa9e45f button.colab-df-convert');\n",
              "      buttonEl.style.display =\n",
              "        google.colab.kernel.accessAllowed ? 'block' : 'none';\n",
              "\n",
              "      async function convertToInteractive(key) {\n",
              "        const element = document.querySelector('#df-5c372967-33d3-4400-9113-32a5daa9e45f');\n",
              "        const dataTable =\n",
              "          await google.colab.kernel.invokeFunction('convertToInteractive',\n",
              "                                                    [key], {});\n",
              "        if (!dataTable) return;\n",
              "\n",
              "        const docLinkHtml = 'Like what you see? Visit the ' +\n",
              "          '<a target=\"_blank\" href=https://colab.research.google.com/notebooks/data_table.ipynb>data table notebook</a>'\n",
              "          + ' to learn more about interactive tables.';\n",
              "        element.innerHTML = '';\n",
              "        dataTable['output_type'] = 'display_data';\n",
              "        await google.colab.output.renderOutput(dataTable, element);\n",
              "        const docLink = document.createElement('div');\n",
              "        docLink.innerHTML = docLinkHtml;\n",
              "        element.appendChild(docLink);\n",
              "      }\n",
              "    </script>\n",
              "  </div>\n",
              "\n",
              "\n",
              "<div id=\"df-21466d63-cca0-461b-bb3c-ced51614c250\">\n",
              "  <button class=\"colab-df-quickchart\" onclick=\"quickchart('df-21466d63-cca0-461b-bb3c-ced51614c250')\"\n",
              "            title=\"Suggest charts\"\n",
              "            style=\"display:none;\">\n",
              "\n",
              "<svg xmlns=\"http://www.w3.org/2000/svg\" height=\"24px\"viewBox=\"0 0 24 24\"\n",
              "     width=\"24px\">\n",
              "    <g>\n",
              "        <path d=\"M19 3H5c-1.1 0-2 .9-2 2v14c0 1.1.9 2 2 2h14c1.1 0 2-.9 2-2V5c0-1.1-.9-2-2-2zM9 17H7v-7h2v7zm4 0h-2V7h2v10zm4 0h-2v-4h2v4z\"/>\n",
              "    </g>\n",
              "</svg>\n",
              "  </button>\n",
              "\n",
              "<style>\n",
              "  .colab-df-quickchart {\n",
              "      --bg-color: #E8F0FE;\n",
              "      --fill-color: #1967D2;\n",
              "      --hover-bg-color: #E2EBFA;\n",
              "      --hover-fill-color: #174EA6;\n",
              "      --disabled-fill-color: #AAA;\n",
              "      --disabled-bg-color: #DDD;\n",
              "  }\n",
              "\n",
              "  [theme=dark] .colab-df-quickchart {\n",
              "      --bg-color: #3B4455;\n",
              "      --fill-color: #D2E3FC;\n",
              "      --hover-bg-color: #434B5C;\n",
              "      --hover-fill-color: #FFFFFF;\n",
              "      --disabled-bg-color: #3B4455;\n",
              "      --disabled-fill-color: #666;\n",
              "  }\n",
              "\n",
              "  .colab-df-quickchart {\n",
              "    background-color: var(--bg-color);\n",
              "    border: none;\n",
              "    border-radius: 50%;\n",
              "    cursor: pointer;\n",
              "    display: none;\n",
              "    fill: var(--fill-color);\n",
              "    height: 32px;\n",
              "    padding: 0;\n",
              "    width: 32px;\n",
              "  }\n",
              "\n",
              "  .colab-df-quickchart:hover {\n",
              "    background-color: var(--hover-bg-color);\n",
              "    box-shadow: 0 1px 2px rgba(60, 64, 67, 0.3), 0 1px 3px 1px rgba(60, 64, 67, 0.15);\n",
              "    fill: var(--button-hover-fill-color);\n",
              "  }\n",
              "\n",
              "  .colab-df-quickchart-complete:disabled,\n",
              "  .colab-df-quickchart-complete:disabled:hover {\n",
              "    background-color: var(--disabled-bg-color);\n",
              "    fill: var(--disabled-fill-color);\n",
              "    box-shadow: none;\n",
              "  }\n",
              "\n",
              "  .colab-df-spinner {\n",
              "    border: 2px solid var(--fill-color);\n",
              "    border-color: transparent;\n",
              "    border-bottom-color: var(--fill-color);\n",
              "    animation:\n",
              "      spin 1s steps(1) infinite;\n",
              "  }\n",
              "\n",
              "  @keyframes spin {\n",
              "    0% {\n",
              "      border-color: transparent;\n",
              "      border-bottom-color: var(--fill-color);\n",
              "      border-left-color: var(--fill-color);\n",
              "    }\n",
              "    20% {\n",
              "      border-color: transparent;\n",
              "      border-left-color: var(--fill-color);\n",
              "      border-top-color: var(--fill-color);\n",
              "    }\n",
              "    30% {\n",
              "      border-color: transparent;\n",
              "      border-left-color: var(--fill-color);\n",
              "      border-top-color: var(--fill-color);\n",
              "      border-right-color: var(--fill-color);\n",
              "    }\n",
              "    40% {\n",
              "      border-color: transparent;\n",
              "      border-right-color: var(--fill-color);\n",
              "      border-top-color: var(--fill-color);\n",
              "    }\n",
              "    60% {\n",
              "      border-color: transparent;\n",
              "      border-right-color: var(--fill-color);\n",
              "    }\n",
              "    80% {\n",
              "      border-color: transparent;\n",
              "      border-right-color: var(--fill-color);\n",
              "      border-bottom-color: var(--fill-color);\n",
              "    }\n",
              "    90% {\n",
              "      border-color: transparent;\n",
              "      border-bottom-color: var(--fill-color);\n",
              "    }\n",
              "  }\n",
              "</style>\n",
              "\n",
              "  <script>\n",
              "    async function quickchart(key) {\n",
              "      const quickchartButtonEl =\n",
              "        document.querySelector('#' + key + ' button');\n",
              "      quickchartButtonEl.disabled = true;  // To prevent multiple clicks.\n",
              "      quickchartButtonEl.classList.add('colab-df-spinner');\n",
              "      try {\n",
              "        const charts = await google.colab.kernel.invokeFunction(\n",
              "            'suggestCharts', [key], {});\n",
              "      } catch (error) {\n",
              "        console.error('Error during call to suggestCharts:', error);\n",
              "      }\n",
              "      quickchartButtonEl.classList.remove('colab-df-spinner');\n",
              "      quickchartButtonEl.classList.add('colab-df-quickchart-complete');\n",
              "    }\n",
              "    (() => {\n",
              "      let quickchartButtonEl =\n",
              "        document.querySelector('#df-21466d63-cca0-461b-bb3c-ced51614c250 button');\n",
              "      quickchartButtonEl.style.display =\n",
              "        google.colab.kernel.accessAllowed ? 'block' : 'none';\n",
              "    })();\n",
              "  </script>\n",
              "</div>\n",
              "\n",
              "  <div id=\"id_906c657f-4034-4312-94c4-c7ca4ab3354b\">\n",
              "    <style>\n",
              "      .colab-df-generate {\n",
              "        background-color: #E8F0FE;\n",
              "        border: none;\n",
              "        border-radius: 50%;\n",
              "        cursor: pointer;\n",
              "        display: none;\n",
              "        fill: #1967D2;\n",
              "        height: 32px;\n",
              "        padding: 0 0 0 0;\n",
              "        width: 32px;\n",
              "      }\n",
              "\n",
              "      .colab-df-generate:hover {\n",
              "        background-color: #E2EBFA;\n",
              "        box-shadow: 0px 1px 2px rgba(60, 64, 67, 0.3), 0px 1px 3px 1px rgba(60, 64, 67, 0.15);\n",
              "        fill: #174EA6;\n",
              "      }\n",
              "\n",
              "      [theme=dark] .colab-df-generate {\n",
              "        background-color: #3B4455;\n",
              "        fill: #D2E3FC;\n",
              "      }\n",
              "\n",
              "      [theme=dark] .colab-df-generate:hover {\n",
              "        background-color: #434B5C;\n",
              "        box-shadow: 0px 1px 3px 1px rgba(0, 0, 0, 0.15);\n",
              "        filter: drop-shadow(0px 1px 2px rgba(0, 0, 0, 0.3));\n",
              "        fill: #FFFFFF;\n",
              "      }\n",
              "    </style>\n",
              "    <button class=\"colab-df-generate\" onclick=\"generateWithVariable('new_workout_recommendations')\"\n",
              "            title=\"Generate code using this dataframe.\"\n",
              "            style=\"display:none;\">\n",
              "\n",
              "  <svg xmlns=\"http://www.w3.org/2000/svg\" height=\"24px\"viewBox=\"0 0 24 24\"\n",
              "       width=\"24px\">\n",
              "    <path d=\"M7,19H8.4L18.45,9,17,7.55,7,17.6ZM5,21V16.75L18.45,3.32a2,2,0,0,1,2.83,0l1.4,1.43a1.91,1.91,0,0,1,.58,1.4,1.91,1.91,0,0,1-.58,1.4L9.25,21ZM18.45,9,17,7.55Zm-12,3A5.31,5.31,0,0,0,4.9,8.1,5.31,5.31,0,0,0,1,6.5,5.31,5.31,0,0,0,4.9,4.9,5.31,5.31,0,0,0,6.5,1,5.31,5.31,0,0,0,8.1,4.9,5.31,5.31,0,0,0,12,6.5,5.46,5.46,0,0,0,6.5,12Z\"/>\n",
              "  </svg>\n",
              "    </button>\n",
              "    <script>\n",
              "      (() => {\n",
              "      const buttonEl =\n",
              "        document.querySelector('#id_906c657f-4034-4312-94c4-c7ca4ab3354b button.colab-df-generate');\n",
              "      buttonEl.style.display =\n",
              "        google.colab.kernel.accessAllowed ? 'block' : 'none';\n",
              "\n",
              "      buttonEl.onclick = () => {\n",
              "        google.colab.notebook.generateWithVariable('new_workout_recommendations');\n",
              "      }\n",
              "      })();\n",
              "    </script>\n",
              "  </div>\n",
              "\n",
              "    </div>\n",
              "  </div>\n"
            ],
            "application/vnd.google.colaboratory.intrinsic+json": {
              "type": "dataframe",
              "variable_name": "new_workout_recommendations",
              "summary": "{\n  \"name\": \"new_workout_recommendations\",\n  \"rows\": 96774,\n  \"fields\": [\n    {\n      \"column\": \"Sex\",\n      \"properties\": {\n        \"dtype\": \"category\",\n        \"num_unique_values\": 2,\n        \"samples\": [\n          \"Female\",\n          \"Male\"\n        ],\n        \"semantic_type\": \"\",\n        \"description\": \"\"\n      }\n    },\n    {\n      \"column\": \"Age\",\n      \"properties\": {\n        \"dtype\": \"number\",\n        \"std\": 13,\n        \"min\": 18,\n        \"max\": 63,\n        \"num_unique_values\": 46,\n        \"samples\": [\n          57,\n          43\n        ],\n        \"semantic_type\": \"\",\n        \"description\": \"\"\n      }\n    },\n    {\n      \"column\": \"Hypertension\",\n      \"properties\": {\n        \"dtype\": \"category\",\n        \"num_unique_values\": 2,\n        \"samples\": [\n          \"Yes\",\n          \"No\"\n        ],\n        \"semantic_type\": \"\",\n        \"description\": \"\"\n      }\n    },\n    {\n      \"column\": \"Diabetes\",\n      \"properties\": {\n        \"dtype\": \"category\",\n        \"num_unique_values\": 2,\n        \"samples\": [\n          \"Yes\",\n          \"No\"\n        ],\n        \"semantic_type\": \"\",\n        \"description\": \"\"\n      }\n    },\n    {\n      \"column\": \"BMI\",\n      \"properties\": {\n        \"dtype\": \"number\",\n        \"std\": 6.274243927986306,\n        \"min\": 9.52,\n        \"max\": 70.0,\n        \"num_unique_values\": 1114,\n        \"samples\": [\n          44.96,\n          21.08\n        ],\n        \"semantic_type\": \"\",\n        \"description\": \"\"\n      }\n    },\n    {\n      \"column\": \"Level\",\n      \"properties\": {\n        \"dtype\": \"category\",\n        \"num_unique_values\": 4,\n        \"samples\": [\n          \"Normal\",\n          \"Obese\"\n        ],\n        \"semantic_type\": \"\",\n        \"description\": \"\"\n      }\n    },\n    {\n      \"column\": \"Fitness Goal\",\n      \"properties\": {\n        \"dtype\": \"category\",\n        \"num_unique_values\": 2,\n        \"samples\": [\n          \"Weight Loss\",\n          \"Weight Gain\"\n        ],\n        \"semantic_type\": \"\",\n        \"description\": \"\"\n      }\n    },\n    {\n      \"column\": \"Fitness Type\",\n      \"properties\": {\n        \"dtype\": \"category\",\n        \"num_unique_values\": 2,\n        \"samples\": [\n          \"Cardio Fitness\",\n          \"Muscular Fitness\"\n        ],\n        \"semantic_type\": \"\",\n        \"description\": \"\"\n      }\n    },\n    {\n      \"column\": \"Equipment\",\n      \"properties\": {\n        \"dtype\": \"category\",\n        \"num_unique_values\": 7,\n        \"samples\": [\n          \"Bands\",\n          \"Barbell\"\n        ],\n        \"semantic_type\": \"\",\n        \"description\": \"\"\n      }\n    },\n    {\n      \"column\": \"Recommended Exercise\",\n      \"properties\": {\n        \"dtype\": \"category\",\n        \"num_unique_values\": 17,\n        \"samples\": [\n          \"Squats - With Bands\",\n          \"Jefferson Squats\"\n        ],\n        \"semantic_type\": \"\",\n        \"description\": \"\"\n      }\n    },\n    {\n      \"column\": \"Type\",\n      \"properties\": {\n        \"dtype\": \"category\",\n        \"num_unique_values\": 3,\n        \"samples\": [\n          \"Strength\",\n          \"Stretching\"\n        ],\n        \"semantic_type\": \"\",\n        \"description\": \"\"\n      }\n    },\n    {\n      \"column\": \"BodyPart\",\n      \"properties\": {\n        \"dtype\": \"category\",\n        \"num_unique_values\": 3,\n        \"samples\": [\n          \"Quadriceps\",\n          \"Lower Back\"\n        ],\n        \"semantic_type\": \"\",\n        \"description\": \"\"\n      }\n    },\n    {\n      \"column\": \"Workout Intensity Level\",\n      \"properties\": {\n        \"dtype\": \"category\",\n        \"num_unique_values\": 2,\n        \"samples\": [\n          \"Intermediate\",\n          \"Beginner\"\n        ],\n        \"semantic_type\": \"\",\n        \"description\": \"\"\n      }\n    },\n    {\n      \"column\": \"Height_in_inches\",\n      \"properties\": {\n        \"dtype\": \"number\",\n        \"std\": 3.8660107355926145,\n        \"min\": 51.18113,\n        \"max\": 79.921303,\n        \"num_unique_values\": 59,\n        \"samples\": [\n          66.141768,\n          62.992160000000005\n        ],\n        \"semantic_type\": \"\",\n        \"description\": \"\"\n      }\n    },\n    {\n      \"column\": \"Weight_in_pounds\",\n      \"properties\": {\n        \"dtype\": \"number\",\n        \"std\": 41.172225769281546,\n        \"min\": 70.54784,\n        \"max\": 286.6006,\n        \"num_unique_values\": 216,\n        \"samples\": [\n          93.034964,\n          170.968281\n        ],\n        \"semantic_type\": \"\",\n        \"description\": \"\"\n      }\n    }\n  ]\n}"
            }
          },
          "metadata": {},
          "execution_count": 6
        }
      ]
    },
    {
      "cell_type": "code",
      "source": [
        "from google.colab import drive\n",
        "drive.mount('/content/drive')"
      ],
      "metadata": {
        "id": "Nc18ydLob-f6",
        "colab": {
          "base_uri": "https://localhost:8080/"
        },
        "outputId": "65a08f95-568e-4346-94b8-4311cb972822"
      },
      "execution_count": null,
      "outputs": [
        {
          "output_type": "stream",
          "name": "stdout",
          "text": [
            "Mounted at /content/drive\n"
          ]
        }
      ]
    },
    {
      "cell_type": "markdown",
      "source": [
        "## Class Imbalance Analysis"
      ],
      "metadata": {
        "id": "o8XX5DJSMtWo"
      }
    },
    {
      "cell_type": "code",
      "source": [
        "import matplotlib.pyplot as plt\n",
        "\n",
        "# Count the number of observations of each exercise\n",
        "exercise_counts = new_workout_recommendations['Recommended Exercise'].value_counts()\n",
        "\n",
        "# Create bar plot\n",
        "plt.figure(figsize=(10,6))\n",
        "exercise_counts.plot(kind='bar')\n",
        "\n",
        "# Add labels\n",
        "plt.title('Counts of Each Unique Recommended Exercise', fontsize=16)\n",
        "plt.xlabel('Recommended Exercise', fontsize=14)\n",
        "plt.ylabel('Count', fontsize=14)\n",
        "\n",
        "plt.xticks(rotation=70)\n",
        "plt.tight_layout()\n",
        "plt.show()"
      ],
      "metadata": {
        "id": "NBzP1kPNMrtu",
        "colab": {
          "base_uri": "https://localhost:8080/",
          "height": 607
        },
        "outputId": "aa1b03b5-26f5-4ead-f457-7b7b1a5dd6fa"
      },
      "execution_count": null,
      "outputs": [
        {
          "output_type": "display_data",
          "data": {
            "text/plain": [
              "<Figure size 1000x600 with 1 Axes>"
            ],
            "image/png": "[encoded data removed]"
          },
          "metadata": {}
        }
      ]
    },
    {
      "cell_type": "markdown",
      "source": [
        "## Encoding\n"
      ],
      "metadata": {
        "id": "pVS95d7XcGHH"
      }
    },
    {
      "cell_type": "code",
      "source": [
        "from sklearn.preprocessing import LabelEncoder\n",
        "import pandas as pd"
      ],
      "metadata": {
        "id": "t_BUKF4ecO1Z"
      },
      "execution_count": null,
      "outputs": []
    },
    {
      "cell_type": "code",
      "source": [
        "# List of categorical (not including recommended excercise)\n",
        "categorical_cols = [\n",
        "    \"Sex\", \"Hypertension\", \"Diabetes\", \"Level\", \"Fitness Goal\",\n",
        "    \"Fitness Type\", \"Equipment\", \"Type\", \"BodyPart\", \"Workout Intensity Level\"\n",
        "]\n",
        "\n",
        "# Split\n",
        "X_cat = new_workout_recommendations.drop(columns=['Recommended Exercise'])\n",
        "y_cat = new_workout_recommendations['Recommended Exercise']\n",
        "\n",
        "# Initialize\n",
        "encoders = {}\n",
        "target_encoder = LabelEncoder()\n",
        "\n",
        "# Encode\n",
        "for col in categorical_cols:\n",
        "    le = LabelEncoder()\n",
        "    new_workout_recommendations[col] = le.fit_transform(new_workout_recommendations[col])\n",
        "    encoders[col] = le\n",
        "\n",
        "y_encoded = target_encoder.fit_transform(y_cat)\n",
        "\n",
        "# Compile\n",
        "new_workout_recommendations['Recommended Exercise'] = y_encoded\n"
      ],
      "metadata": {
        "id": "zZ8BCpeq9Tvr"
      },
      "execution_count": null,
      "outputs": []
    },
    {
      "cell_type": "markdown",
      "source": [
        "# Feature Engineering Dataset"
      ],
      "metadata": {
        "id": "LAPLSKAk5RDC"
      }
    },
    {
      "cell_type": "code",
      "source": [
        "# Average workout intensity by user\n",
        "\n",
        "non_pca_data = new_workout_recommendations.copy()\n",
        "\n",
        "avg_intensity_by_user = non_pca_data.groupby('ID')['Workout Intensity Level'].mean().reset_index()\n",
        "avg_intensity_by_user.rename(columns={'Workout Intensity Level': 'Avg_Workout_Intensity_Level'}, inplace=True)\n",
        "non_pca_data = non_pca_data.merge(avg_intensity_by_user, on='ID', how='left')\n"
      ],
      "metadata": {
        "id": "DLgcxycl5TqD"
      },
      "execution_count": null,
      "outputs": []
    },
    {
      "cell_type": "code",
      "source": [
        "# Number of bodyparts used by user\n",
        "\n",
        "num_bodyparts_used_by_user = non_pca_data.groupby('ID')['BodyPart'].nunique().reset_index()\n",
        "num_bodyparts_used_by_user.rename(columns = {\"BodyPart\": \"Num_BodyParts_Used\"}, inplace = True)\n",
        "non_pca_data = non_pca_data.merge(num_bodyparts_used_by_user, on='ID', how='left')\n"
      ],
      "metadata": {
        "id": "qHjq0N0GcpPH"
      },
      "execution_count": null,
      "outputs": []
    },
    {
      "cell_type": "code",
      "source": [
        "# Variance of workout intensity by user\n",
        "\n",
        "intensity_variance_by_user = non_pca_data.groupby('ID')['Workout Intensity Level'].var().reset_index()\n",
        "intensity_variance_by_user.rename(columns = {'Workout Intensity Level': 'Variance_Workout_Intensity'}, inplace = True)\n",
        "non_pca_data = non_pca_data.merge(intensity_variance_by_user, on='ID', how='left')\n"
      ],
      "metadata": {
        "id": "rBr2lKPngBTg"
      },
      "execution_count": null,
      "outputs": []
    },
    {
      "cell_type": "code",
      "source": [
        "# Average BMI by bodypart\n",
        "# Average Age by bodypart\n",
        "# Unique exercises by bodypart\n",
        "\n",
        "bodypart_stats = non_pca_data.groupby('BodyPart').agg(\n",
        "    Avg_BMI_by_bodypart=('BMI', 'mean'),\n",
        "    Avg_Age_by_bodypart=('Age', 'mean'),\n",
        "    Unique_Exercises_by_bodypart=('Recommended Exercise', 'nunique')\n",
        ").reset_index()\n",
        "\n",
        "non_pca_data = non_pca_data.merge(bodypart_stats, on='BodyPart', how='left')\n"
      ],
      "metadata": {
        "id": "OtiCKjyJ0IKN"
      },
      "execution_count": null,
      "outputs": []
    },
    {
      "cell_type": "code",
      "source": [
        "# Age category of person\n",
        "# based on gym blog of dif workouts for dif ages\n",
        "\n",
        "non_pca_data[\"AgeRange\"] = pd.cut(\n",
        "    non_pca_data[\"Age\"],\n",
        "    bins=[11, 20, 30, 40, 50, 60, 70],\n",
        "    labels=[\"11-20\", \"21-30\", \"31-40\", \"41-50\", \"51-60\", \"61-70\"]\n",
        ")\n",
        "\n",
        "non_pca_data[\"AgeRange\"] = le.fit_transform(non_pca_data[\"AgeRange\"])"
      ],
      "metadata": {
        "id": "l_pFKama1W8I"
      },
      "execution_count": null,
      "outputs": []
    },
    {
      "cell_type": "code",
      "source": [
        "from sklearn.model_selection import train_test_split\n",
        "\n",
        "# Separate features and target variable\n",
        "X_no_pca = non_pca_data.drop(columns=['Recommended Exercise', 'ID'])\n",
        "y_no_pca = non_pca_data['Recommended Exercise']\n",
        "\n",
        "# Split the data into training, dev, and test sets\n",
        "# Since we have so much data (100,150 rows), we decided to do about 1,500 for the test set, 8,500 for dev, and the rest for training\n",
        "X_train_no_pca, X_temp_no_pca, y_train_no_pca, y_temp_no_pca = train_test_split(X_no_pca, y_no_pca, test_size=0.10, random_state=42)\n",
        "X_dev_no_pca, X_test_no_pca, y_dev_no_pca, y_test_no_pca = train_test_split(X_temp_no_pca, y_temp_no_pca, test_size=0.15, random_state=42)"
      ],
      "metadata": {
        "id": "A6MSHSUsY7T8"
      },
      "execution_count": null,
      "outputs": []
    },
    {
      "cell_type": "markdown",
      "source": [
        "# PCA Dataset, Dimension Reduction"
      ],
      "metadata": {
        "id": "0oCvx0AdT9my"
      }
    },
    {
      "cell_type": "code",
      "source": [
        "import pandas as pd\n",
        "from sklearn.model_selection import train_test_split\n",
        "from sklearn.preprocessing import StandardScaler, LabelEncoder\n",
        "from sklearn.decomposition import PCA\n",
        "from sklearn.linear_model import LogisticRegression\n",
        "from sklearn.metrics import classification_report, accuracy_score\n",
        "import matplotlib.pyplot as plt\n",
        "\n",
        "X = new_workout_recommendations.drop(columns=['Recommended Exercise', 'ID'])\n",
        "y = new_workout_recommendations['Recommended Exercise']\n",
        "\n",
        "X_train, X_temp, y_train, y_temp = train_test_split(X, y, test_size=0.10, random_state=42)\n",
        "X_dev, X_test, y_dev, y_test = train_test_split(X_temp, y_temp, test_size=0.15, random_state=42)\n",
        "\n",
        "# Standardize the data (must do for PCA)\n",
        "scaler = StandardScaler()\n",
        "X_train_scaled = scaler.fit_transform(X_train)\n",
        "\n",
        "# Apply PCA\n",
        "# We chose the number of PCs equal to the number of features\n",
        "# We can use the visual to narrow down our number (it's likely we want at least 95% variance explained)\n",
        "pca = PCA(n_components=X.shape[1])\n",
        "X_train_pca = pca.fit_transform(X_train_scaled)\n",
        "\n",
        "# Calculate the explained variance for each PC\n",
        "explained_variance_train = pca.explained_variance_ratio_\n",
        "\n",
        "# Calculate the cumulative explained variance\n",
        "cumulative_variance_train = pca.explained_variance_ratio_.cumsum()\n",
        "\n",
        "# Find the number of components that retain at least 95% variance\n",
        "n_components_95_train = (cumulative_variance_train >= 0.95).argmax() + 1\n",
        "\n",
        "# Visual\n",
        "plt.figure(figsize=(10, 6))\n",
        "plt.plot(range(1, len(explained_variance_train) + 1), explained_variance_train, marker='o', linestyle='--')\n",
        "plt.title('Explained Variance by Principal Components in Training Data')\n",
        "plt.xlabel(f'Principal Component ({n_components_95_train} PCs for at least 95% variance)')\n",
        "plt.ylabel('Variance Explained')\n",
        "plt.xticks(range(1, len(explained_variance_train) + 1))\n",
        "plt.grid()\n",
        "plt.show()"
      ],
      "metadata": {
        "colab": {
          "base_uri": "https://localhost:8080/",
          "height": 564
        },
        "id": "O8_U4tU24OxV",
        "outputId": "ba616829-fd8d-45bd-bdca-43839e1b61ac"
      },
      "execution_count": null,
      "outputs": [
        {
          "output_type": "display_data",
          "data": {
            "text/plain": [
              "<Figure size 1000x600 with 1 Axes>"
            ],
            "image/png": "[encoded data removed]"
          },
          "metadata": {}
        }
      ]
    },
    {
      "cell_type": "code",
      "source": [
        "# Apply PCA to the training data\n",
        "# I am assuming we will just decide to do PCA by retaining at least 95% of variance\n",
        "# Still good to have a visual\n",
        "pca = PCA(n_components=0.95)\n",
        "X_train_pca = pca.fit_transform(X_train_scaled)\n",
        "\n",
        "# Transform the dev and test data using the same PCA transformation (and scaling)\n",
        "X_dev_scaled = scaler.transform(X_dev)\n",
        "X_dev_pca = pca.transform(X_dev_scaled)\n",
        "\n",
        "X_test_scaled = scaler.transform(X_test)\n",
        "X_test_pca = pca.transform(X_test_scaled)"
      ],
      "metadata": {
        "id": "TfnZdnQ34RZR"
      },
      "execution_count": null,
      "outputs": []
    },
    {
      "cell_type": "code",
      "source": [
        "num_components = pca.n_components_\n",
        "print(num_components)"
      ],
      "metadata": {
        "colab": {
          "base_uri": "https://localhost:8080/"
        },
        "id": "_N5afA0nau0o",
        "outputId": "edfd2ddd-5d57-4374-c907-b4e8c1d25308"
      },
      "execution_count": null,
      "outputs": [
        {
          "output_type": "stream",
          "name": "stdout",
          "text": [
            "10\n"
          ]
        }
      ]
    },
    {
      "cell_type": "markdown",
      "source": [
        "# Decision Tree\n"
      ],
      "metadata": {
        "id": "CIaEtT1sQ9ml"
      }
    },
    {
      "cell_type": "markdown",
      "source": [
        "## PCA"
      ],
      "metadata": {
        "id": "hiq6Ebo-e0uH"
      }
    },
    {
      "cell_type": "code",
      "source": [
        "\n",
        "from sklearn.tree import DecisionTreeClassifier\n",
        "from sklearn.metrics import accuracy_score, precision_score\n",
        "\n",
        "# Initialize decision tree\n",
        "tree_clf = DecisionTreeClassifier(random_state=42, class_weight='balanced')\n",
        "\n",
        "# Fit to training data\n",
        "tree_clf.fit(X_train_pca, y_train)\n",
        "\n",
        "# Training data metrics\n",
        "y_train_pred = tree_clf.predict(X_train_pca)\n",
        "\n",
        "train_accuracy = accuracy_score(y_train, y_train_pred)\n",
        "train_precision = precision_score(y_train, y_train_pred, average='weighted')\n",
        "\n",
        "print(f\"Training Set Accuracy: {train_accuracy:.4f}\")\n",
        "print(f\"Training Set Precision: {train_precision:.4f}\")\n",
        "\n",
        "# Testing data metrics\n",
        "y_test_pred = tree_clf.predict(X_test_pca)\n",
        "\n",
        "test_accuracy = accuracy_score(y_test, y_test_pred)\n",
        "test_precision = precision_score(y_test, y_test_pred, average='weighted')\n",
        "\n",
        "print(f\"Test Set Accuracy: {test_accuracy:.4f}\")\n",
        "print(f\"Test Set Precision: {test_precision:.4f}\")\n"
      ],
      "metadata": {
        "colab": {
          "base_uri": "https://localhost:8080/"
        },
        "id": "FdEhzw8qSq8t",
        "outputId": "7e66869f-f644-469a-d88e-9a66a99f3d01"
      },
      "execution_count": null,
      "outputs": [
        {
          "output_type": "stream",
          "name": "stdout",
          "text": [
            "Training Set Accuracy: 0.9669\n",
            "Training Set Precision: 0.9793\n",
            "Test Set Accuracy: 0.9318\n",
            "Test Set Precision: 0.9517\n"
          ]
        }
      ]
    },
    {
      "cell_type": "markdown",
      "source": [
        "## Not PCA"
      ],
      "metadata": {
        "id": "uZSBQAuleSB2"
      }
    },
    {
      "cell_type": "code",
      "source": [
        "# Same process as above, with feature engineering data\n",
        "\n",
        "tree_clf = DecisionTreeClassifier(random_state=42, class_weight='balanced')\n",
        "\n",
        "tree_clf.fit(X_train_no_pca, y_train_no_pca)\n",
        "\n",
        "y_train_pred = tree_clf.predict(X_train_no_pca)\n",
        "\n",
        "train_accuracy = accuracy_score(y_train_no_pca, y_train_pred)\n",
        "train_precision = precision_score(y_train_no_pca, y_train_pred, average='weighted')\n",
        "\n",
        "print(f\"Training Set Accuracy: {train_accuracy:.4f}\")\n",
        "print(f\"Training Set Precision: {train_precision:.4f}\")\n",
        "\n",
        "y_test_pred = tree_clf.predict(X_test_no_pca)\n",
        "\n",
        "test_accuracy = accuracy_score(y_test_no_pca, y_test_pred)\n",
        "test_precision = precision_score(y_test_no_pca, y_test_pred, average='weighted')\n",
        "\n",
        "print(f\"Test Set Accuracy: {test_accuracy:.4f}\")\n",
        "print(f\"Test Set Precision: {test_precision:.4f}\")"
      ],
      "metadata": {
        "colab": {
          "base_uri": "https://localhost:8080/"
        },
        "id": "q8tTzInpcLmd",
        "outputId": "341e5a09-d14a-4dec-c403-f8d01d9fdf4d"
      },
      "execution_count": null,
      "outputs": [
        {
          "output_type": "stream",
          "name": "stdout",
          "text": [
            "Training Set Accuracy: 0.9669\n",
            "Training Set Precision: 0.9793\n",
            "Test Set Accuracy: 0.9428\n",
            "Test Set Precision: 0.9626\n"
          ]
        }
      ]
    },
    {
      "cell_type": "markdown",
      "source": [
        "# Neural Net"
      ],
      "metadata": {
        "id": "zjyPuMykhe54"
      }
    },
    {
      "cell_type": "code",
      "source": [
        "import tensorflow as tf\n",
        "from tensorflow.keras.models import Sequential\n",
        "from tensorflow.keras.layers import Dense, Dropout\n",
        "from tensorflow.keras.utils import to_categorical\n",
        "from tensorflow.keras.callbacks import EarlyStopping\n",
        "from sklearn.utils.class_weight import compute_class_weight\n",
        "from sklearn.metrics import precision_score\n",
        "\n",
        "tf.random.set_seed(0)"
      ],
      "metadata": {
        "id": "gGyl9Gd1aNoc"
      },
      "execution_count": null,
      "outputs": []
    },
    {
      "cell_type": "markdown",
      "source": [
        "## PCA"
      ],
      "metadata": {
        "id": "eVIALHXUeW_m"
      }
    },
    {
      "cell_type": "code",
      "source": [
        "# Class weights\n",
        "class_weights = compute_class_weight(\n",
        "    class_weight='balanced',\n",
        "    classes=np.unique(y_train),\n",
        "    y=y_train\n",
        ")\n",
        "\n",
        "class_weight_dict = dict(zip(np.unique(y_train), class_weights))"
      ],
      "metadata": {
        "id": "V2jvJwL6aThw"
      },
      "execution_count": null,
      "outputs": []
    },
    {
      "cell_type": "code",
      "source": [
        "# One-hot encoding of y\n",
        "y_train_encoded = to_categorical(y_train)\n",
        "y_dev_encoded = to_categorical(y_dev)\n",
        "y_test_encoded = to_categorical(y_test)"
      ],
      "metadata": {
        "id": "XLucJ1wmhsuK"
      },
      "execution_count": null,
      "outputs": []
    },
    {
      "cell_type": "code",
      "source": [
        "# Define\n",
        "nn_model_pca = Sequential([\n",
        "    # First layer\n",
        "    Dense(128, activation='relu', input_shape=(X_train_pca.shape[1],)),\n",
        "    Dropout(0.3),\n",
        "    # Second layer\n",
        "    Dense(64, activation='relu'),\n",
        "    Dropout(0.3),\n",
        "    # Output\n",
        "    Dense(y_train_encoded.shape[1], activation='softmax')\n",
        "])"
      ],
      "metadata": {
        "colab": {
          "base_uri": "https://localhost:8080/"
        },
        "id": "2ybBCJZ2hufO",
        "outputId": "09f0579a-09cb-46a8-ff5e-e1a6645eb528"
      },
      "execution_count": null,
      "outputs": [
        {
          "output_type": "stream",
          "name": "stderr",
          "text": [
            "/usr/local/lib/python3.10/dist-packages/keras/src/layers/core/dense.py:87: UserWarning: Do not pass an `input_shape`/`input_dim` argument to a layer. When using Sequential models, prefer using an `Input(shape)` object as the first layer in the model instead.\n",
            "  super().__init__(activity_regularizer=activity_regularizer, **kwargs)\n"
          ]
        }
      ]
    },
    {
      "cell_type": "code",
      "source": [
        "# Create model\n",
        "nn_model_pca.compile(\n",
        "    optimizer='adam',\n",
        "    loss='categorical_crossentropy',\n",
        "    metrics=['accuracy']\n",
        ")"
      ],
      "metadata": {
        "id": "rjOqB2Tp0LUp"
      },
      "execution_count": null,
      "outputs": []
    },
    {
      "cell_type": "code",
      "source": [
        "# Early stopping\n",
        "early_stopping = EarlyStopping(\n",
        "    monitor='val_loss',\n",
        "    patience=5,\n",
        "    restore_best_weights=True\n",
        ")"
      ],
      "metadata": {
        "id": "vCe8uUgmvFlv"
      },
      "execution_count": null,
      "outputs": []
    },
    {
      "cell_type": "code",
      "source": [
        "# Train\n",
        "history = nn_model_pca.fit(\n",
        "    X_train_pca, y_train_encoded,\n",
        "    validation_data=(X_dev_pca, y_dev_encoded),\n",
        "    # Large for early stopping\n",
        "    epochs=100,\n",
        "    batch_size=32,\n",
        "    callbacks=[early_stopping],\n",
        "    verbose=1,\n",
        "    class_weight=class_weight_dict,\n",
        ")"
      ],
      "metadata": {
        "colab": {
          "base_uri": "https://localhost:8080/"
        },
        "id": "pWi00W6Zhxdm",
        "outputId": "c2bacd0e-2767-4b5d-cb08-7d74999780b3"
      },
      "execution_count": null,
      "outputs": [
        {
          "output_type": "stream",
          "name": "stdout",
          "text": [
            "Epoch 1/100\n",
            "\u001b[1m2722/2722\u001b[0m \u001b[32m━━━━━━━━━━━━━━━━━━━━\u001b[0m\u001b[37m\u001b[0m \u001b[1m7s\u001b[0m 2ms/step - accuracy: 0.7409 - loss: 0.8017 - val_accuracy: 0.9641 - val_loss: 0.0680\n",
            "Epoch 2/100\n",
            "\u001b[1m2722/2722\u001b[0m \u001b[32m━━━━━━━━━━━━━━━━━━━━\u001b[0m\u001b[37m\u001b[0m \u001b[1m10s\u001b[0m 2ms/step - accuracy: 0.9607 - loss: 0.1588 - val_accuracy: 0.9643 - val_loss: 0.0655\n",
            "Epoch 3/100\n",
            "\u001b[1m2722/2722\u001b[0m \u001b[32m━━━━━━━━━━━━━━━━━━━━\u001b[0m\u001b[37m\u001b[0m \u001b[1m11s\u001b[0m 2ms/step - accuracy: 0.9631 - loss: 0.1462 - val_accuracy: 0.9643 - val_loss: 0.0640\n",
            "Epoch 4/100\n",
            "\u001b[1m2722/2722\u001b[0m \u001b[32m━━━━━━━━━━━━━━━━━━━━\u001b[0m\u001b[37m\u001b[0m \u001b[1m11s\u001b[0m 2ms/step - accuracy: 0.9633 - loss: 0.1418 - val_accuracy: 0.9643 - val_loss: 0.0648\n",
            "Epoch 5/100\n",
            "\u001b[1m2722/2722\u001b[0m \u001b[32m━━━━━━━━━━━━━━━━━━━━\u001b[0m\u001b[37m\u001b[0m \u001b[1m11s\u001b[0m 3ms/step - accuracy: 0.9643 - loss: 0.1393 - val_accuracy: 0.9644 - val_loss: 0.0638\n",
            "Epoch 6/100\n",
            "\u001b[1m2722/2722\u001b[0m \u001b[32m━━━━━━━━━━━━━━━━━━━━\u001b[0m\u001b[37m\u001b[0m \u001b[1m9s\u001b[0m 2ms/step - accuracy: 0.9639 - loss: 0.1385 - val_accuracy: 0.9644 - val_loss: 0.0640\n",
            "Epoch 7/100\n",
            "\u001b[1m2722/2722\u001b[0m \u001b[32m━━━━━━━━━━━━━━━━━━━━\u001b[0m\u001b[37m\u001b[0m \u001b[1m10s\u001b[0m 2ms/step - accuracy: 0.9637 - loss: 0.1381 - val_accuracy: 0.9645 - val_loss: 0.0644\n",
            "Epoch 8/100\n",
            "\u001b[1m2722/2722\u001b[0m \u001b[32m━━━━━━━━━━━━━━━━━━━━\u001b[0m\u001b[37m\u001b[0m \u001b[1m7s\u001b[0m 3ms/step - accuracy: 0.9652 - loss: 0.1370 - val_accuracy: 0.9644 - val_loss: 0.0639\n",
            "Epoch 9/100\n",
            "\u001b[1m2722/2722\u001b[0m \u001b[32m━━━━━━━━━━━━━━━━━━━━\u001b[0m\u001b[37m\u001b[0m \u001b[1m10s\u001b[0m 2ms/step - accuracy: 0.9644 - loss: 0.1369 - val_accuracy: 0.9645 - val_loss: 0.0639\n",
            "Epoch 10/100\n",
            "\u001b[1m2722/2722\u001b[0m \u001b[32m━━━━━━━━━━━━━━━━━━━━\u001b[0m\u001b[37m\u001b[0m \u001b[1m9s\u001b[0m 2ms/step - accuracy: 0.9641 - loss: 0.1375 - val_accuracy: 0.9645 - val_loss: 0.0636\n",
            "Epoch 11/100\n",
            "\u001b[1m2722/2722\u001b[0m \u001b[32m━━━━━━━━━━━━━━━━━━━━\u001b[0m\u001b[37m\u001b[0m \u001b[1m11s\u001b[0m 2ms/step - accuracy: 0.9643 - loss: 0.1359 - val_accuracy: 0.9645 - val_loss: 0.0644\n",
            "Epoch 12/100\n",
            "\u001b[1m2722/2722\u001b[0m \u001b[32m━━━━━━━━━━━━━━━━━━━━\u001b[0m\u001b[37m\u001b[0m \u001b[1m6s\u001b[0m 2ms/step - accuracy: 0.9647 - loss: 0.1366 - val_accuracy: 0.9645 - val_loss: 0.0640\n",
            "Epoch 13/100\n",
            "\u001b[1m2722/2722\u001b[0m \u001b[32m━━━━━━━━━━━━━━━━━━━━\u001b[0m\u001b[37m\u001b[0m \u001b[1m7s\u001b[0m 3ms/step - accuracy: 0.9640 - loss: 0.1373 - val_accuracy: 0.9645 - val_loss: 0.0642\n",
            "Epoch 14/100\n",
            "\u001b[1m2722/2722\u001b[0m \u001b[32m━━━━━━━━━━━━━━━━━━━━\u001b[0m\u001b[37m\u001b[0m \u001b[1m9s\u001b[0m 2ms/step - accuracy: 0.9647 - loss: 0.1368 - val_accuracy: 0.9645 - val_loss: 0.0641\n",
            "Epoch 15/100\n",
            "\u001b[1m2722/2722\u001b[0m \u001b[32m━━━━━━━━━━━━━━━━━━━━\u001b[0m\u001b[37m\u001b[0m \u001b[1m7s\u001b[0m 3ms/step - accuracy: 0.9648 - loss: 0.1362 - val_accuracy: 0.9645 - val_loss: 0.0645\n"
          ]
        }
      ]
    },
    {
      "cell_type": "code",
      "source": [
        "# Evaluate on test - accuracy\n",
        "test_loss, test_accuracy = nn_model_pca.evaluate(X_test_pca, y_test_encoded, verbose=1)\n",
        "print(f\"Test Accuracy: {test_accuracy:.4f}\")"
      ],
      "metadata": {
        "colab": {
          "base_uri": "https://localhost:8080/"
        },
        "id": "0Jv7FX_whhxM",
        "outputId": "e851e1fa-8ba8-461d-876a-84ea2804378e"
      },
      "execution_count": null,
      "outputs": [
        {
          "output_type": "stream",
          "name": "stdout",
          "text": [
            "\u001b[1m46/46\u001b[0m \u001b[32m━━━━━━━━━━━━━━━━━━━━\u001b[0m\u001b[37m\u001b[0m \u001b[1m0s\u001b[0m 1ms/step - accuracy: 0.9672 - loss: 0.0716\n",
            "Test Accuracy: 0.9628\n"
          ]
        }
      ]
    },
    {
      "cell_type": "code",
      "source": [
        "# Evaluate on test - precision\n",
        "y_test_pred_probs = nn_model_pca.predict(X_test_pca)\n",
        "y_test_pred = np.argmax(y_test_pred_probs, axis=1)"
      ],
      "metadata": {
        "id": "FRMNpZjCpcVn",
        "outputId": "c30394ae-a027-4b7b-a4ae-fd5a3ff28111",
        "colab": {
          "base_uri": "https://localhost:8080/"
        }
      },
      "execution_count": null,
      "outputs": [
        {
          "output_type": "stream",
          "name": "stdout",
          "text": [
            "\u001b[1m46/46\u001b[0m \u001b[32m━━━━━━━━━━━━━━━━━━━━\u001b[0m\u001b[37m\u001b[0m \u001b[1m0s\u001b[0m 2ms/step\n"
          ]
        }
      ]
    },
    {
      "cell_type": "code",
      "source": [
        "overall_precision = precision_score(y_test, y_test_pred, average = 'weighted')\n",
        "print(f\"Overall Precision: {overall_precision:.4f}\")"
      ],
      "metadata": {
        "colab": {
          "base_uri": "https://localhost:8080/"
        },
        "id": "2AXLs83_j52V",
        "outputId": "e373a6c1-c39e-406f-8a8d-39f3607988dd"
      },
      "execution_count": null,
      "outputs": [
        {
          "output_type": "stream",
          "name": "stdout",
          "text": [
            "Overall Precision: 0.9727\n"
          ]
        }
      ]
    },
    {
      "cell_type": "code",
      "source": [
        "# Evaluate on train\n",
        "train_loss, train_accuracy = nn_model_pca.evaluate(X_train_pca, y_train_encoded, verbose=1)\n",
        "print(f\"Train Accuracy: {train_accuracy:.4f}\")\n",
        "\n",
        "y_train_pred_probs = nn_model_pca.predict(X_train_pca)\n",
        "y_train_pred = np.argmax(y_train_pred_probs, axis=1)\n",
        "overall_precision = precision_score(y_train, y_train_pred, average = 'weighted')\n",
        "print(f\"Overall Precision: {overall_precision:.4f}\")"
      ],
      "metadata": {
        "id": "l7yxyQQIajS2",
        "colab": {
          "base_uri": "https://localhost:8080/"
        },
        "outputId": "d3601afb-221a-4ba5-c4a2-83b23d2e326e"
      },
      "execution_count": null,
      "outputs": [
        {
          "output_type": "stream",
          "name": "stdout",
          "text": [
            "\u001b[1m2722/2722\u001b[0m \u001b[32m━━━━━━━━━━━━━━━━━━━━\u001b[0m\u001b[37m\u001b[0m \u001b[1m4s\u001b[0m 1ms/step - accuracy: 0.9634 - loss: 0.0659\n",
            "Train Accuracy: 0.9651\n",
            "\u001b[1m2722/2722\u001b[0m \u001b[32m━━━━━━━━━━━━━━━━━━━━\u001b[0m\u001b[37m\u001b[0m \u001b[1m5s\u001b[0m 2ms/step\n",
            "Overall Precision: 0.9769\n"
          ]
        }
      ]
    },
    {
      "cell_type": "markdown",
      "source": [
        "## Not PCA"
      ],
      "metadata": {
        "id": "ZXiijh5ncgkf"
      }
    },
    {
      "cell_type": "code",
      "source": [
        "# Class weights\n",
        "class_weights = compute_class_weight(\n",
        "    class_weight='balanced',\n",
        "    classes=np.unique(y_train_no_pca),\n",
        "    y=y_train\n",
        ")\n",
        "\n",
        "class_weight_dict = dict(zip(np.unique(y_train_no_pca), class_weights))"
      ],
      "metadata": {
        "id": "1xZ55MSezSle"
      },
      "execution_count": null,
      "outputs": []
    },
    {
      "cell_type": "code",
      "source": [
        "# One-hot encoding of y\n",
        "y_train_encoded = to_categorical(y_train_no_pca)\n",
        "y_dev_encoded = to_categorical(y_dev_no_pca)\n",
        "y_test_encoded = to_categorical(y_test_no_pca)"
      ],
      "metadata": {
        "id": "SrSUcM5PzW6r"
      },
      "execution_count": null,
      "outputs": []
    },
    {
      "cell_type": "code",
      "source": [
        "# Define\n",
        "nn_model = Sequential([\n",
        "    # First layer\n",
        "    Dense(128, activation='relu', input_shape=(X_train_no_pca.shape[1],)),\n",
        "    Dropout(0.3),\n",
        "    # Second layer\n",
        "    Dense(64, activation='relu'),\n",
        "    Dropout(0.3),\n",
        "    # Output\n",
        "    Dense(y_train_encoded.shape[1], activation='softmax')\n",
        "])"
      ],
      "metadata": {
        "id": "PeBWRKLhckwI",
        "colab": {
          "base_uri": "https://localhost:8080/"
        },
        "outputId": "cae3b569-9b02-4b1d-dca7-3bbb2ad6b0ee"
      },
      "execution_count": null,
      "outputs": [
        {
          "output_type": "stream",
          "name": "stderr",
          "text": [
            "/usr/local/lib/python3.10/dist-packages/keras/src/layers/core/dense.py:87: UserWarning: Do not pass an `input_shape`/`input_dim` argument to a layer. When using Sequential models, prefer using an `Input(shape)` object as the first layer in the model instead.\n",
            "  super().__init__(activity_regularizer=activity_regularizer, **kwargs)\n"
          ]
        }
      ]
    },
    {
      "cell_type": "code",
      "source": [
        "# Create model\n",
        "nn_model.compile(\n",
        "    optimizer='adam',\n",
        "    loss='categorical_crossentropy',\n",
        "    metrics=['accuracy']\n",
        ")"
      ],
      "metadata": {
        "id": "mmxhjJGzctft"
      },
      "execution_count": null,
      "outputs": []
    },
    {
      "cell_type": "code",
      "source": [
        "# Early stopping\n",
        "early_stopping = EarlyStopping(\n",
        "    monitor='val_loss',\n",
        "    patience=5,\n",
        "    restore_best_weights=True\n",
        ")"
      ],
      "metadata": {
        "id": "AzuGC1sHcxMD"
      },
      "execution_count": null,
      "outputs": []
    },
    {
      "cell_type": "code",
      "source": [
        "# Train\n",
        "history = nn_model.fit(\n",
        "    X_train_no_pca, y_train_encoded,\n",
        "    validation_data=(X_dev_no_pca, y_dev_encoded),\n",
        "    # Large for early stopping\n",
        "    epochs=100,\n",
        "    batch_size=32,\n",
        "    callbacks=[early_stopping],\n",
        "    verbose=1\n",
        ")"
      ],
      "metadata": {
        "colab": {
          "base_uri": "https://localhost:8080/"
        },
        "id": "MZj6tzuIc0F8",
        "outputId": "d1f61c49-a24c-47f1-fbce-45b79172b595"
      },
      "execution_count": null,
      "outputs": [
        {
          "output_type": "stream",
          "name": "stdout",
          "text": [
            "Epoch 1/100\n",
            "\u001b[1m2722/2722\u001b[0m \u001b[32m━━━━━━━━━━━━━━━━━━━━\u001b[0m\u001b[37m\u001b[0m \u001b[1m7s\u001b[0m 2ms/step - accuracy: 0.1195 - loss: 3.6125 - val_accuracy: 0.5751 - val_loss: 1.0790\n",
            "Epoch 2/100\n",
            "\u001b[1m2722/2722\u001b[0m \u001b[32m━━━━━━━━━━━━━━━━━━━━\u001b[0m\u001b[37m\u001b[0m \u001b[1m10s\u001b[0m 2ms/step - accuracy: 0.5863 - loss: 1.0236 - val_accuracy: 0.9478 - val_loss: 0.1576\n",
            "Epoch 3/100\n",
            "\u001b[1m2722/2722\u001b[0m \u001b[32m━━━━━━━━━━━━━━━━━━━━\u001b[0m\u001b[37m\u001b[0m \u001b[1m7s\u001b[0m 3ms/step - accuracy: 0.8950 - loss: 0.2990 - val_accuracy: 0.9673 - val_loss: 0.0892\n",
            "Epoch 4/100\n",
            "\u001b[1m2722/2722\u001b[0m \u001b[32m━━━━━━━━━━━━━━━━━━━━\u001b[0m\u001b[37m\u001b[0m \u001b[1m6s\u001b[0m 2ms/step - accuracy: 0.9295 - loss: 0.1930 - val_accuracy: 0.9678 - val_loss: 0.0699\n",
            "Epoch 5/100\n",
            "\u001b[1m2722/2722\u001b[0m \u001b[32m━━━━━━━━━━━━━━━━━━━━\u001b[0m\u001b[37m\u001b[0m \u001b[1m7s\u001b[0m 2ms/step - accuracy: 0.9378 - loss: 0.1633 - val_accuracy: 0.9678 - val_loss: 0.0634\n",
            "Epoch 6/100\n",
            "\u001b[1m2722/2722\u001b[0m \u001b[32m━━━━━━━━━━━━━━━━━━━━\u001b[0m\u001b[37m\u001b[0m \u001b[1m9s\u001b[0m 2ms/step - accuracy: 0.9378 - loss: 0.1580 - val_accuracy: 0.9678 - val_loss: 0.0626\n",
            "Epoch 7/100\n",
            "\u001b[1m2722/2722\u001b[0m \u001b[32m━━━━━━━━━━━━━━━━━━━━\u001b[0m\u001b[37m\u001b[0m \u001b[1m10s\u001b[0m 2ms/step - accuracy: 0.9440 - loss: 0.1320 - val_accuracy: 0.9678 - val_loss: 0.0571\n",
            "Epoch 8/100\n",
            "\u001b[1m2722/2722\u001b[0m \u001b[32m━━━━━━━━━━━━━━━━━━━━\u001b[0m\u001b[37m\u001b[0m \u001b[1m11s\u001b[0m 2ms/step - accuracy: 0.9464 - loss: 0.1264 - val_accuracy: 0.9671 - val_loss: 0.0579\n",
            "Epoch 9/100\n",
            "\u001b[1m2722/2722\u001b[0m \u001b[32m━━━━━━━━━━━━━━━━━━━━\u001b[0m\u001b[37m\u001b[0m \u001b[1m11s\u001b[0m 3ms/step - accuracy: 0.9465 - loss: 0.1249 - val_accuracy: 0.9678 - val_loss: 0.0571\n",
            "Epoch 10/100\n",
            "\u001b[1m2722/2722\u001b[0m \u001b[32m━━━━━━━━━━━━━━━━━━━━\u001b[0m\u001b[37m\u001b[0m \u001b[1m12s\u001b[0m 3ms/step - accuracy: 0.9427 - loss: 0.1349 - val_accuracy: 0.9678 - val_loss: 0.0572\n",
            "Epoch 11/100\n",
            "\u001b[1m2722/2722\u001b[0m \u001b[32m━━━━━━━━━━━━━━━━━━━━\u001b[0m\u001b[37m\u001b[0m \u001b[1m6s\u001b[0m 2ms/step - accuracy: 0.9472 - loss: 0.1162 - val_accuracy: 0.9681 - val_loss: 0.0579\n",
            "Epoch 12/100\n",
            "\u001b[1m2722/2722\u001b[0m \u001b[32m━━━━━━━━━━━━━━━━━━━━\u001b[0m\u001b[37m\u001b[0m \u001b[1m8s\u001b[0m 3ms/step - accuracy: 0.9477 - loss: 0.1195 - val_accuracy: 0.9678 - val_loss: 0.0567\n",
            "Epoch 13/100\n",
            "\u001b[1m2722/2722\u001b[0m \u001b[32m━━━━━━━━━━━━━━━━━━━━\u001b[0m\u001b[37m\u001b[0m \u001b[1m6s\u001b[0m 2ms/step - accuracy: 0.9455 - loss: 0.1257 - val_accuracy: 0.9679 - val_loss: 0.0566\n",
            "Epoch 14/100\n",
            "\u001b[1m2722/2722\u001b[0m \u001b[32m━━━━━━━━━━━━━━━━━━━━\u001b[0m\u001b[37m\u001b[0m \u001b[1m12s\u001b[0m 3ms/step - accuracy: 0.9441 - loss: 0.1296 - val_accuracy: 0.9678 - val_loss: 0.0574\n",
            "Epoch 15/100\n",
            "\u001b[1m2722/2722\u001b[0m \u001b[32m━━━━━━━━━━━━━━━━━━━━\u001b[0m\u001b[37m\u001b[0m \u001b[1m8s\u001b[0m 2ms/step - accuracy: 0.9494 - loss: 0.1130 - val_accuracy: 0.9667 - val_loss: 0.0570\n",
            "Epoch 16/100\n",
            "\u001b[1m2722/2722\u001b[0m \u001b[32m━━━━━━━━━━━━━━━━━━━━\u001b[0m\u001b[37m\u001b[0m \u001b[1m7s\u001b[0m 3ms/step - accuracy: 0.9484 - loss: 0.1161 - val_accuracy: 0.9678 - val_loss: 0.0571\n",
            "Epoch 17/100\n",
            "\u001b[1m2722/2722\u001b[0m \u001b[32m━━━━━━━━━━━━━━━━━━━━\u001b[0m\u001b[37m\u001b[0m \u001b[1m5s\u001b[0m 2ms/step - accuracy: 0.9489 - loss: 0.1165 - val_accuracy: 0.9645 - val_loss: 0.0578\n",
            "Epoch 18/100\n",
            "\u001b[1m2722/2722\u001b[0m \u001b[32m━━━━━━━━━━━━━━━━━━━━\u001b[0m\u001b[37m\u001b[0m \u001b[1m7s\u001b[0m 2ms/step - accuracy: 0.9482 - loss: 0.1209 - val_accuracy: 0.9645 - val_loss: 0.0568\n"
          ]
        }
      ]
    },
    {
      "cell_type": "code",
      "source": [
        "# Evaluate on test - accuracy\n",
        "test_loss, test_accuracy = nn_model.evaluate(X_test_no_pca, y_test_encoded, verbose=1)\n",
        "print(f\"Test Accuracy: {test_accuracy:.4f}\")"
      ],
      "metadata": {
        "id": "kaQbcp5jc5hH",
        "colab": {
          "base_uri": "https://localhost:8080/"
        },
        "outputId": "1572a26a-f5c2-432b-a76a-8c7ac3f33d13"
      },
      "execution_count": null,
      "outputs": [
        {
          "output_type": "stream",
          "name": "stdout",
          "text": [
            "\u001b[1m46/46\u001b[0m \u001b[32m━━━━━━━━━━━━━━━━━━━━\u001b[0m\u001b[37m\u001b[0m \u001b[1m0s\u001b[0m 1ms/step - accuracy: 0.9648 - loss: 0.0620\n",
            "Test Accuracy: 0.9656\n"
          ]
        }
      ]
    },
    {
      "cell_type": "code",
      "source": [
        "# Evaluate on test - precision\n",
        "\n",
        "y_test_pred_probs = nn_model.predict(X_test_no_pca)\n",
        "y_test_pred = np.argmax(y_test_pred_probs, axis=1)"
      ],
      "metadata": {
        "colab": {
          "base_uri": "https://localhost:8080/"
        },
        "id": "_sPhEC9vncIR",
        "outputId": "7eab67cb-4f65-4f41-9ff9-0925b13ee0d7"
      },
      "execution_count": null,
      "outputs": [
        {
          "output_type": "stream",
          "name": "stdout",
          "text": [
            "\u001b[1m46/46\u001b[0m \u001b[32m━━━━━━━━━━━━━━━━━━━━\u001b[0m\u001b[37m\u001b[0m \u001b[1m0s\u001b[0m 2ms/step\n"
          ]
        }
      ]
    },
    {
      "cell_type": "code",
      "source": [
        "overall_precision = precision_score(y_test_no_pca, y_test_pred, average = 'weighted')\n",
        "print(f\"Overall Precision: {overall_precision:.4f}\")"
      ],
      "metadata": {
        "id": "hVvMb-74c9G9",
        "colab": {
          "base_uri": "https://localhost:8080/"
        },
        "outputId": "88b887ea-36c9-4d03-d3e3-93f2158def73"
      },
      "execution_count": null,
      "outputs": [
        {
          "output_type": "stream",
          "name": "stdout",
          "text": [
            "Overall Precision: 0.9429\n"
          ]
        },
        {
          "output_type": "stream",
          "name": "stderr",
          "text": [
            "/usr/local/lib/python3.10/dist-packages/sklearn/metrics/_classification.py:1531: UndefinedMetricWarning: Precision is ill-defined and being set to 0.0 in labels with no predicted samples. Use `zero_division` parameter to control this behavior.\n",
            "  _warn_prf(average, modifier, f\"{metric.capitalize()} is\", len(result))\n"
          ]
        }
      ]
    },
    {
      "cell_type": "code",
      "source": [
        "# Evaluate on train\n",
        "train_loss, train_accuracy = nn_model.evaluate(X_train_no_pca, y_train_encoded, verbose=1)\n",
        "print(f\"Train Accuracy: {train_accuracy:.4f}\")\n",
        "\n",
        "y_train_pred_probs = nn_model.predict(X_train_no_pca)\n",
        "y_train_pred = np.argmax(y_train_pred_probs, axis=1)\n",
        "overall_precision = precision_score(y_train_no_pca, y_train_pred, average = 'weighted')\n",
        "print(f\"Overall Precision: {overall_precision:.4f}\")"
      ],
      "metadata": {
        "id": "KVvj7jQizi02",
        "colab": {
          "base_uri": "https://localhost:8080/"
        },
        "outputId": "a00d7b97-e2bf-49a4-c0f8-1a32ecac1abd"
      },
      "execution_count": null,
      "outputs": [
        {
          "output_type": "stream",
          "name": "stdout",
          "text": [
            "\u001b[1m2722/2722\u001b[0m \u001b[32m━━━━━━━━━━━━━━━━━━━━\u001b[0m\u001b[37m\u001b[0m \u001b[1m4s\u001b[0m 1ms/step - accuracy: 0.9641 - loss: 0.0603\n",
            "Train Accuracy: 0.9648\n",
            "\u001b[1m2722/2722\u001b[0m \u001b[32m━━━━━━━━━━━━━━━━━━━━\u001b[0m\u001b[37m\u001b[0m \u001b[1m4s\u001b[0m 1ms/step\n",
            "Overall Precision: 0.9461\n"
          ]
        },
        {
          "output_type": "stream",
          "name": "stderr",
          "text": [
            "/usr/local/lib/python3.10/dist-packages/sklearn/metrics/_classification.py:1531: UndefinedMetricWarning: Precision is ill-defined and being set to 0.0 in labels with no predicted samples. Use `zero_division` parameter to control this behavior.\n",
            "  _warn_prf(average, modifier, f\"{metric.capitalize()} is\", len(result))\n"
          ]
        }
      ]
    },
    {
      "cell_type": "markdown",
      "source": [
        "# SVM"
      ],
      "metadata": {
        "id": "IqZhXmCGT_p3"
      }
    },
    {
      "cell_type": "markdown",
      "source": [
        "## PCA"
      ],
      "metadata": {
        "id": "GZb5vecsedUm"
      }
    },
    {
      "cell_type": "code",
      "source": [
        "from sklearn.svm import SVC\n",
        "from sklearn.metrics import classification_report\n",
        "from sklearn.model_selection import GridSearchCV"
      ],
      "metadata": {
        "id": "M-fl9q8WLpNs"
      },
      "execution_count": null,
      "outputs": []
    },
    {
      "cell_type": "code",
      "source": [
        "# Train RBF kernel\n",
        "svm_model = SVC(class_weight = 'balanced', kernel='rbf', C=1.0, gamma='scale')\n",
        "svm_model.fit(X_train_pca, y_train)"
      ],
      "metadata": {
        "id": "eqJA0rjOLxav",
        "colab": {
          "base_uri": "https://localhost:8080/",
          "height": 80
        },
        "outputId": "3b1f5533-84f9-407a-fc7e-8806cd42423e"
      },
      "execution_count": null,
      "outputs": [
        {
          "output_type": "execute_result",
          "data": {
            "text/plain": [
              "SVC(class_weight='balanced')"
            ],
            "text/html": [
              "<style>#sk-container-id-1 {\n",
              "  /* Definition of color scheme common for light and dark mode */\n",
              "  --sklearn-color-text: black;\n",
              "  --sklearn-color-line: gray;\n",
              "  /* Definition of color scheme for unfitted estimators */\n",
              "  --sklearn-color-unfitted-level-0: #fff5e6;\n",
              "  --sklearn-color-unfitted-level-1: #f6e4d2;\n",
              "  --sklearn-color-unfitted-level-2: #ffe0b3;\n",
              "  --sklearn-color-unfitted-level-3: chocolate;\n",
              "  /* Definition of color scheme for fitted estimators */\n",
              "  --sklearn-color-fitted-level-0: #f0f8ff;\n",
              "  --sklearn-color-fitted-level-1: #d4ebff;\n",
              "  --sklearn-color-fitted-level-2: #b3dbfd;\n",
              "  --sklearn-color-fitted-level-3: cornflowerblue;\n",
              "\n",
              "  /* Specific color for light theme */\n",
              "  --sklearn-color-text-on-default-background: var(--sg-text-color, var(--theme-code-foreground, var(--jp-content-font-color1, black)));\n",
              "  --sklearn-color-background: var(--sg-background-color, var(--theme-background, var(--jp-layout-color0, white)));\n",
              "  --sklearn-color-border-box: var(--sg-text-color, var(--theme-code-foreground, var(--jp-content-font-color1, black)));\n",
              "  --sklearn-color-icon: #696969;\n",
              "\n",
              "  @media (prefers-color-scheme: dark) {\n",
              "    /* Redefinition of color scheme for dark theme */\n",
              "    --sklearn-color-text-on-default-background: var(--sg-text-color, var(--theme-code-foreground, var(--jp-content-font-color1, white)));\n",
              "    --sklearn-color-background: var(--sg-background-color, var(--theme-background, var(--jp-layout-color0, #111)));\n",
              "    --sklearn-color-border-box: var(--sg-text-color, var(--theme-code-foreground, var(--jp-content-font-color1, white)));\n",
              "    --sklearn-color-icon: #878787;\n",
              "  }\n",
              "}\n",
              "\n",
              "#sk-container-id-1 {\n",
              "  color: var(--sklearn-color-text);\n",
              "}\n",
              "\n",
              "#sk-container-id-1 pre {\n",
              "  padding: 0;\n",
              "}\n",
              "\n",
              "#sk-container-id-1 input.sk-hidden--visually {\n",
              "  border: 0;\n",
              "  clip: rect(1px 1px 1px 1px);\n",
              "  clip: rect(1px, 1px, 1px, 1px);\n",
              "  height: 1px;\n",
              "  margin: -1px;\n",
              "  overflow: hidden;\n",
              "  padding: 0;\n",
              "  position: absolute;\n",
              "  width: 1px;\n",
              "}\n",
              "\n",
              "#sk-container-id-1 div.sk-dashed-wrapped {\n",
              "  border: 1px dashed var(--sklearn-color-line);\n",
              "  margin: 0 0.4em 0.5em 0.4em;\n",
              "  box-sizing: border-box;\n",
              "  padding-bottom: 0.4em;\n",
              "  background-color: var(--sklearn-color-background);\n",
              "}\n",
              "\n",
              "#sk-container-id-1 div.sk-container {\n",
              "  /* jupyter's `normalize.less` sets `[hidden] { display: none; }`\n",
              "     but bootstrap.min.css set `[hidden] { display: none !important; }`\n",
              "     so we also need the `!important` here to be able to override the\n",
              "     default hidden behavior on the sphinx rendered scikit-learn.org.\n",
              "     See: https://github.com/scikit-learn/scikit-learn/issues/21755 */\n",
              "  display: inline-block !important;\n",
              "  position: relative;\n",
              "}\n",
              "\n",
              "#sk-container-id-1 div.sk-text-repr-fallback {\n",
              "  display: none;\n",
              "}\n",
              "\n",
              "div.sk-parallel-item,\n",
              "div.sk-serial,\n",
              "div.sk-item {\n",
              "  /* draw centered vertical line to link estimators */\n",
              "  background-image: linear-gradient(var(--sklearn-color-text-on-default-background), var(--sklearn-color-text-on-default-background));\n",
              "  background-size: 2px 100%;\n",
              "  background-repeat: no-repeat;\n",
              "  background-position: center center;\n",
              "}\n",
              "\n",
              "/* Parallel-specific style estimator block */\n",
              "\n",
              "#sk-container-id-1 div.sk-parallel-item::after {\n",
              "  content: \"\";\n",
              "  width: 100%;\n",
              "  border-bottom: 2px solid var(--sklearn-color-text-on-default-background);\n",
              "  flex-grow: 1;\n",
              "}\n",
              "\n",
              "#sk-container-id-1 div.sk-parallel {\n",
              "  display: flex;\n",
              "  align-items: stretch;\n",
              "  justify-content: center;\n",
              "  background-color: var(--sklearn-color-background);\n",
              "  position: relative;\n",
              "}\n",
              "\n",
              "#sk-container-id-1 div.sk-parallel-item {\n",
              "  display: flex;\n",
              "  flex-direction: column;\n",
              "}\n",
              "\n",
              "#sk-container-id-1 div.sk-parallel-item:first-child::after {\n",
              "  align-self: flex-end;\n",
              "  width: 50%;\n",
              "}\n",
              "\n",
              "#sk-container-id-1 div.sk-parallel-item:last-child::after {\n",
              "  align-self: flex-start;\n",
              "  width: 50%;\n",
              "}\n",
              "\n",
              "#sk-container-id-1 div.sk-parallel-item:only-child::after {\n",
              "  width: 0;\n",
              "}\n",
              "\n",
              "/* Serial-specific style estimator block */\n",
              "\n",
              "#sk-container-id-1 div.sk-serial {\n",
              "  display: flex;\n",
              "  flex-direction: column;\n",
              "  align-items: center;\n",
              "  background-color: var(--sklearn-color-background);\n",
              "  padding-right: 1em;\n",
              "  padding-left: 1em;\n",
              "}\n",
              "\n",
              "\n",
              "/* Toggleable style: style used for estimator/Pipeline/ColumnTransformer box that is\n",
              "clickable and can be expanded/collapsed.\n",
              "- Pipeline and ColumnTransformer use this feature and define the default style\n",
              "- Estimators will overwrite some part of the style using the `sk-estimator` class\n",
              "*/\n",
              "\n",
              "/* Pipeline and ColumnTransformer style (default) */\n",
              "\n",
              "#sk-container-id-1 div.sk-toggleable {\n",
              "  /* Default theme specific background. It is overwritten whether we have a\n",
              "  specific estimator or a Pipeline/ColumnTransformer */\n",
              "  background-color: var(--sklearn-color-background);\n",
              "}\n",
              "\n",
              "/* Toggleable label */\n",
              "#sk-container-id-1 label.sk-toggleable__label {\n",
              "  cursor: pointer;\n",
              "  display: block;\n",
              "  width: 100%;\n",
              "  margin-bottom: 0;\n",
              "  padding: 0.5em;\n",
              "  box-sizing: border-box;\n",
              "  text-align: center;\n",
              "}\n",
              "\n",
              "#sk-container-id-1 label.sk-toggleable__label-arrow:before {\n",
              "  /* Arrow on the left of the label */\n",
              "  content: \"▸\";\n",
              "  float: left;\n",
              "  margin-right: 0.25em;\n",
              "  color: var(--sklearn-color-icon);\n",
              "}\n",
              "\n",
              "#sk-container-id-1 label.sk-toggleable__label-arrow:hover:before {\n",
              "  color: var(--sklearn-color-text);\n",
              "}\n",
              "\n",
              "/* Toggleable content - dropdown */\n",
              "\n",
              "#sk-container-id-1 div.sk-toggleable__content {\n",
              "  max-height: 0;\n",
              "  max-width: 0;\n",
              "  overflow: hidden;\n",
              "  text-align: left;\n",
              "  /* unfitted */\n",
              "  background-color: var(--sklearn-color-unfitted-level-0);\n",
              "}\n",
              "\n",
              "#sk-container-id-1 div.sk-toggleable__content.fitted {\n",
              "  /* fitted */\n",
              "  background-color: var(--sklearn-color-fitted-level-0);\n",
              "}\n",
              "\n",
              "#sk-container-id-1 div.sk-toggleable__content pre {\n",
              "  margin: 0.2em;\n",
              "  border-radius: 0.25em;\n",
              "  color: var(--sklearn-color-text);\n",
              "  /* unfitted */\n",
              "  background-color: var(--sklearn-color-unfitted-level-0);\n",
              "}\n",
              "\n",
              "#sk-container-id-1 div.sk-toggleable__content.fitted pre {\n",
              "  /* unfitted */\n",
              "  background-color: var(--sklearn-color-fitted-level-0);\n",
              "}\n",
              "\n",
              "#sk-container-id-1 input.sk-toggleable__control:checked~div.sk-toggleable__content {\n",
              "  /* Expand drop-down */\n",
              "  max-height: 200px;\n",
              "  max-width: 100%;\n",
              "  overflow: auto;\n",
              "}\n",
              "\n",
              "#sk-container-id-1 input.sk-toggleable__control:checked~label.sk-toggleable__label-arrow:before {\n",
              "  content: \"▾\";\n",
              "}\n",
              "\n",
              "/* Pipeline/ColumnTransformer-specific style */\n",
              "\n",
              "#sk-container-id-1 div.sk-label input.sk-toggleable__control:checked~label.sk-toggleable__label {\n",
              "  color: var(--sklearn-color-text);\n",
              "  background-color: var(--sklearn-color-unfitted-level-2);\n",
              "}\n",
              "\n",
              "#sk-container-id-1 div.sk-label.fitted input.sk-toggleable__control:checked~label.sk-toggleable__label {\n",
              "  background-color: var(--sklearn-color-fitted-level-2);\n",
              "}\n",
              "\n",
              "/* Estimator-specific style */\n",
              "\n",
              "/* Colorize estimator box */\n",
              "#sk-container-id-1 div.sk-estimator input.sk-toggleable__control:checked~label.sk-toggleable__label {\n",
              "  /* unfitted */\n",
              "  background-color: var(--sklearn-color-unfitted-level-2);\n",
              "}\n",
              "\n",
              "#sk-container-id-1 div.sk-estimator.fitted input.sk-toggleable__control:checked~label.sk-toggleable__label {\n",
              "  /* fitted */\n",
              "  background-color: var(--sklearn-color-fitted-level-2);\n",
              "}\n",
              "\n",
              "#sk-container-id-1 div.sk-label label.sk-toggleable__label,\n",
              "#sk-container-id-1 div.sk-label label {\n",
              "  /* The background is the default theme color */\n",
              "  color: var(--sklearn-color-text-on-default-background);\n",
              "}\n",
              "\n",
              "/* On hover, darken the color of the background */\n",
              "#sk-container-id-1 div.sk-label:hover label.sk-toggleable__label {\n",
              "  color: var(--sklearn-color-text);\n",
              "  background-color: var(--sklearn-color-unfitted-level-2);\n",
              "}\n",
              "\n",
              "/* Label box, darken color on hover, fitted */\n",
              "#sk-container-id-1 div.sk-label.fitted:hover label.sk-toggleable__label.fitted {\n",
              "  color: var(--sklearn-color-text);\n",
              "  background-color: var(--sklearn-color-fitted-level-2);\n",
              "}\n",
              "\n",
              "/* Estimator label */\n",
              "\n",
              "#sk-container-id-1 div.sk-label label {\n",
              "  font-family: monospace;\n",
              "  font-weight: bold;\n",
              "  display: inline-block;\n",
              "  line-height: 1.2em;\n",
              "}\n",
              "\n",
              "#sk-container-id-1 div.sk-label-container {\n",
              "  text-align: center;\n",
              "}\n",
              "\n",
              "/* Estimator-specific */\n",
              "#sk-container-id-1 div.sk-estimator {\n",
              "  font-family: monospace;\n",
              "  border: 1px dotted var(--sklearn-color-border-box);\n",
              "  border-radius: 0.25em;\n",
              "  box-sizing: border-box;\n",
              "  margin-bottom: 0.5em;\n",
              "  /* unfitted */\n",
              "  background-color: var(--sklearn-color-unfitted-level-0);\n",
              "}\n",
              "\n",
              "#sk-container-id-1 div.sk-estimator.fitted {\n",
              "  /* fitted */\n",
              "  background-color: var(--sklearn-color-fitted-level-0);\n",
              "}\n",
              "\n",
              "/* on hover */\n",
              "#sk-container-id-1 div.sk-estimator:hover {\n",
              "  /* unfitted */\n",
              "  background-color: var(--sklearn-color-unfitted-level-2);\n",
              "}\n",
              "\n",
              "#sk-container-id-1 div.sk-estimator.fitted:hover {\n",
              "  /* fitted */\n",
              "  background-color: var(--sklearn-color-fitted-level-2);\n",
              "}\n",
              "\n",
              "/* Specification for estimator info (e.g. \"i\" and \"?\") */\n",
              "\n",
              "/* Common style for \"i\" and \"?\" */\n",
              "\n",
              ".sk-estimator-doc-link,\n",
              "a:link.sk-estimator-doc-link,\n",
              "a:visited.sk-estimator-doc-link {\n",
              "  float: right;\n",
              "  font-size: smaller;\n",
              "  line-height: 1em;\n",
              "  font-family: monospace;\n",
              "  background-color: var(--sklearn-color-background);\n",
              "  border-radius: 1em;\n",
              "  height: 1em;\n",
              "  width: 1em;\n",
              "  text-decoration: none !important;\n",
              "  margin-left: 1ex;\n",
              "  /* unfitted */\n",
              "  border: var(--sklearn-color-unfitted-level-1) 1pt solid;\n",
              "  color: var(--sklearn-color-unfitted-level-1);\n",
              "}\n",
              "\n",
              ".sk-estimator-doc-link.fitted,\n",
              "a:link.sk-estimator-doc-link.fitted,\n",
              "a:visited.sk-estimator-doc-link.fitted {\n",
              "  /* fitted */\n",
              "  border: var(--sklearn-color-fitted-level-1) 1pt solid;\n",
              "  color: var(--sklearn-color-fitted-level-1);\n",
              "}\n",
              "\n",
              "/* On hover */\n",
              "div.sk-estimator:hover .sk-estimator-doc-link:hover,\n",
              ".sk-estimator-doc-link:hover,\n",
              "div.sk-label-container:hover .sk-estimator-doc-link:hover,\n",
              ".sk-estimator-doc-link:hover {\n",
              "  /* unfitted */\n",
              "  background-color: var(--sklearn-color-unfitted-level-3);\n",
              "  color: var(--sklearn-color-background);\n",
              "  text-decoration: none;\n",
              "}\n",
              "\n",
              "div.sk-estimator.fitted:hover .sk-estimator-doc-link.fitted:hover,\n",
              ".sk-estimator-doc-link.fitted:hover,\n",
              "div.sk-label-container:hover .sk-estimator-doc-link.fitted:hover,\n",
              ".sk-estimator-doc-link.fitted:hover {\n",
              "  /* fitted */\n",
              "  background-color: var(--sklearn-color-fitted-level-3);\n",
              "  color: var(--sklearn-color-background);\n",
              "  text-decoration: none;\n",
              "}\n",
              "\n",
              "/* Span, style for the box shown on hovering the info icon */\n",
              ".sk-estimator-doc-link span {\n",
              "  display: none;\n",
              "  z-index: 9999;\n",
              "  position: relative;\n",
              "  font-weight: normal;\n",
              "  right: .2ex;\n",
              "  padding: .5ex;\n",
              "  margin: .5ex;\n",
              "  width: min-content;\n",
              "  min-width: 20ex;\n",
              "  max-width: 50ex;\n",
              "  color: var(--sklearn-color-text);\n",
              "  box-shadow: 2pt 2pt 4pt #999;\n",
              "  /* unfitted */\n",
              "  background: var(--sklearn-color-unfitted-level-0);\n",
              "  border: .5pt solid var(--sklearn-color-unfitted-level-3);\n",
              "}\n",
              "\n",
              ".sk-estimator-doc-link.fitted span {\n",
              "  /* fitted */\n",
              "  background: var(--sklearn-color-fitted-level-0);\n",
              "  border: var(--sklearn-color-fitted-level-3);\n",
              "}\n",
              "\n",
              ".sk-estimator-doc-link:hover span {\n",
              "  display: block;\n",
              "}\n",
              "\n",
              "/* \"?\"-specific style due to the `<a>` HTML tag */\n",
              "\n",
              "#sk-container-id-1 a.estimator_doc_link {\n",
              "  float: right;\n",
              "  font-size: 1rem;\n",
              "  line-height: 1em;\n",
              "  font-family: monospace;\n",
              "  background-color: var(--sklearn-color-background);\n",
              "  border-radius: 1rem;\n",
              "  height: 1rem;\n",
              "  width: 1rem;\n",
              "  text-decoration: none;\n",
              "  /* unfitted */\n",
              "  color: var(--sklearn-color-unfitted-level-1);\n",
              "  border: var(--sklearn-color-unfitted-level-1) 1pt solid;\n",
              "}\n",
              "\n",
              "#sk-container-id-1 a.estimator_doc_link.fitted {\n",
              "  /* fitted */\n",
              "  border: var(--sklearn-color-fitted-level-1) 1pt solid;\n",
              "  color: var(--sklearn-color-fitted-level-1);\n",
              "}\n",
              "\n",
              "/* On hover */\n",
              "#sk-container-id-1 a.estimator_doc_link:hover {\n",
              "  /* unfitted */\n",
              "  background-color: var(--sklearn-color-unfitted-level-3);\n",
              "  color: var(--sklearn-color-background);\n",
              "  text-decoration: none;\n",
              "}\n",
              "\n",
              "#sk-container-id-1 a.estimator_doc_link.fitted:hover {\n",
              "  /* fitted */\n",
              "  background-color: var(--sklearn-color-fitted-level-3);\n",
              "}\n",
              "</style><div id=\"sk-container-id-1\" class=\"sk-top-container\"><div class=\"sk-text-repr-fallback\"><pre>SVC(class_weight=&#x27;balanced&#x27;)</pre><b>In a Jupyter environment, please rerun this cell to show the HTML representation or trust the notebook. <br />On GitHub, the HTML representation is unable to render, please try loading this page with nbviewer.org.</b></div><div class=\"sk-container\" hidden><div class=\"sk-item\"><div class=\"sk-estimator fitted sk-toggleable\"><input class=\"sk-toggleable__control sk-hidden--visually\" id=\"sk-estimator-id-1\" type=\"checkbox\" checked><label for=\"sk-estimator-id-1\" class=\"sk-toggleable__label fitted sk-toggleable__label-arrow fitted\">&nbsp;&nbsp;SVC<a class=\"sk-estimator-doc-link fitted\" rel=\"noreferrer\" target=\"_blank\" href=\"https://scikit-learn.org/1.5/modules/generated/sklearn.svm.SVC.html\">?<span>Documentation for SVC</span></a><span class=\"sk-estimator-doc-link fitted\">i<span>Fitted</span></span></label><div class=\"sk-toggleable__content fitted\"><pre>SVC(class_weight=&#x27;balanced&#x27;)</pre></div> </div></div></div></div>"
            ]
          },
          "metadata": {},
          "execution_count": 22
        }
      ]
    },
    {
      "cell_type": "code",
      "source": [
        "# Predictions\n",
        "y_pred_train = svm_model.predict(X_train_pca)\n",
        "\n",
        "# Evaluate\n",
        "print(\"Train Set Evaluation:\")\n",
        "print(classification_report(y_train, y_pred_train))"
      ],
      "metadata": {
        "id": "VPWRSVUit2lf"
      },
      "execution_count": null,
      "outputs": []
    },
    {
      "cell_type": "code",
      "source": [
        "# Hyper-paramter tuning\n",
        "param_grid = {\n",
        "    'C': [0.1, 1, 10],\n",
        "    'gamma': ['scale', 'auto', 0.01, 0.1],\n",
        "    'kernel': ['rbf', 'linear'],\n",
        "    'class_weight': [None, 'balanced']\n",
        "}\n",
        "\n",
        "# Find best parameters\n",
        "grid_search = GridSearchCV(estimator = svm_model, param_grid=param_grid, refit=True, verbose=2)\n",
        "grid_search.fit(X_dev_pca, y_dev)\n",
        "\n",
        "print(f\"Best Parameters: {grid_search.best_params_}\")"
      ],
      "metadata": {
        "id": "uEFYANxLMCzh",
        "colab": {
          "base_uri": "https://localhost:8080/"
        },
        "outputId": "f889c16b-b3ed-473a-e376-e22181c00db5"
      },
      "execution_count": null,
      "outputs": [
        {
          "output_type": "stream",
          "name": "stdout",
          "text": [
            "Fitting 5 folds for each of 48 candidates, totalling 240 fits\n",
            "[CV] END ..C=0.1, class_weight=None, gamma=scale, kernel=rbf; total time=   3.0s\n",
            "[CV] END ..C=0.1, class_weight=None, gamma=scale, kernel=rbf; total time=   3.7s\n",
            "[CV] END ..C=0.1, class_weight=None, gamma=scale, kernel=rbf; total time=   4.4s\n",
            "[CV] END ..C=0.1, class_weight=None, gamma=scale, kernel=rbf; total time=   2.8s\n",
            "[CV] END ..C=0.1, class_weight=None, gamma=scale, kernel=rbf; total time=   2.3s\n",
            "[CV] END C=0.1, class_weight=None, gamma=scale, kernel=linear; total time=   0.6s\n",
            "[CV] END C=0.1, class_weight=None, gamma=scale, kernel=linear; total time=   0.6s\n",
            "[CV] END C=0.1, class_weight=None, gamma=scale, kernel=linear; total time=   0.6s\n",
            "[CV] END C=0.1, class_weight=None, gamma=scale, kernel=linear; total time=   0.6s\n",
            "[CV] END C=0.1, class_weight=None, gamma=scale, kernel=linear; total time=   0.6s\n",
            "[CV] END ...C=0.1, class_weight=None, gamma=auto, kernel=rbf; total time=   2.1s\n",
            "[CV] END ...C=0.1, class_weight=None, gamma=auto, kernel=rbf; total time=   2.6s\n",
            "[CV] END ...C=0.1, class_weight=None, gamma=auto, kernel=rbf; total time=   1.7s\n",
            "[CV] END ...C=0.1, class_weight=None, gamma=auto, kernel=rbf; total time=   1.7s\n",
            "[CV] END ...C=0.1, class_weight=None, gamma=auto, kernel=rbf; total time=   1.7s\n",
            "[CV] END C=0.1, class_weight=None, gamma=auto, kernel=linear; total time=   0.6s\n",
            "[CV] END C=0.1, class_weight=None, gamma=auto, kernel=linear; total time=   0.6s\n",
            "[CV] END C=0.1, class_weight=None, gamma=auto, kernel=linear; total time=   0.6s\n",
            "[CV] END C=0.1, class_weight=None, gamma=auto, kernel=linear; total time=   0.7s\n",
            "[CV] END C=0.1, class_weight=None, gamma=auto, kernel=linear; total time=   0.6s\n",
            "[CV] END ...C=0.1, class_weight=None, gamma=0.01, kernel=rbf; total time=   2.9s\n",
            "[CV] END ...C=0.1, class_weight=None, gamma=0.01, kernel=rbf; total time=   3.2s\n",
            "[CV] END ...C=0.1, class_weight=None, gamma=0.01, kernel=rbf; total time=   2.3s\n",
            "[CV] END ...C=0.1, class_weight=None, gamma=0.01, kernel=rbf; total time=   2.4s\n",
            "[CV] END ...C=0.1, class_weight=None, gamma=0.01, kernel=rbf; total time=   2.3s\n",
            "[CV] END C=0.1, class_weight=None, gamma=0.01, kernel=linear; total time=   0.6s\n",
            "[CV] END C=0.1, class_weight=None, gamma=0.01, kernel=linear; total time=   0.6s\n",
            "[CV] END C=0.1, class_weight=None, gamma=0.01, kernel=linear; total time=   0.6s\n",
            "[CV] END C=0.1, class_weight=None, gamma=0.01, kernel=linear; total time=   1.0s\n",
            "[CV] END C=0.1, class_weight=None, gamma=0.01, kernel=linear; total time=   1.0s\n",
            "[CV] END ....C=0.1, class_weight=None, gamma=0.1, kernel=rbf; total time=   2.3s\n",
            "[CV] END ....C=0.1, class_weight=None, gamma=0.1, kernel=rbf; total time=   1.7s\n",
            "[CV] END ....C=0.1, class_weight=None, gamma=0.1, kernel=rbf; total time=   1.6s\n",
            "[CV] END ....C=0.1, class_weight=None, gamma=0.1, kernel=rbf; total time=   1.7s\n",
            "[CV] END ....C=0.1, class_weight=None, gamma=0.1, kernel=rbf; total time=   1.7s\n",
            "[CV] END .C=0.1, class_weight=None, gamma=0.1, kernel=linear; total time=   0.6s\n",
            "[CV] END .C=0.1, class_weight=None, gamma=0.1, kernel=linear; total time=   0.6s\n",
            "[CV] END .C=0.1, class_weight=None, gamma=0.1, kernel=linear; total time=   0.6s\n",
            "[CV] END .C=0.1, class_weight=None, gamma=0.1, kernel=linear; total time=   0.7s\n",
            "[CV] END .C=0.1, class_weight=None, gamma=0.1, kernel=linear; total time=   0.9s\n",
            "[CV] END C=0.1, class_weight=balanced, gamma=scale, kernel=rbf; total time=   2.9s\n",
            "[CV] END C=0.1, class_weight=balanced, gamma=scale, kernel=rbf; total time=   2.2s\n",
            "[CV] END C=0.1, class_weight=balanced, gamma=scale, kernel=rbf; total time=   1.7s\n",
            "[CV] END C=0.1, class_weight=balanced, gamma=scale, kernel=rbf; total time=   1.8s\n",
            "[CV] END C=0.1, class_weight=balanced, gamma=scale, kernel=rbf; total time=   1.8s\n",
            "[CV] END C=0.1, class_weight=balanced, gamma=scale, kernel=linear; total time=   0.6s\n",
            "[CV] END C=0.1, class_weight=balanced, gamma=scale, kernel=linear; total time=   0.7s\n",
            "[CV] END C=0.1, class_weight=balanced, gamma=scale, kernel=linear; total time=   0.6s\n",
            "[CV] END C=0.1, class_weight=balanced, gamma=scale, kernel=linear; total time=   0.7s\n",
            "[CV] END C=0.1, class_weight=balanced, gamma=scale, kernel=linear; total time=   1.0s\n",
            "[CV] END C=0.1, class_weight=balanced, gamma=auto, kernel=rbf; total time=   2.7s\n",
            "[CV] END C=0.1, class_weight=balanced, gamma=auto, kernel=rbf; total time=   1.8s\n",
            "[CV] END C=0.1, class_weight=balanced, gamma=auto, kernel=rbf; total time=   1.8s\n",
            "[CV] END C=0.1, class_weight=balanced, gamma=auto, kernel=rbf; total time=   1.8s\n",
            "[CV] END C=0.1, class_weight=balanced, gamma=auto, kernel=rbf; total time=   1.8s\n",
            "[CV] END C=0.1, class_weight=balanced, gamma=auto, kernel=linear; total time=   0.6s\n",
            "[CV] END C=0.1, class_weight=balanced, gamma=auto, kernel=linear; total time=   0.7s\n",
            "[CV] END C=0.1, class_weight=balanced, gamma=auto, kernel=linear; total time=   0.6s\n",
            "[CV] END C=0.1, class_weight=balanced, gamma=auto, kernel=linear; total time=   0.8s\n",
            "[CV] END C=0.1, class_weight=balanced, gamma=auto, kernel=linear; total time=   1.0s\n",
            "[CV] END C=0.1, class_weight=balanced, gamma=0.01, kernel=rbf; total time=   3.5s\n",
            "[CV] END C=0.1, class_weight=balanced, gamma=0.01, kernel=rbf; total time=   2.6s\n",
            "[CV] END C=0.1, class_weight=balanced, gamma=0.01, kernel=rbf; total time=   2.6s\n",
            "[CV] END C=0.1, class_weight=balanced, gamma=0.01, kernel=rbf; total time=   2.6s\n",
            "[CV] END C=0.1, class_weight=balanced, gamma=0.01, kernel=rbf; total time=   3.9s\n",
            "[CV] END C=0.1, class_weight=balanced, gamma=0.01, kernel=linear; total time=   0.8s\n",
            "[CV] END C=0.1, class_weight=balanced, gamma=0.01, kernel=linear; total time=   0.6s\n",
            "[CV] END C=0.1, class_weight=balanced, gamma=0.01, kernel=linear; total time=   0.6s\n",
            "[CV] END C=0.1, class_weight=balanced, gamma=0.01, kernel=linear; total time=   0.7s\n",
            "[CV] END C=0.1, class_weight=balanced, gamma=0.01, kernel=linear; total time=   0.6s\n",
            "[CV] END C=0.1, class_weight=balanced, gamma=0.1, kernel=rbf; total time=   2.2s\n",
            "[CV] END C=0.1, class_weight=balanced, gamma=0.1, kernel=rbf; total time=   1.8s\n",
            "[CV] END C=0.1, class_weight=balanced, gamma=0.1, kernel=rbf; total time=   1.8s\n",
            "[CV] END C=0.1, class_weight=balanced, gamma=0.1, kernel=rbf; total time=   2.2s\n",
            "[CV] END C=0.1, class_weight=balanced, gamma=0.1, kernel=rbf; total time=   2.9s\n",
            "[CV] END C=0.1, class_weight=balanced, gamma=0.1, kernel=linear; total time=   0.6s\n",
            "[CV] END C=0.1, class_weight=balanced, gamma=0.1, kernel=linear; total time=   0.7s\n",
            "[CV] END C=0.1, class_weight=balanced, gamma=0.1, kernel=linear; total time=   0.6s\n",
            "[CV] END C=0.1, class_weight=balanced, gamma=0.1, kernel=linear; total time=   0.7s\n",
            "[CV] END C=0.1, class_weight=balanced, gamma=0.1, kernel=linear; total time=   0.6s\n",
            "[CV] END ....C=1, class_weight=None, gamma=scale, kernel=rbf; total time=   0.8s\n",
            "[CV] END ....C=1, class_weight=None, gamma=scale, kernel=rbf; total time=   0.8s\n",
            "[CV] END ....C=1, class_weight=None, gamma=scale, kernel=rbf; total time=   0.8s\n",
            "[CV] END ....C=1, class_weight=None, gamma=scale, kernel=rbf; total time=   0.8s\n",
            "[CV] END ....C=1, class_weight=None, gamma=scale, kernel=rbf; total time=   0.8s\n",
            "[CV] END .C=1, class_weight=None, gamma=scale, kernel=linear; total time=   0.7s\n",
            "[CV] END .C=1, class_weight=None, gamma=scale, kernel=linear; total time=   0.7s\n",
            "[CV] END .C=1, class_weight=None, gamma=scale, kernel=linear; total time=   0.7s\n",
            "[CV] END .C=1, class_weight=None, gamma=scale, kernel=linear; total time=   0.9s\n",
            "[CV] END .C=1, class_weight=None, gamma=scale, kernel=linear; total time=   1.0s\n",
            "[CV] END .....C=1, class_weight=None, gamma=auto, kernel=rbf; total time=   1.5s\n",
            "[CV] END .....C=1, class_weight=None, gamma=auto, kernel=rbf; total time=   1.1s\n",
            "[CV] END .....C=1, class_weight=None, gamma=auto, kernel=rbf; total time=   0.9s\n",
            "[CV] END .....C=1, class_weight=None, gamma=auto, kernel=rbf; total time=   0.9s\n",
            "[CV] END .....C=1, class_weight=None, gamma=auto, kernel=rbf; total time=   0.9s\n",
            "[CV] END ..C=1, class_weight=None, gamma=auto, kernel=linear; total time=   0.7s\n",
            "[CV] END ..C=1, class_weight=None, gamma=auto, kernel=linear; total time=   0.7s\n",
            "[CV] END ..C=1, class_weight=None, gamma=auto, kernel=linear; total time=   0.7s\n",
            "[CV] END ..C=1, class_weight=None, gamma=auto, kernel=linear; total time=   0.7s\n",
            "[CV] END ..C=1, class_weight=None, gamma=auto, kernel=linear; total time=   0.6s\n",
            "[CV] END .....C=1, class_weight=None, gamma=0.01, kernel=rbf; total time=   1.2s\n",
            "[CV] END .....C=1, class_weight=None, gamma=0.01, kernel=rbf; total time=   1.2s\n",
            "[CV] END .....C=1, class_weight=None, gamma=0.01, kernel=rbf; total time=   1.3s\n",
            "[CV] END .....C=1, class_weight=None, gamma=0.01, kernel=rbf; total time=   2.0s\n",
            "[CV] END .....C=1, class_weight=None, gamma=0.01, kernel=rbf; total time=   1.7s\n",
            "[CV] END ..C=1, class_weight=None, gamma=0.01, kernel=linear; total time=   0.7s\n",
            "[CV] END ..C=1, class_weight=None, gamma=0.01, kernel=linear; total time=   0.7s\n",
            "[CV] END ..C=1, class_weight=None, gamma=0.01, kernel=linear; total time=   0.7s\n",
            "[CV] END ..C=1, class_weight=None, gamma=0.01, kernel=linear; total time=   0.7s\n",
            "[CV] END ..C=1, class_weight=None, gamma=0.01, kernel=linear; total time=   0.6s\n",
            "[CV] END ......C=1, class_weight=None, gamma=0.1, kernel=rbf; total time=   0.9s\n",
            "[CV] END ......C=1, class_weight=None, gamma=0.1, kernel=rbf; total time=   0.9s\n",
            "[CV] END ......C=1, class_weight=None, gamma=0.1, kernel=rbf; total time=   0.9s\n",
            "[CV] END ......C=1, class_weight=None, gamma=0.1, kernel=rbf; total time=   0.9s\n",
            "[CV] END ......C=1, class_weight=None, gamma=0.1, kernel=rbf; total time=   0.9s\n",
            "[CV] END ...C=1, class_weight=None, gamma=0.1, kernel=linear; total time=   0.7s\n",
            "[CV] END ...C=1, class_weight=None, gamma=0.1, kernel=linear; total time=   0.7s\n",
            "[CV] END ...C=1, class_weight=None, gamma=0.1, kernel=linear; total time=   2.4s\n",
            "[CV] END ...C=1, class_weight=None, gamma=0.1, kernel=linear; total time=   1.3s\n",
            "[CV] END ...C=1, class_weight=None, gamma=0.1, kernel=linear; total time=   0.8s\n",
            "[CV] END C=1, class_weight=balanced, gamma=scale, kernel=rbf; total time=   0.8s\n",
            "[CV] END C=1, class_weight=balanced, gamma=scale, kernel=rbf; total time=   0.8s\n",
            "[CV] END C=1, class_weight=balanced, gamma=scale, kernel=rbf; total time=   0.8s\n",
            "[CV] END C=1, class_weight=balanced, gamma=scale, kernel=rbf; total time=   0.9s\n",
            "[CV] END C=1, class_weight=balanced, gamma=scale, kernel=rbf; total time=   0.8s\n",
            "[CV] END C=1, class_weight=balanced, gamma=scale, kernel=linear; total time=   0.7s\n",
            "[CV] END C=1, class_weight=balanced, gamma=scale, kernel=linear; total time=   0.7s\n",
            "[CV] END C=1, class_weight=balanced, gamma=scale, kernel=linear; total time=   0.6s\n",
            "[CV] END C=1, class_weight=balanced, gamma=scale, kernel=linear; total time=   0.7s\n",
            "[CV] END C=1, class_weight=balanced, gamma=scale, kernel=linear; total time=   0.6s\n",
            "[CV] END .C=1, class_weight=balanced, gamma=auto, kernel=rbf; total time=   0.9s\n",
            "[CV] END .C=1, class_weight=balanced, gamma=auto, kernel=rbf; total time=   0.9s\n",
            "[CV] END .C=1, class_weight=balanced, gamma=auto, kernel=rbf; total time=   1.4s\n",
            "[CV] END .C=1, class_weight=balanced, gamma=auto, kernel=rbf; total time=   1.5s\n",
            "[CV] END .C=1, class_weight=balanced, gamma=auto, kernel=rbf; total time=   1.3s\n",
            "[CV] END C=1, class_weight=balanced, gamma=auto, kernel=linear; total time=   0.7s\n",
            "[CV] END C=1, class_weight=balanced, gamma=auto, kernel=linear; total time=   0.7s\n",
            "[CV] END C=1, class_weight=balanced, gamma=auto, kernel=linear; total time=   0.6s\n",
            "[CV] END C=1, class_weight=balanced, gamma=auto, kernel=linear; total time=   0.7s\n",
            "[CV] END C=1, class_weight=balanced, gamma=auto, kernel=linear; total time=   0.6s\n",
            "[CV] END .C=1, class_weight=balanced, gamma=0.01, kernel=rbf; total time=   1.3s\n",
            "[CV] END .C=1, class_weight=balanced, gamma=0.01, kernel=rbf; total time=   1.3s\n",
            "[CV] END .C=1, class_weight=balanced, gamma=0.01, kernel=rbf; total time=   1.3s\n",
            "[CV] END .C=1, class_weight=balanced, gamma=0.01, kernel=rbf; total time=   1.3s\n",
            "[CV] END .C=1, class_weight=balanced, gamma=0.01, kernel=rbf; total time=   1.4s\n",
            "[CV] END C=1, class_weight=balanced, gamma=0.01, kernel=linear; total time=   1.1s\n",
            "[CV] END C=1, class_weight=balanced, gamma=0.01, kernel=linear; total time=   1.1s\n",
            "[CV] END C=1, class_weight=balanced, gamma=0.01, kernel=linear; total time=   1.1s\n",
            "[CV] END C=1, class_weight=balanced, gamma=0.01, kernel=linear; total time=   0.7s\n",
            "[CV] END C=1, class_weight=balanced, gamma=0.01, kernel=linear; total time=   0.6s\n",
            "[CV] END ..C=1, class_weight=balanced, gamma=0.1, kernel=rbf; total time=   0.9s\n",
            "[CV] END ..C=1, class_weight=balanced, gamma=0.1, kernel=rbf; total time=   0.9s\n",
            "[CV] END ..C=1, class_weight=balanced, gamma=0.1, kernel=rbf; total time=   0.9s\n",
            "[CV] END ..C=1, class_weight=balanced, gamma=0.1, kernel=rbf; total time=   0.9s\n",
            "[CV] END ..C=1, class_weight=balanced, gamma=0.1, kernel=rbf; total time=   0.9s\n",
            "[CV] END C=1, class_weight=balanced, gamma=0.1, kernel=linear; total time=   0.7s\n",
            "[CV] END C=1, class_weight=balanced, gamma=0.1, kernel=linear; total time=   0.7s\n",
            "[CV] END C=1, class_weight=balanced, gamma=0.1, kernel=linear; total time=   0.7s\n",
            "[CV] END C=1, class_weight=balanced, gamma=0.1, kernel=linear; total time=   0.7s\n",
            "[CV] END C=1, class_weight=balanced, gamma=0.1, kernel=linear; total time=   0.6s\n",
            "[CV] END ...C=10, class_weight=None, gamma=scale, kernel=rbf; total time=   0.6s\n",
            "[CV] END ...C=10, class_weight=None, gamma=scale, kernel=rbf; total time=   0.8s\n",
            "[CV] END ...C=10, class_weight=None, gamma=scale, kernel=rbf; total time=   1.0s\n",
            "[CV] END ...C=10, class_weight=None, gamma=scale, kernel=rbf; total time=   1.0s\n",
            "[CV] END ...C=10, class_weight=None, gamma=scale, kernel=rbf; total time=   0.9s\n",
            "[CV] END C=10, class_weight=None, gamma=scale, kernel=linear; total time=   0.7s\n",
            "[CV] END C=10, class_weight=None, gamma=scale, kernel=linear; total time=   0.8s\n",
            "[CV] END C=10, class_weight=None, gamma=scale, kernel=linear; total time=   0.8s\n",
            "[CV] END C=10, class_weight=None, gamma=scale, kernel=linear; total time=   0.7s\n",
            "[CV] END C=10, class_weight=None, gamma=scale, kernel=linear; total time=   0.7s\n",
            "[CV] END ....C=10, class_weight=None, gamma=auto, kernel=rbf; total time=   0.7s\n",
            "[CV] END ....C=10, class_weight=None, gamma=auto, kernel=rbf; total time=   0.7s\n",
            "[CV] END ....C=10, class_weight=None, gamma=auto, kernel=rbf; total time=   0.7s\n",
            "[CV] END ....C=10, class_weight=None, gamma=auto, kernel=rbf; total time=   0.7s\n",
            "[CV] END ....C=10, class_weight=None, gamma=auto, kernel=rbf; total time=   0.7s\n",
            "[CV] END .C=10, class_weight=None, gamma=auto, kernel=linear; total time=   0.7s\n",
            "[CV] END .C=10, class_weight=None, gamma=auto, kernel=linear; total time=   0.8s\n",
            "[CV] END .C=10, class_weight=None, gamma=auto, kernel=linear; total time=   0.8s\n",
            "[CV] END .C=10, class_weight=None, gamma=auto, kernel=linear; total time=   0.9s\n",
            "[CV] END .C=10, class_weight=None, gamma=auto, kernel=linear; total time=   1.2s\n",
            "[CV] END ....C=10, class_weight=None, gamma=0.01, kernel=rbf; total time=   1.0s\n",
            "[CV] END ....C=10, class_weight=None, gamma=0.01, kernel=rbf; total time=   0.9s\n",
            "[CV] END ....C=10, class_weight=None, gamma=0.01, kernel=rbf; total time=   0.6s\n",
            "[CV] END ....C=10, class_weight=None, gamma=0.01, kernel=rbf; total time=   0.6s\n",
            "[CV] END ....C=10, class_weight=None, gamma=0.01, kernel=rbf; total time=   0.6s\n",
            "[CV] END .C=10, class_weight=None, gamma=0.01, kernel=linear; total time=   1.1s\n",
            "[CV] END .C=10, class_weight=None, gamma=0.01, kernel=linear; total time=   0.8s\n",
            "[CV] END .C=10, class_weight=None, gamma=0.01, kernel=linear; total time=   0.8s\n",
            "[CV] END .C=10, class_weight=None, gamma=0.01, kernel=linear; total time=   0.7s\n",
            "[CV] END .C=10, class_weight=None, gamma=0.01, kernel=linear; total time=   0.7s\n",
            "[CV] END .....C=10, class_weight=None, gamma=0.1, kernel=rbf; total time=   0.7s\n",
            "[CV] END .....C=10, class_weight=None, gamma=0.1, kernel=rbf; total time=   0.7s\n",
            "[CV] END .....C=10, class_weight=None, gamma=0.1, kernel=rbf; total time=   0.7s\n",
            "[CV] END .....C=10, class_weight=None, gamma=0.1, kernel=rbf; total time=   0.7s\n",
            "[CV] END .....C=10, class_weight=None, gamma=0.1, kernel=rbf; total time=   0.7s\n",
            "[CV] END ..C=10, class_weight=None, gamma=0.1, kernel=linear; total time=   0.7s\n",
            "[CV] END ..C=10, class_weight=None, gamma=0.1, kernel=linear; total time=   1.3s\n",
            "[CV] END ..C=10, class_weight=None, gamma=0.1, kernel=linear; total time=   1.3s\n",
            "[CV] END ..C=10, class_weight=None, gamma=0.1, kernel=linear; total time=   1.1s\n",
            "[CV] END ..C=10, class_weight=None, gamma=0.1, kernel=linear; total time=   0.7s\n",
            "[CV] END C=10, class_weight=balanced, gamma=scale, kernel=rbf; total time=   0.6s\n",
            "[CV] END C=10, class_weight=balanced, gamma=scale, kernel=rbf; total time=   0.6s\n",
            "[CV] END C=10, class_weight=balanced, gamma=scale, kernel=rbf; total time=   0.6s\n",
            "[CV] END C=10, class_weight=balanced, gamma=scale, kernel=rbf; total time=   0.6s\n",
            "[CV] END C=10, class_weight=balanced, gamma=scale, kernel=rbf; total time=   0.6s\n",
            "[CV] END C=10, class_weight=balanced, gamma=scale, kernel=linear; total time=   0.9s\n",
            "[CV] END C=10, class_weight=balanced, gamma=scale, kernel=linear; total time=   0.8s\n",
            "[CV] END C=10, class_weight=balanced, gamma=scale, kernel=linear; total time=   0.8s\n",
            "[CV] END C=10, class_weight=balanced, gamma=scale, kernel=linear; total time=   0.9s\n",
            "[CV] END C=10, class_weight=balanced, gamma=scale, kernel=linear; total time=   0.7s\n",
            "[CV] END C=10, class_weight=balanced, gamma=auto, kernel=rbf; total time=   0.7s\n",
            "[CV] END C=10, class_weight=balanced, gamma=auto, kernel=rbf; total time=   0.7s\n",
            "[CV] END C=10, class_weight=balanced, gamma=auto, kernel=rbf; total time=   0.7s\n",
            "[CV] END C=10, class_weight=balanced, gamma=auto, kernel=rbf; total time=   1.1s\n",
            "[CV] END C=10, class_weight=balanced, gamma=auto, kernel=rbf; total time=   1.1s\n",
            "[CV] END C=10, class_weight=balanced, gamma=auto, kernel=linear; total time=   1.3s\n",
            "[CV] END C=10, class_weight=balanced, gamma=auto, kernel=linear; total time=   0.8s\n",
            "[CV] END C=10, class_weight=balanced, gamma=auto, kernel=linear; total time=   0.8s\n",
            "[CV] END C=10, class_weight=balanced, gamma=auto, kernel=linear; total time=   0.9s\n",
            "[CV] END C=10, class_weight=balanced, gamma=auto, kernel=linear; total time=   0.7s\n",
            "[CV] END C=10, class_weight=balanced, gamma=0.01, kernel=rbf; total time=   0.6s\n",
            "[CV] END C=10, class_weight=balanced, gamma=0.01, kernel=rbf; total time=   0.6s\n",
            "[CV] END C=10, class_weight=balanced, gamma=0.01, kernel=rbf; total time=   0.6s\n",
            "[CV] END C=10, class_weight=balanced, gamma=0.01, kernel=rbf; total time=   0.6s\n",
            "[CV] END C=10, class_weight=balanced, gamma=0.01, kernel=rbf; total time=   0.6s\n",
            "[CV] END C=10, class_weight=balanced, gamma=0.01, kernel=linear; total time=   0.9s\n",
            "[CV] END C=10, class_weight=balanced, gamma=0.01, kernel=linear; total time=   0.8s\n",
            "[CV] END C=10, class_weight=balanced, gamma=0.01, kernel=linear; total time=   0.8s\n",
            "[CV] END C=10, class_weight=balanced, gamma=0.01, kernel=linear; total time=   0.9s\n",
            "[CV] END C=10, class_weight=balanced, gamma=0.01, kernel=linear; total time=   1.0s\n",
            "[CV] END .C=10, class_weight=balanced, gamma=0.1, kernel=rbf; total time=   1.2s\n",
            "[CV] END .C=10, class_weight=balanced, gamma=0.1, kernel=rbf; total time=   1.2s\n",
            "[CV] END .C=10, class_weight=balanced, gamma=0.1, kernel=rbf; total time=   0.8s\n",
            "[CV] END .C=10, class_weight=balanced, gamma=0.1, kernel=rbf; total time=   0.7s\n",
            "[CV] END .C=10, class_weight=balanced, gamma=0.1, kernel=rbf; total time=   0.7s\n",
            "[CV] END C=10, class_weight=balanced, gamma=0.1, kernel=linear; total time=   0.8s\n",
            "[CV] END C=10, class_weight=balanced, gamma=0.1, kernel=linear; total time=   0.8s\n",
            "[CV] END C=10, class_weight=balanced, gamma=0.1, kernel=linear; total time=   0.8s\n",
            "[CV] END C=10, class_weight=balanced, gamma=0.1, kernel=linear; total time=   0.9s\n",
            "[CV] END C=10, class_weight=balanced, gamma=0.1, kernel=linear; total time=   0.7s\n",
            "Best Parameters: {'C': 10, 'class_weight': None, 'gamma': 'scale', 'kernel': 'linear'}\n"
          ]
        }
      ]
    },
    {
      "cell_type": "code",
      "source": [
        "# Evaluate - test\n",
        "best_svm = grid_search.best_estimator_\n",
        "y_pred_best = best_svm.predict(X_test_pca)\n",
        "classification_report_test = classification_report(y_test, y_pred_best, output_dict=True)\n",
        "print(\"Test accuracy:\")\n",
        "print(classification_report_test['accuracy'])\n",
        "print(\"Test precision:\")\n",
        "print(classification_report_test['weighted avg']['precision'])"
      ],
      "metadata": {
        "id": "Dzf0_OQ_MVYQ",
        "colab": {
          "base_uri": "https://localhost:8080/"
        },
        "outputId": "844cc848-989f-4801-d2cf-b239e32d3c0f"
      },
      "execution_count": null,
      "outputs": [
        {
          "output_type": "stream",
          "name": "stdout",
          "text": [
            "Test accuracy:\n",
            "0.9669421487603306\n",
            "Test precision:\n",
            "0.9658610148367317\n"
          ]
        }
      ]
    },
    {
      "cell_type": "code",
      "source": [
        "# Evalute - train\n",
        "y_pred_best = best_svm.predict(X_train_pca)\n",
        "classification_report_train = classification_report(y_train, y_pred_best, output_dict=True)\n",
        "print(\"Train accuracy:\")\n",
        "print(classification_report_train['accuracy'])\n",
        "print(\"Train precision:\")\n",
        "print(classification_report_train['weighted avg']['precision'])"
      ],
      "metadata": {
        "colab": {
          "base_uri": "https://localhost:8080/"
        },
        "id": "0pO7pHDXxvXW",
        "outputId": "38a5ec1b-8102-4d76-8a84-4b3595a13de3"
      },
      "execution_count": null,
      "outputs": [
        {
          "output_type": "stream",
          "name": "stdout",
          "text": [
            "Train accuracy:\n",
            "0.9636378249288142\n",
            "Train precision:\n",
            "0.9605219481316997\n"
          ]
        }
      ]
    },
    {
      "cell_type": "markdown",
      "source": [
        "## Not PCA"
      ],
      "metadata": {
        "id": "x0qcbLWJfBEK"
      }
    },
    {
      "cell_type": "code",
      "source": [
        "# Train RBF kernel\n",
        "svm_model1 = SVC(class_weight = 'balanced', kernel='rbf', C=1.0, gamma='scale')\n",
        "svm_model1.fit(X_train_no_pca, y_train_no_pca)"
      ],
      "metadata": {
        "id": "7S9uOI6yfCuQ",
        "colab": {
          "base_uri": "https://localhost:8080/",
          "height": 80
        },
        "outputId": "ea5d5592-7278-44a8-f828-e9a0d4c3ddf9"
      },
      "execution_count": null,
      "outputs": [
        {
          "output_type": "execute_result",
          "data": {
            "text/plain": [
              "SVC(class_weight='balanced')"
            ],
            "text/html": [
              "<style>#sk-container-id-1 {\n",
              "  /* Definition of color scheme common for light and dark mode */\n",
              "  --sklearn-color-text: black;\n",
              "  --sklearn-color-line: gray;\n",
              "  /* Definition of color scheme for unfitted estimators */\n",
              "  --sklearn-color-unfitted-level-0: #fff5e6;\n",
              "  --sklearn-color-unfitted-level-1: #f6e4d2;\n",
              "  --sklearn-color-unfitted-level-2: #ffe0b3;\n",
              "  --sklearn-color-unfitted-level-3: chocolate;\n",
              "  /* Definition of color scheme for fitted estimators */\n",
              "  --sklearn-color-fitted-level-0: #f0f8ff;\n",
              "  --sklearn-color-fitted-level-1: #d4ebff;\n",
              "  --sklearn-color-fitted-level-2: #b3dbfd;\n",
              "  --sklearn-color-fitted-level-3: cornflowerblue;\n",
              "\n",
              "  /* Specific color for light theme */\n",
              "  --sklearn-color-text-on-default-background: var(--sg-text-color, var(--theme-code-foreground, var(--jp-content-font-color1, black)));\n",
              "  --sklearn-color-background: var(--sg-background-color, var(--theme-background, var(--jp-layout-color0, white)));\n",
              "  --sklearn-color-border-box: var(--sg-text-color, var(--theme-code-foreground, var(--jp-content-font-color1, black)));\n",
              "  --sklearn-color-icon: #696969;\n",
              "\n",
              "  @media (prefers-color-scheme: dark) {\n",
              "    /* Redefinition of color scheme for dark theme */\n",
              "    --sklearn-color-text-on-default-background: var(--sg-text-color, var(--theme-code-foreground, var(--jp-content-font-color1, white)));\n",
              "    --sklearn-color-background: var(--sg-background-color, var(--theme-background, var(--jp-layout-color0, #111)));\n",
              "    --sklearn-color-border-box: var(--sg-text-color, var(--theme-code-foreground, var(--jp-content-font-color1, white)));\n",
              "    --sklearn-color-icon: #878787;\n",
              "  }\n",
              "}\n",
              "\n",
              "#sk-container-id-1 {\n",
              "  color: var(--sklearn-color-text);\n",
              "}\n",
              "\n",
              "#sk-container-id-1 pre {\n",
              "  padding: 0;\n",
              "}\n",
              "\n",
              "#sk-container-id-1 input.sk-hidden--visually {\n",
              "  border: 0;\n",
              "  clip: rect(1px 1px 1px 1px);\n",
              "  clip: rect(1px, 1px, 1px, 1px);\n",
              "  height: 1px;\n",
              "  margin: -1px;\n",
              "  overflow: hidden;\n",
              "  padding: 0;\n",
              "  position: absolute;\n",
              "  width: 1px;\n",
              "}\n",
              "\n",
              "#sk-container-id-1 div.sk-dashed-wrapped {\n",
              "  border: 1px dashed var(--sklearn-color-line);\n",
              "  margin: 0 0.4em 0.5em 0.4em;\n",
              "  box-sizing: border-box;\n",
              "  padding-bottom: 0.4em;\n",
              "  background-color: var(--sklearn-color-background);\n",
              "}\n",
              "\n",
              "#sk-container-id-1 div.sk-container {\n",
              "  /* jupyter's `normalize.less` sets `[hidden] { display: none; }`\n",
              "     but bootstrap.min.css set `[hidden] { display: none !important; }`\n",
              "     so we also need the `!important` here to be able to override the\n",
              "     default hidden behavior on the sphinx rendered scikit-learn.org.\n",
              "     See: https://github.com/scikit-learn/scikit-learn/issues/21755 */\n",
              "  display: inline-block !important;\n",
              "  position: relative;\n",
              "}\n",
              "\n",
              "#sk-container-id-1 div.sk-text-repr-fallback {\n",
              "  display: none;\n",
              "}\n",
              "\n",
              "div.sk-parallel-item,\n",
              "div.sk-serial,\n",
              "div.sk-item {\n",
              "  /* draw centered vertical line to link estimators */\n",
              "  background-image: linear-gradient(var(--sklearn-color-text-on-default-background), var(--sklearn-color-text-on-default-background));\n",
              "  background-size: 2px 100%;\n",
              "  background-repeat: no-repeat;\n",
              "  background-position: center center;\n",
              "}\n",
              "\n",
              "/* Parallel-specific style estimator block */\n",
              "\n",
              "#sk-container-id-1 div.sk-parallel-item::after {\n",
              "  content: \"\";\n",
              "  width: 100%;\n",
              "  border-bottom: 2px solid var(--sklearn-color-text-on-default-background);\n",
              "  flex-grow: 1;\n",
              "}\n",
              "\n",
              "#sk-container-id-1 div.sk-parallel {\n",
              "  display: flex;\n",
              "  align-items: stretch;\n",
              "  justify-content: center;\n",
              "  background-color: var(--sklearn-color-background);\n",
              "  position: relative;\n",
              "}\n",
              "\n",
              "#sk-container-id-1 div.sk-parallel-item {\n",
              "  display: flex;\n",
              "  flex-direction: column;\n",
              "}\n",
              "\n",
              "#sk-container-id-1 div.sk-parallel-item:first-child::after {\n",
              "  align-self: flex-end;\n",
              "  width: 50%;\n",
              "}\n",
              "\n",
              "#sk-container-id-1 div.sk-parallel-item:last-child::after {\n",
              "  align-self: flex-start;\n",
              "  width: 50%;\n",
              "}\n",
              "\n",
              "#sk-container-id-1 div.sk-parallel-item:only-child::after {\n",
              "  width: 0;\n",
              "}\n",
              "\n",
              "/* Serial-specific style estimator block */\n",
              "\n",
              "#sk-container-id-1 div.sk-serial {\n",
              "  display: flex;\n",
              "  flex-direction: column;\n",
              "  align-items: center;\n",
              "  background-color: var(--sklearn-color-background);\n",
              "  padding-right: 1em;\n",
              "  padding-left: 1em;\n",
              "}\n",
              "\n",
              "\n",
              "/* Toggleable style: style used for estimator/Pipeline/ColumnTransformer box that is\n",
              "clickable and can be expanded/collapsed.\n",
              "- Pipeline and ColumnTransformer use this feature and define the default style\n",
              "- Estimators will overwrite some part of the style using the `sk-estimator` class\n",
              "*/\n",
              "\n",
              "/* Pipeline and ColumnTransformer style (default) */\n",
              "\n",
              "#sk-container-id-1 div.sk-toggleable {\n",
              "  /* Default theme specific background. It is overwritten whether we have a\n",
              "  specific estimator or a Pipeline/ColumnTransformer */\n",
              "  background-color: var(--sklearn-color-background);\n",
              "}\n",
              "\n",
              "/* Toggleable label */\n",
              "#sk-container-id-1 label.sk-toggleable__label {\n",
              "  cursor: pointer;\n",
              "  display: block;\n",
              "  width: 100%;\n",
              "  margin-bottom: 0;\n",
              "  padding: 0.5em;\n",
              "  box-sizing: border-box;\n",
              "  text-align: center;\n",
              "}\n",
              "\n",
              "#sk-container-id-1 label.sk-toggleable__label-arrow:before {\n",
              "  /* Arrow on the left of the label */\n",
              "  content: \"▸\";\n",
              "  float: left;\n",
              "  margin-right: 0.25em;\n",
              "  color: var(--sklearn-color-icon);\n",
              "}\n",
              "\n",
              "#sk-container-id-1 label.sk-toggleable__label-arrow:hover:before {\n",
              "  color: var(--sklearn-color-text);\n",
              "}\n",
              "\n",
              "/* Toggleable content - dropdown */\n",
              "\n",
              "#sk-container-id-1 div.sk-toggleable__content {\n",
              "  max-height: 0;\n",
              "  max-width: 0;\n",
              "  overflow: hidden;\n",
              "  text-align: left;\n",
              "  /* unfitted */\n",
              "  background-color: var(--sklearn-color-unfitted-level-0);\n",
              "}\n",
              "\n",
              "#sk-container-id-1 div.sk-toggleable__content.fitted {\n",
              "  /* fitted */\n",
              "  background-color: var(--sklearn-color-fitted-level-0);\n",
              "}\n",
              "\n",
              "#sk-container-id-1 div.sk-toggleable__content pre {\n",
              "  margin: 0.2em;\n",
              "  border-radius: 0.25em;\n",
              "  color: var(--sklearn-color-text);\n",
              "  /* unfitted */\n",
              "  background-color: var(--sklearn-color-unfitted-level-0);\n",
              "}\n",
              "\n",
              "#sk-container-id-1 div.sk-toggleable__content.fitted pre {\n",
              "  /* unfitted */\n",
              "  background-color: var(--sklearn-color-fitted-level-0);\n",
              "}\n",
              "\n",
              "#sk-container-id-1 input.sk-toggleable__control:checked~div.sk-toggleable__content {\n",
              "  /* Expand drop-down */\n",
              "  max-height: 200px;\n",
              "  max-width: 100%;\n",
              "  overflow: auto;\n",
              "}\n",
              "\n",
              "#sk-container-id-1 input.sk-toggleable__control:checked~label.sk-toggleable__label-arrow:before {\n",
              "  content: \"▾\";\n",
              "}\n",
              "\n",
              "/* Pipeline/ColumnTransformer-specific style */\n",
              "\n",
              "#sk-container-id-1 div.sk-label input.sk-toggleable__control:checked~label.sk-toggleable__label {\n",
              "  color: var(--sklearn-color-text);\n",
              "  background-color: var(--sklearn-color-unfitted-level-2);\n",
              "}\n",
              "\n",
              "#sk-container-id-1 div.sk-label.fitted input.sk-toggleable__control:checked~label.sk-toggleable__label {\n",
              "  background-color: var(--sklearn-color-fitted-level-2);\n",
              "}\n",
              "\n",
              "/* Estimator-specific style */\n",
              "\n",
              "/* Colorize estimator box */\n",
              "#sk-container-id-1 div.sk-estimator input.sk-toggleable__control:checked~label.sk-toggleable__label {\n",
              "  /* unfitted */\n",
              "  background-color: var(--sklearn-color-unfitted-level-2);\n",
              "}\n",
              "\n",
              "#sk-container-id-1 div.sk-estimator.fitted input.sk-toggleable__control:checked~label.sk-toggleable__label {\n",
              "  /* fitted */\n",
              "  background-color: var(--sklearn-color-fitted-level-2);\n",
              "}\n",
              "\n",
              "#sk-container-id-1 div.sk-label label.sk-toggleable__label,\n",
              "#sk-container-id-1 div.sk-label label {\n",
              "  /* The background is the default theme color */\n",
              "  color: var(--sklearn-color-text-on-default-background);\n",
              "}\n",
              "\n",
              "/* On hover, darken the color of the background */\n",
              "#sk-container-id-1 div.sk-label:hover label.sk-toggleable__label {\n",
              "  color: var(--sklearn-color-text);\n",
              "  background-color: var(--sklearn-color-unfitted-level-2);\n",
              "}\n",
              "\n",
              "/* Label box, darken color on hover, fitted */\n",
              "#sk-container-id-1 div.sk-label.fitted:hover label.sk-toggleable__label.fitted {\n",
              "  color: var(--sklearn-color-text);\n",
              "  background-color: var(--sklearn-color-fitted-level-2);\n",
              "}\n",
              "\n",
              "/* Estimator label */\n",
              "\n",
              "#sk-container-id-1 div.sk-label label {\n",
              "  font-family: monospace;\n",
              "  font-weight: bold;\n",
              "  display: inline-block;\n",
              "  line-height: 1.2em;\n",
              "}\n",
              "\n",
              "#sk-container-id-1 div.sk-label-container {\n",
              "  text-align: center;\n",
              "}\n",
              "\n",
              "/* Estimator-specific */\n",
              "#sk-container-id-1 div.sk-estimator {\n",
              "  font-family: monospace;\n",
              "  border: 1px dotted var(--sklearn-color-border-box);\n",
              "  border-radius: 0.25em;\n",
              "  box-sizing: border-box;\n",
              "  margin-bottom: 0.5em;\n",
              "  /* unfitted */\n",
              "  background-color: var(--sklearn-color-unfitted-level-0);\n",
              "}\n",
              "\n",
              "#sk-container-id-1 div.sk-estimator.fitted {\n",
              "  /* fitted */\n",
              "  background-color: var(--sklearn-color-fitted-level-0);\n",
              "}\n",
              "\n",
              "/* on hover */\n",
              "#sk-container-id-1 div.sk-estimator:hover {\n",
              "  /* unfitted */\n",
              "  background-color: var(--sklearn-color-unfitted-level-2);\n",
              "}\n",
              "\n",
              "#sk-container-id-1 div.sk-estimator.fitted:hover {\n",
              "  /* fitted */\n",
              "  background-color: var(--sklearn-color-fitted-level-2);\n",
              "}\n",
              "\n",
              "/* Specification for estimator info (e.g. \"i\" and \"?\") */\n",
              "\n",
              "/* Common style for \"i\" and \"?\" */\n",
              "\n",
              ".sk-estimator-doc-link,\n",
              "a:link.sk-estimator-doc-link,\n",
              "a:visited.sk-estimator-doc-link {\n",
              "  float: right;\n",
              "  font-size: smaller;\n",
              "  line-height: 1em;\n",
              "  font-family: monospace;\n",
              "  background-color: var(--sklearn-color-background);\n",
              "  border-radius: 1em;\n",
              "  height: 1em;\n",
              "  width: 1em;\n",
              "  text-decoration: none !important;\n",
              "  margin-left: 1ex;\n",
              "  /* unfitted */\n",
              "  border: var(--sklearn-color-unfitted-level-1) 1pt solid;\n",
              "  color: var(--sklearn-color-unfitted-level-1);\n",
              "}\n",
              "\n",
              ".sk-estimator-doc-link.fitted,\n",
              "a:link.sk-estimator-doc-link.fitted,\n",
              "a:visited.sk-estimator-doc-link.fitted {\n",
              "  /* fitted */\n",
              "  border: var(--sklearn-color-fitted-level-1) 1pt solid;\n",
              "  color: var(--sklearn-color-fitted-level-1);\n",
              "}\n",
              "\n",
              "/* On hover */\n",
              "div.sk-estimator:hover .sk-estimator-doc-link:hover,\n",
              ".sk-estimator-doc-link:hover,\n",
              "div.sk-label-container:hover .sk-estimator-doc-link:hover,\n",
              ".sk-estimator-doc-link:hover {\n",
              "  /* unfitted */\n",
              "  background-color: var(--sklearn-color-unfitted-level-3);\n",
              "  color: var(--sklearn-color-background);\n",
              "  text-decoration: none;\n",
              "}\n",
              "\n",
              "div.sk-estimator.fitted:hover .sk-estimator-doc-link.fitted:hover,\n",
              ".sk-estimator-doc-link.fitted:hover,\n",
              "div.sk-label-container:hover .sk-estimator-doc-link.fitted:hover,\n",
              ".sk-estimator-doc-link.fitted:hover {\n",
              "  /* fitted */\n",
              "  background-color: var(--sklearn-color-fitted-level-3);\n",
              "  color: var(--sklearn-color-background);\n",
              "  text-decoration: none;\n",
              "}\n",
              "\n",
              "/* Span, style for the box shown on hovering the info icon */\n",
              ".sk-estimator-doc-link span {\n",
              "  display: none;\n",
              "  z-index: 9999;\n",
              "  position: relative;\n",
              "  font-weight: normal;\n",
              "  right: .2ex;\n",
              "  padding: .5ex;\n",
              "  margin: .5ex;\n",
              "  width: min-content;\n",
              "  min-width: 20ex;\n",
              "  max-width: 50ex;\n",
              "  color: var(--sklearn-color-text);\n",
              "  box-shadow: 2pt 2pt 4pt #999;\n",
              "  /* unfitted */\n",
              "  background: var(--sklearn-color-unfitted-level-0);\n",
              "  border: .5pt solid var(--sklearn-color-unfitted-level-3);\n",
              "}\n",
              "\n",
              ".sk-estimator-doc-link.fitted span {\n",
              "  /* fitted */\n",
              "  background: var(--sklearn-color-fitted-level-0);\n",
              "  border: var(--sklearn-color-fitted-level-3);\n",
              "}\n",
              "\n",
              ".sk-estimator-doc-link:hover span {\n",
              "  display: block;\n",
              "}\n",
              "\n",
              "/* \"?\"-specific style due to the `<a>` HTML tag */\n",
              "\n",
              "#sk-container-id-1 a.estimator_doc_link {\n",
              "  float: right;\n",
              "  font-size: 1rem;\n",
              "  line-height: 1em;\n",
              "  font-family: monospace;\n",
              "  background-color: var(--sklearn-color-background);\n",
              "  border-radius: 1rem;\n",
              "  height: 1rem;\n",
              "  width: 1rem;\n",
              "  text-decoration: none;\n",
              "  /* unfitted */\n",
              "  color: var(--sklearn-color-unfitted-level-1);\n",
              "  border: var(--sklearn-color-unfitted-level-1) 1pt solid;\n",
              "}\n",
              "\n",
              "#sk-container-id-1 a.estimator_doc_link.fitted {\n",
              "  /* fitted */\n",
              "  border: var(--sklearn-color-fitted-level-1) 1pt solid;\n",
              "  color: var(--sklearn-color-fitted-level-1);\n",
              "}\n",
              "\n",
              "/* On hover */\n",
              "#sk-container-id-1 a.estimator_doc_link:hover {\n",
              "  /* unfitted */\n",
              "  background-color: var(--sklearn-color-unfitted-level-3);\n",
              "  color: var(--sklearn-color-background);\n",
              "  text-decoration: none;\n",
              "}\n",
              "\n",
              "#sk-container-id-1 a.estimator_doc_link.fitted:hover {\n",
              "  /* fitted */\n",
              "  background-color: var(--sklearn-color-fitted-level-3);\n",
              "}\n",
              "</style><div id=\"sk-container-id-1\" class=\"sk-top-container\"><div class=\"sk-text-repr-fallback\"><pre>SVC(class_weight=&#x27;balanced&#x27;)</pre><b>In a Jupyter environment, please rerun this cell to show the HTML representation or trust the notebook. <br />On GitHub, the HTML representation is unable to render, please try loading this page with nbviewer.org.</b></div><div class=\"sk-container\" hidden><div class=\"sk-item\"><div class=\"sk-estimator fitted sk-toggleable\"><input class=\"sk-toggleable__control sk-hidden--visually\" id=\"sk-estimator-id-1\" type=\"checkbox\" checked><label for=\"sk-estimator-id-1\" class=\"sk-toggleable__label fitted sk-toggleable__label-arrow fitted\">&nbsp;&nbsp;SVC<a class=\"sk-estimator-doc-link fitted\" rel=\"noreferrer\" target=\"_blank\" href=\"https://scikit-learn.org/1.5/modules/generated/sklearn.svm.SVC.html\">?<span>Documentation for SVC</span></a><span class=\"sk-estimator-doc-link fitted\">i<span>Fitted</span></span></label><div class=\"sk-toggleable__content fitted\"><pre>SVC(class_weight=&#x27;balanced&#x27;)</pre></div> </div></div></div></div>"
            ]
          },
          "metadata": {},
          "execution_count": 16
        }
      ]
    },
    {
      "cell_type": "code",
      "source": [
        "# Predictions\n",
        "y_pred_train = svm_model1.predict(X_train_no_pca)\n",
        "\n",
        "# Evaluate\n",
        "print(\"Train Set Evaluation:\")\n",
        "print(classification_report(y_train_no_pca, y_pred_train))"
      ],
      "metadata": {
        "colab": {
          "base_uri": "https://localhost:8080/"
        },
        "id": "XF_hOteSfAc-",
        "outputId": "b6353ca9-c144-41ba-d557-4cdd0cc61242"
      },
      "execution_count": null,
      "outputs": [
        {
          "output_type": "stream",
          "name": "stdout",
          "text": [
            "Train Set Evaluation:\n",
            "              precision    recall  f1-score   support\n",
            "\n",
            "           0       0.36      0.13      0.20      6310\n",
            "           1       0.74      0.53      0.62      5285\n",
            "           2       0.58      0.82      0.68      6322\n",
            "           3       0.04      0.01      0.01      6310\n",
            "           4       0.59      0.51      0.54      6252\n",
            "           5       0.48      0.57      0.52      1509\n",
            "           6       0.44      0.79      0.57      6331\n",
            "           7       0.69      0.86      0.77      6340\n",
            "           8       0.53      0.80      0.64      6316\n",
            "           9       1.00      0.99      1.00      6283\n",
            "          10       0.98      0.54      0.70      6306\n",
            "          11       1.00      1.00      1.00      6815\n",
            "          12       0.70      0.63      0.66      5267\n",
            "          13       0.52      0.75      0.61      3814\n",
            "          14       0.21      0.24      0.22      1531\n",
            "          15       0.22      0.26      0.23      1530\n",
            "          16       1.00      1.00      1.00      4575\n",
            "\n",
            "    accuracy                           0.65     87096\n",
            "   macro avg       0.59      0.61      0.59     87096\n",
            "weighted avg       0.63      0.65      0.62     87096\n",
            "\n"
          ]
        }
      ]
    },
    {
      "cell_type": "code",
      "source": [
        "# Hyper-parameter tuning\n",
        "param_grid = {\n",
        "    'C': [0.1, 1, 10],\n",
        "    'gamma': ['scale', 'auto', 0.01, 0.1],\n",
        "    'kernel': ['rbf', 'linear'],\n",
        "    'class_weight': [None, 'balanced']\n",
        "}\n",
        "\n",
        "# Find best parameters\n",
        "grid_search = GridSearchCV(estimator = svm_model1, param_grid=param_grid, refit=True, verbose=2)\n",
        "grid_search.fit(X_dev_no_pca, y_dev_no_pca)\n",
        "\n",
        "print(f\"Best Parameters: {grid_search.best_params_}\")"
      ],
      "metadata": {
        "colab": {
          "base_uri": "https://localhost:8080/"
        },
        "id": "9efEngADfNrY",
        "outputId": "94825c45-8378-447b-ba99-391da27a2e1f"
      },
      "execution_count": null,
      "outputs": [
        {
          "output_type": "stream",
          "name": "stdout",
          "text": [
            "Fitting 5 folds for each of 48 candidates, totalling 240 fits\n",
            "[CV] END ..C=0.1, class_weight=None, gamma=scale, kernel=rbf; total time=   3.8s\n",
            "[CV] END ..C=0.1, class_weight=None, gamma=scale, kernel=rbf; total time=   5.4s\n",
            "[CV] END ..C=0.1, class_weight=None, gamma=scale, kernel=rbf; total time=   3.8s\n",
            "[CV] END ..C=0.1, class_weight=None, gamma=scale, kernel=rbf; total time=   3.8s\n",
            "[CV] END ..C=0.1, class_weight=None, gamma=scale, kernel=rbf; total time=   5.3s\n",
            "[CV] END C=0.1, class_weight=None, gamma=scale, kernel=linear; total time=   9.1s\n",
            "[CV] END C=0.1, class_weight=None, gamma=scale, kernel=linear; total time=   9.8s\n",
            "[CV] END C=0.1, class_weight=None, gamma=scale, kernel=linear; total time=  10.2s\n",
            "[CV] END C=0.1, class_weight=None, gamma=scale, kernel=linear; total time=   8.9s\n",
            "[CV] END C=0.1, class_weight=None, gamma=scale, kernel=linear; total time=   7.8s\n",
            "[CV] END ...C=0.1, class_weight=None, gamma=auto, kernel=rbf; total time=   5.3s\n",
            "[CV] END ...C=0.1, class_weight=None, gamma=auto, kernel=rbf; total time=   6.8s\n",
            "[CV] END ...C=0.1, class_weight=None, gamma=auto, kernel=rbf; total time=   5.2s\n",
            "[CV] END ...C=0.1, class_weight=None, gamma=auto, kernel=rbf; total time=   6.9s\n",
            "[CV] END ...C=0.1, class_weight=None, gamma=auto, kernel=rbf; total time=   5.2s\n",
            "[CV] END C=0.1, class_weight=None, gamma=auto, kernel=linear; total time=  11.0s\n",
            "[CV] END C=0.1, class_weight=None, gamma=auto, kernel=linear; total time=   9.2s\n",
            "[CV] END C=0.1, class_weight=None, gamma=auto, kernel=linear; total time=   8.8s\n",
            "[CV] END C=0.1, class_weight=None, gamma=auto, kernel=linear; total time=  10.7s\n",
            "[CV] END C=0.1, class_weight=None, gamma=auto, kernel=linear; total time=   6.7s\n",
            "[CV] END ...C=0.1, class_weight=None, gamma=0.01, kernel=rbf; total time=   5.2s\n",
            "[CV] END ...C=0.1, class_weight=None, gamma=0.01, kernel=rbf; total time=   4.0s\n",
            "[CV] END ...C=0.1, class_weight=None, gamma=0.01, kernel=rbf; total time=   4.4s\n",
            "[CV] END ...C=0.1, class_weight=None, gamma=0.01, kernel=rbf; total time=   5.2s\n",
            "[CV] END ...C=0.1, class_weight=None, gamma=0.01, kernel=rbf; total time=   4.0s\n",
            "[CV] END C=0.1, class_weight=None, gamma=0.01, kernel=linear; total time=  11.0s\n",
            "[CV] END C=0.1, class_weight=None, gamma=0.01, kernel=linear; total time=   9.1s\n",
            "[CV] END C=0.1, class_weight=None, gamma=0.01, kernel=linear; total time=   8.8s\n",
            "[CV] END C=0.1, class_weight=None, gamma=0.01, kernel=linear; total time=  10.7s\n",
            "[CV] END C=0.1, class_weight=None, gamma=0.01, kernel=linear; total time=   6.9s\n",
            "[CV] END ....C=0.1, class_weight=None, gamma=0.1, kernel=rbf; total time=   6.8s\n",
            "[CV] END ....C=0.1, class_weight=None, gamma=0.1, kernel=rbf; total time=   6.0s\n",
            "[CV] END ....C=0.1, class_weight=None, gamma=0.1, kernel=rbf; total time=   7.2s\n",
            "[CV] END ....C=0.1, class_weight=None, gamma=0.1, kernel=rbf; total time=   5.8s\n",
            "[CV] END ....C=0.1, class_weight=None, gamma=0.1, kernel=rbf; total time=   7.4s\n",
            "[CV] END .C=0.1, class_weight=None, gamma=0.1, kernel=linear; total time=  11.0s\n",
            "[CV] END .C=0.1, class_weight=None, gamma=0.1, kernel=linear; total time=   7.9s\n",
            "[CV] END .C=0.1, class_weight=None, gamma=0.1, kernel=linear; total time=  10.1s\n",
            "[CV] END .C=0.1, class_weight=None, gamma=0.1, kernel=linear; total time=  10.7s\n",
            "[CV] END .C=0.1, class_weight=None, gamma=0.1, kernel=linear; total time=   6.2s\n",
            "[CV] END C=0.1, class_weight=balanced, gamma=scale, kernel=rbf; total time=   5.6s\n",
            "[CV] END C=0.1, class_weight=balanced, gamma=scale, kernel=rbf; total time=   4.5s\n",
            "[CV] END C=0.1, class_weight=balanced, gamma=scale, kernel=rbf; total time=   4.2s\n",
            "[CV] END C=0.1, class_weight=balanced, gamma=scale, kernel=rbf; total time=   5.8s\n",
            "[CV] END C=0.1, class_weight=balanced, gamma=scale, kernel=rbf; total time=   4.3s\n",
            "[CV] END C=0.1, class_weight=balanced, gamma=scale, kernel=linear; total time=  10.6s\n",
            "[CV] END C=0.1, class_weight=balanced, gamma=scale, kernel=linear; total time=   8.7s\n",
            "[CV] END C=0.1, class_weight=balanced, gamma=scale, kernel=linear; total time=  10.9s\n",
            "[CV] END C=0.1, class_weight=balanced, gamma=scale, kernel=linear; total time=  10.1s\n",
            "[CV] END C=0.1, class_weight=balanced, gamma=scale, kernel=linear; total time=  11.0s\n",
            "[CV] END C=0.1, class_weight=balanced, gamma=auto, kernel=rbf; total time=   5.7s\n",
            "[CV] END C=0.1, class_weight=balanced, gamma=auto, kernel=rbf; total time=   7.0s\n",
            "[CV] END C=0.1, class_weight=balanced, gamma=auto, kernel=rbf; total time=   5.9s\n",
            "[CV] END C=0.1, class_weight=balanced, gamma=auto, kernel=rbf; total time=   6.4s\n",
            "[CV] END C=0.1, class_weight=balanced, gamma=auto, kernel=rbf; total time=   6.5s\n",
            "[CV] END C=0.1, class_weight=balanced, gamma=auto, kernel=linear; total time=  10.6s\n",
            "[CV] END C=0.1, class_weight=balanced, gamma=auto, kernel=linear; total time=   8.8s\n",
            "[CV] END C=0.1, class_weight=balanced, gamma=auto, kernel=linear; total time=  10.8s\n",
            "[CV] END C=0.1, class_weight=balanced, gamma=auto, kernel=linear; total time=  10.2s\n",
            "[CV] END C=0.1, class_weight=balanced, gamma=auto, kernel=linear; total time=  11.0s\n",
            "[CV] END C=0.1, class_weight=balanced, gamma=0.01, kernel=rbf; total time=   4.5s\n",
            "[CV] END C=0.1, class_weight=balanced, gamma=0.01, kernel=rbf; total time=   4.5s\n",
            "[CV] END C=0.1, class_weight=balanced, gamma=0.01, kernel=rbf; total time=   6.1s\n",
            "[CV] END C=0.1, class_weight=balanced, gamma=0.01, kernel=rbf; total time=   4.5s\n",
            "[CV] END C=0.1, class_weight=balanced, gamma=0.01, kernel=rbf; total time=   4.9s\n",
            "[CV] END C=0.1, class_weight=balanced, gamma=0.01, kernel=linear; total time=  10.0s\n",
            "[CV] END C=0.1, class_weight=balanced, gamma=0.01, kernel=linear; total time=  10.6s\n",
            "[CV] END C=0.1, class_weight=balanced, gamma=0.01, kernel=linear; total time=  10.9s\n",
            "[CV] END C=0.1, class_weight=balanced, gamma=0.01, kernel=linear; total time=   8.3s\n",
            "[CV] END C=0.1, class_weight=balanced, gamma=0.01, kernel=linear; total time=  11.0s\n",
            "[CV] END C=0.1, class_weight=balanced, gamma=0.1, kernel=rbf; total time=   7.6s\n",
            "[CV] END C=0.1, class_weight=balanced, gamma=0.1, kernel=rbf; total time=   6.2s\n",
            "[CV] END C=0.1, class_weight=balanced, gamma=0.1, kernel=rbf; total time=   7.5s\n",
            "[CV] END C=0.1, class_weight=balanced, gamma=0.1, kernel=rbf; total time=   6.1s\n",
            "[CV] END C=0.1, class_weight=balanced, gamma=0.1, kernel=rbf; total time=   7.6s\n",
            "[CV] END C=0.1, class_weight=balanced, gamma=0.1, kernel=linear; total time=   8.7s\n",
            "[CV] END C=0.1, class_weight=balanced, gamma=0.1, kernel=linear; total time=  10.6s\n",
            "[CV] END C=0.1, class_weight=balanced, gamma=0.1, kernel=linear; total time=  10.9s\n",
            "[CV] END C=0.1, class_weight=balanced, gamma=0.1, kernel=linear; total time=   9.3s\n",
            "[CV] END C=0.1, class_weight=balanced, gamma=0.1, kernel=linear; total time=   9.9s\n",
            "[CV] END ....C=1, class_weight=None, gamma=scale, kernel=rbf; total time=   4.5s\n",
            "[CV] END ....C=1, class_weight=None, gamma=scale, kernel=rbf; total time=   3.8s\n",
            "[CV] END ....C=1, class_weight=None, gamma=scale, kernel=rbf; total time=   3.3s\n",
            "[CV] END ....C=1, class_weight=None, gamma=scale, kernel=rbf; total time=   3.3s\n",
            "[CV] END ....C=1, class_weight=None, gamma=scale, kernel=rbf; total time=   4.9s\n",
            "[CV] END .C=1, class_weight=None, gamma=scale, kernel=linear; total time=   6.5s\n",
            "[CV] END .C=1, class_weight=None, gamma=scale, kernel=linear; total time=   7.9s\n",
            "[CV] END .C=1, class_weight=None, gamma=scale, kernel=linear; total time=   6.9s\n",
            "[CV] END .C=1, class_weight=None, gamma=scale, kernel=linear; total time=   6.9s\n",
            "[CV] END .C=1, class_weight=None, gamma=scale, kernel=linear; total time=   8.2s\n",
            "[CV] END .....C=1, class_weight=None, gamma=auto, kernel=rbf; total time=   7.4s\n",
            "[CV] END .....C=1, class_weight=None, gamma=auto, kernel=rbf; total time=   5.8s\n",
            "[CV] END .....C=1, class_weight=None, gamma=auto, kernel=rbf; total time=   7.5s\n",
            "[CV] END .....C=1, class_weight=None, gamma=auto, kernel=rbf; total time=   5.8s\n",
            "[CV] END .....C=1, class_weight=None, gamma=auto, kernel=rbf; total time=   7.5s\n",
            "[CV] END ..C=1, class_weight=None, gamma=auto, kernel=linear; total time=   6.5s\n",
            "[CV] END ..C=1, class_weight=None, gamma=auto, kernel=linear; total time=   8.0s\n",
            "[CV] END ..C=1, class_weight=None, gamma=auto, kernel=linear; total time=   6.9s\n",
            "[CV] END ..C=1, class_weight=None, gamma=auto, kernel=linear; total time=   6.9s\n",
            "[CV] END ..C=1, class_weight=None, gamma=auto, kernel=linear; total time=   8.7s\n",
            "[CV] END .....C=1, class_weight=None, gamma=0.01, kernel=rbf; total time=   4.5s\n",
            "[CV] END .....C=1, class_weight=None, gamma=0.01, kernel=rbf; total time=   3.3s\n",
            "[CV] END .....C=1, class_weight=None, gamma=0.01, kernel=rbf; total time=   3.4s\n",
            "[CV] END .....C=1, class_weight=None, gamma=0.01, kernel=rbf; total time=   4.7s\n",
            "[CV] END .....C=1, class_weight=None, gamma=0.01, kernel=rbf; total time=   3.5s\n",
            "[CV] END ..C=1, class_weight=None, gamma=0.01, kernel=linear; total time=   6.5s\n",
            "[CV] END ..C=1, class_weight=None, gamma=0.01, kernel=linear; total time=   8.0s\n",
            "[CV] END ..C=1, class_weight=None, gamma=0.01, kernel=linear; total time=   7.4s\n",
            "[CV] END ..C=1, class_weight=None, gamma=0.01, kernel=linear; total time=   6.3s\n",
            "[CV] END ..C=1, class_weight=None, gamma=0.01, kernel=linear; total time=   9.7s\n",
            "[CV] END ......C=1, class_weight=None, gamma=0.1, kernel=rbf; total time=   6.8s\n",
            "[CV] END ......C=1, class_weight=None, gamma=0.1, kernel=rbf; total time=   8.3s\n",
            "[CV] END ......C=1, class_weight=None, gamma=0.1, kernel=rbf; total time=   6.7s\n",
            "[CV] END ......C=1, class_weight=None, gamma=0.1, kernel=rbf; total time=   8.3s\n",
            "[CV] END ......C=1, class_weight=None, gamma=0.1, kernel=rbf; total time=   6.7s\n",
            "[CV] END ...C=1, class_weight=None, gamma=0.1, kernel=linear; total time=   8.4s\n",
            "[CV] END ...C=1, class_weight=None, gamma=0.1, kernel=linear; total time=   6.0s\n",
            "[CV] END ...C=1, class_weight=None, gamma=0.1, kernel=linear; total time=   8.8s\n",
            "[CV] END ...C=1, class_weight=None, gamma=0.1, kernel=linear; total time=   5.0s\n",
            "[CV] END ...C=1, class_weight=None, gamma=0.1, kernel=linear; total time=  10.1s\n",
            "[CV] END C=1, class_weight=balanced, gamma=scale, kernel=rbf; total time=   3.6s\n",
            "[CV] END C=1, class_weight=balanced, gamma=scale, kernel=rbf; total time=   5.2s\n",
            "[CV] END C=1, class_weight=balanced, gamma=scale, kernel=rbf; total time=   3.6s\n",
            "[CV] END C=1, class_weight=balanced, gamma=scale, kernel=rbf; total time=   3.6s\n",
            "[CV] END C=1, class_weight=balanced, gamma=scale, kernel=rbf; total time=   4.5s\n",
            "[CV] END C=1, class_weight=balanced, gamma=scale, kernel=linear; total time=  14.8s\n",
            "[CV] END C=1, class_weight=balanced, gamma=scale, kernel=linear; total time=  16.5s\n",
            "[CV] END C=1, class_weight=balanced, gamma=scale, kernel=linear; total time=   8.2s\n",
            "[CV] END C=1, class_weight=balanced, gamma=scale, kernel=linear; total time=  10.9s\n",
            "[CV] END C=1, class_weight=balanced, gamma=scale, kernel=linear; total time=  10.6s\n",
            "[CV] END .C=1, class_weight=balanced, gamma=auto, kernel=rbf; total time=   5.8s\n",
            "[CV] END .C=1, class_weight=balanced, gamma=auto, kernel=rbf; total time=   7.4s\n",
            "[CV] END .C=1, class_weight=balanced, gamma=auto, kernel=rbf; total time=   5.8s\n",
            "[CV] END .C=1, class_weight=balanced, gamma=auto, kernel=rbf; total time=   7.5s\n",
            "[CV] END .C=1, class_weight=balanced, gamma=auto, kernel=rbf; total time=   5.8s\n",
            "[CV] END C=1, class_weight=balanced, gamma=auto, kernel=linear; total time=   9.4s\n",
            "[CV] END C=1, class_weight=balanced, gamma=auto, kernel=linear; total time=  10.2s\n",
            "[CV] END C=1, class_weight=balanced, gamma=auto, kernel=linear; total time=   8.4s\n",
            "[CV] END C=1, class_weight=balanced, gamma=auto, kernel=linear; total time=  11.1s\n",
            "[CV] END C=1, class_weight=balanced, gamma=auto, kernel=linear; total time=  10.6s\n",
            "[CV] END .C=1, class_weight=balanced, gamma=0.01, kernel=rbf; total time=   3.5s\n",
            "[CV] END .C=1, class_weight=balanced, gamma=0.01, kernel=rbf; total time=   3.5s\n",
            "[CV] END .C=1, class_weight=balanced, gamma=0.01, kernel=rbf; total time=   5.2s\n",
            "[CV] END .C=1, class_weight=balanced, gamma=0.01, kernel=rbf; total time=   3.5s\n",
            "[CV] END .C=1, class_weight=balanced, gamma=0.01, kernel=rbf; total time=   3.5s\n",
            "[CV] END C=1, class_weight=balanced, gamma=0.01, kernel=linear; total time=   9.4s\n",
            "[CV] END C=1, class_weight=balanced, gamma=0.01, kernel=linear; total time=  10.2s\n",
            "[CV] END C=1, class_weight=balanced, gamma=0.01, kernel=linear; total time=   8.2s\n",
            "[CV] END C=1, class_weight=balanced, gamma=0.01, kernel=linear; total time=  11.8s\n",
            "[CV] END C=1, class_weight=balanced, gamma=0.01, kernel=linear; total time=  10.6s\n",
            "[CV] END ..C=1, class_weight=balanced, gamma=0.1, kernel=rbf; total time=   6.7s\n",
            "[CV] END ..C=1, class_weight=balanced, gamma=0.1, kernel=rbf; total time=   8.2s\n",
            "[CV] END ..C=1, class_weight=balanced, gamma=0.1, kernel=rbf; total time=   6.9s\n",
            "[CV] END ..C=1, class_weight=balanced, gamma=0.1, kernel=rbf; total time=   7.9s\n",
            "[CV] END ..C=1, class_weight=balanced, gamma=0.1, kernel=rbf; total time=   7.6s\n",
            "[CV] END C=1, class_weight=balanced, gamma=0.1, kernel=linear; total time=   8.2s\n",
            "[CV] END C=1, class_weight=balanced, gamma=0.1, kernel=linear; total time=  10.4s\n",
            "[CV] END C=1, class_weight=balanced, gamma=0.1, kernel=linear; total time=   9.4s\n",
            "[CV] END C=1, class_weight=balanced, gamma=0.1, kernel=linear; total time=   9.3s\n",
            "[CV] END C=1, class_weight=balanced, gamma=0.1, kernel=linear; total time=  10.6s\n",
            "[CV] END ...C=10, class_weight=None, gamma=scale, kernel=rbf; total time=   2.8s\n",
            "[CV] END ...C=10, class_weight=None, gamma=scale, kernel=rbf; total time=   3.6s\n",
            "[CV] END ...C=10, class_weight=None, gamma=scale, kernel=rbf; total time=   3.7s\n",
            "[CV] END ...C=10, class_weight=None, gamma=scale, kernel=rbf; total time=   2.8s\n",
            "[CV] END ...C=10, class_weight=None, gamma=scale, kernel=rbf; total time=   2.8s\n",
            "[CV] END C=10, class_weight=None, gamma=scale, kernel=linear; total time=   9.8s\n",
            "[CV] END C=10, class_weight=None, gamma=scale, kernel=linear; total time=   7.6s\n",
            "[CV] END C=10, class_weight=None, gamma=scale, kernel=linear; total time=   8.0s\n",
            "[CV] END C=10, class_weight=None, gamma=scale, kernel=linear; total time=   9.0s\n",
            "[CV] END C=10, class_weight=None, gamma=scale, kernel=linear; total time=   9.4s\n",
            "[CV] END ....C=10, class_weight=None, gamma=auto, kernel=rbf; total time=   7.9s\n",
            "[CV] END ....C=10, class_weight=None, gamma=auto, kernel=rbf; total time=   6.4s\n",
            "[CV] END ....C=10, class_weight=None, gamma=auto, kernel=rbf; total time=   7.9s\n",
            "[CV] END ....C=10, class_weight=None, gamma=auto, kernel=rbf; total time=   6.6s\n",
            "[CV] END ....C=10, class_weight=None, gamma=auto, kernel=rbf; total time=   7.4s\n",
            "[CV] END .C=10, class_weight=None, gamma=auto, kernel=linear; total time=   9.7s\n",
            "[CV] END .C=10, class_weight=None, gamma=auto, kernel=linear; total time=   7.2s\n",
            "[CV] END .C=10, class_weight=None, gamma=auto, kernel=linear; total time=   8.5s\n",
            "[CV] END .C=10, class_weight=None, gamma=auto, kernel=linear; total time=   7.3s\n",
            "[CV] END .C=10, class_weight=None, gamma=auto, kernel=linear; total time=  11.3s\n",
            "[CV] END ....C=10, class_weight=None, gamma=0.01, kernel=rbf; total time=   3.6s\n",
            "[CV] END ....C=10, class_weight=None, gamma=0.01, kernel=rbf; total time=   4.8s\n",
            "[CV] END ....C=10, class_weight=None, gamma=0.01, kernel=rbf; total time=   3.4s\n",
            "[CV] END ....C=10, class_weight=None, gamma=0.01, kernel=rbf; total time=   3.4s\n",
            "[CV] END ....C=10, class_weight=None, gamma=0.01, kernel=rbf; total time=   4.7s\n",
            "[CV] END .C=10, class_weight=None, gamma=0.01, kernel=linear; total time=   8.2s\n",
            "[CV] END .C=10, class_weight=None, gamma=0.01, kernel=linear; total time=   9.0s\n",
            "[CV] END .C=10, class_weight=None, gamma=0.01, kernel=linear; total time=   6.6s\n",
            "[CV] END .C=10, class_weight=None, gamma=0.01, kernel=linear; total time=   9.2s\n",
            "[CV] END .C=10, class_weight=None, gamma=0.01, kernel=linear; total time=  11.2s\n",
            "[CV] END .....C=10, class_weight=None, gamma=0.1, kernel=rbf; total time=   7.0s\n",
            "[CV] END .....C=10, class_weight=None, gamma=0.1, kernel=rbf; total time=   8.6s\n",
            "[CV] END .....C=10, class_weight=None, gamma=0.1, kernel=rbf; total time=   7.4s\n",
            "[CV] END .....C=10, class_weight=None, gamma=0.1, kernel=rbf; total time=   8.1s\n",
            "[CV] END .....C=10, class_weight=None, gamma=0.1, kernel=rbf; total time=   8.5s\n",
            "[CV] END ..C=10, class_weight=None, gamma=0.1, kernel=linear; total time=   7.9s\n",
            "[CV] END ..C=10, class_weight=None, gamma=0.1, kernel=linear; total time=   9.1s\n",
            "[CV] END ..C=10, class_weight=None, gamma=0.1, kernel=linear; total time=   6.6s\n",
            "[CV] END ..C=10, class_weight=None, gamma=0.1, kernel=linear; total time=   9.3s\n",
            "[CV] END ..C=10, class_weight=None, gamma=0.1, kernel=linear; total time=  11.4s\n",
            "[CV] END C=10, class_weight=balanced, gamma=scale, kernel=rbf; total time=   3.1s\n",
            "[CV] END C=10, class_weight=balanced, gamma=scale, kernel=rbf; total time=   3.1s\n",
            "[CV] END C=10, class_weight=balanced, gamma=scale, kernel=rbf; total time=   4.4s\n",
            "[CV] END C=10, class_weight=balanced, gamma=scale, kernel=rbf; total time=   3.3s\n",
            "[CV] END C=10, class_weight=balanced, gamma=scale, kernel=rbf; total time=   3.1s\n",
            "[CV] END C=10, class_weight=balanced, gamma=scale, kernel=linear; total time=  12.8s\n",
            "[CV] END C=10, class_weight=balanced, gamma=scale, kernel=linear; total time=  11.6s\n",
            "[CV] END C=10, class_weight=balanced, gamma=scale, kernel=linear; total time=  11.0s\n",
            "[CV] END C=10, class_weight=balanced, gamma=scale, kernel=linear; total time=   7.6s\n",
            "[CV] END C=10, class_weight=balanced, gamma=scale, kernel=linear; total time=  12.5s\n",
            "[CV] END C=10, class_weight=balanced, gamma=auto, kernel=rbf; total time=   7.8s\n",
            "[CV] END C=10, class_weight=balanced, gamma=auto, kernel=rbf; total time=   6.3s\n",
            "[CV] END C=10, class_weight=balanced, gamma=auto, kernel=rbf; total time=   7.9s\n",
            "[CV] END C=10, class_weight=balanced, gamma=auto, kernel=rbf; total time=   6.3s\n",
            "[CV] END C=10, class_weight=balanced, gamma=auto, kernel=rbf; total time=   7.9s\n",
            "[CV] END C=10, class_weight=balanced, gamma=auto, kernel=linear; total time=  12.8s\n",
            "[CV] END C=10, class_weight=balanced, gamma=auto, kernel=linear; total time=  10.1s\n",
            "[CV] END C=10, class_weight=balanced, gamma=auto, kernel=linear; total time=  10.9s\n",
            "[CV] END C=10, class_weight=balanced, gamma=auto, kernel=linear; total time=   9.4s\n",
            "[CV] END C=10, class_weight=balanced, gamma=auto, kernel=linear; total time=  12.4s\n",
            "[CV] END C=10, class_weight=balanced, gamma=0.01, kernel=rbf; total time=   3.4s\n",
            "[CV] END C=10, class_weight=balanced, gamma=0.01, kernel=rbf; total time=   3.4s\n",
            "[CV] END C=10, class_weight=balanced, gamma=0.01, kernel=rbf; total time=   4.9s\n",
            "[CV] END C=10, class_weight=balanced, gamma=0.01, kernel=rbf; total time=   3.6s\n",
            "[CV] END C=10, class_weight=balanced, gamma=0.01, kernel=rbf; total time=   3.4s\n",
            "[CV] END C=10, class_weight=balanced, gamma=0.01, kernel=linear; total time=  12.8s\n",
            "[CV] END C=10, class_weight=balanced, gamma=0.01, kernel=linear; total time=  11.5s\n",
            "[CV] END C=10, class_weight=balanced, gamma=0.01, kernel=linear; total time=  11.0s\n",
            "[CV] END C=10, class_weight=balanced, gamma=0.01, kernel=linear; total time=   7.5s\n",
            "[CV] END C=10, class_weight=balanced, gamma=0.01, kernel=linear; total time=  12.4s\n",
            "[CV] END .C=10, class_weight=balanced, gamma=0.1, kernel=rbf; total time=   8.5s\n",
            "[CV] END .C=10, class_weight=balanced, gamma=0.1, kernel=rbf; total time=   6.9s\n",
            "[CV] END .C=10, class_weight=balanced, gamma=0.1, kernel=rbf; total time=   8.5s\n",
            "[CV] END .C=10, class_weight=balanced, gamma=0.1, kernel=rbf; total time=   7.1s\n",
            "[CV] END .C=10, class_weight=balanced, gamma=0.1, kernel=rbf; total time=   8.3s\n",
            "[CV] END C=10, class_weight=balanced, gamma=0.1, kernel=linear; total time=  12.6s\n",
            "[CV] END C=10, class_weight=balanced, gamma=0.1, kernel=linear; total time=  11.5s\n",
            "[CV] END C=10, class_weight=balanced, gamma=0.1, kernel=linear; total time=  10.5s\n",
            "[CV] END C=10, class_weight=balanced, gamma=0.1, kernel=linear; total time=   8.2s\n",
            "[CV] END C=10, class_weight=balanced, gamma=0.1, kernel=linear; total time=  12.5s\n",
            "Best Parameters: {'C': 1, 'class_weight': None, 'gamma': 'scale', 'kernel': 'linear'}\n"
          ]
        }
      ]
    },
    {
      "cell_type": "code",
      "source": [
        "# Evaluate - test\n",
        "best_svm = grid_search.best_estimator_\n",
        "y_pred_best = best_svm.predict(X_test_no_pca)\n",
        "classification_report_test = classification_report(y_test_no_pca, y_pred_best, output_dict=True)\n",
        "print(\"Test accuracy:\")\n",
        "print(classification_report_test['accuracy'])\n",
        "print(\"Test precision:\")\n",
        "print(classification_report_test['weighted avg']['precision'])"
      ],
      "metadata": {
        "colab": {
          "base_uri": "https://localhost:8080/"
        },
        "id": "ooACXNYHfPud",
        "outputId": "ca9dc3e7-c22e-4920-fb9a-0e63b1a03d7a"
      },
      "execution_count": null,
      "outputs": [
        {
          "output_type": "stream",
          "name": "stdout",
          "text": [
            "              precision    recall  f1-score   support\n",
            "\n",
            "           0       0.99      1.00      0.99        95\n",
            "           1       1.00      1.00      1.00        93\n",
            "           2       1.00      1.00      1.00       104\n",
            "           3       1.00      1.00      1.00        88\n",
            "           4       1.00      1.00      1.00       107\n",
            "           5       1.00      1.00      1.00        28\n",
            "           6       1.00      1.00      1.00        97\n",
            "           7       1.00      0.99      1.00       114\n",
            "           8       1.00      1.00      1.00       100\n",
            "           9       1.00      1.00      1.00       106\n",
            "          10       1.00      1.00      1.00       114\n",
            "          11       1.00      1.00      1.00       133\n",
            "          12       0.75      0.86      0.81        96\n",
            "          13       1.00      1.00      1.00        57\n",
            "          14       0.50      0.23      0.31        31\n",
            "          15       0.23      0.26      0.24        19\n",
            "          16       1.00      1.00      1.00        70\n",
            "\n",
            "    accuracy                           0.96      1452\n",
            "   macro avg       0.91      0.90      0.90      1452\n",
            "weighted avg       0.96      0.96      0.96      1452\n",
            "\n"
          ]
        }
      ]
    },
    {
      "cell_type": "code",
      "source": [
        "# Evaluate - train\n",
        "y_pred_best = best_svm.predict(X_train_no_pca)\n",
        "classification_report_train = classification_report(y_train_no_pca, y_pred_best, output_dict=True)\n",
        "print(\"Train accuracy:\")\n",
        "print(classification_report_train['accuracy'])\n",
        "print(\"Train precision:\")\n",
        "print(classification_report_train['weighted avg']['precision'])"
      ],
      "metadata": {
        "colab": {
          "base_uri": "https://localhost:8080/"
        },
        "id": "V_gzRubjhXYn",
        "outputId": "fcd13e78-9bb8-4d40-98bd-b0227cb093d8"
      },
      "execution_count": null,
      "outputs": [
        {
          "output_type": "stream",
          "name": "stdout",
          "text": [
            "              precision    recall  f1-score   support\n",
            "\n",
            "           0       1.00      1.00      1.00      6310\n",
            "           1       1.00      1.00      1.00      5285\n",
            "           2       1.00      1.00      1.00      6322\n",
            "           3       1.00      1.00      1.00      6310\n",
            "           4       1.00      1.00      1.00      6252\n",
            "           5       1.00      1.00      1.00      1509\n",
            "           6       1.00      1.00      1.00      6331\n",
            "           7       1.00      1.00      1.00      6340\n",
            "           8       1.00      1.00      1.00      6316\n",
            "           9       1.00      1.00      1.00      6283\n",
            "          10       1.00      1.00      1.00      6306\n",
            "          11       1.00      1.00      1.00      6815\n",
            "          12       0.73      0.87      0.79      5267\n",
            "          13       1.00      1.00      1.00      3814\n",
            "          14       0.32      0.19      0.24      1531\n",
            "          15       0.33      0.24      0.28      1530\n",
            "          16       1.00      1.00      1.00      4575\n",
            "\n",
            "    accuracy                           0.96     87096\n",
            "   macro avg       0.90      0.90      0.90     87096\n",
            "weighted avg       0.96      0.96      0.96     87096\n",
            "\n"
          ]
        }
      ]
    },
    {
      "cell_type": "markdown",
      "source": [
        "#XGBoost"
      ],
      "metadata": {
        "id": "t1hjIdKDi_RV"
      }
    },
    {
      "cell_type": "code",
      "source": [
        "# Import packages\n",
        "import xgboost as xgb\n",
        "from sklearn.model_selection import GridSearchCV\n",
        "from sklearn.metrics import accuracy_score, precision_score"
      ],
      "metadata": {
        "id": "qiroIEU6YvE_"
      },
      "execution_count": null,
      "outputs": []
    },
    {
      "cell_type": "markdown",
      "source": [
        "## PCA"
      ],
      "metadata": {
        "id": "fmX_coxfokH0"
      }
    },
    {
      "cell_type": "code",
      "source": [
        "# Create DMatrices\n",
        "dtrain = xgb.DMatrix(X_train_pca, y_train)\n",
        "ddev = xgb.DMatrix(X_dev_pca, y_dev)\n",
        "dtest = xgb.DMatrix(X_test_pca)"
      ],
      "metadata": {
        "id": "DO_GRSUPdCLA"
      },
      "execution_count": null,
      "outputs": []
    },
    {
      "cell_type": "code",
      "source": [
        "# Set parameters\n",
        "params = {\n",
        "    'objective': 'multi:softmax',\n",
        "    'num_class': len(np.unique(y_train)),\n",
        "    'max_depth': 5,\n",
        "    'eta': 0.1,\n",
        "    'eval_metric': 'mlogloss',\n",
        "    'min_child_weight': 1,\n",
        "    'gamma': 0,\n",
        "    'subsample': 0.8,\n",
        "    'colsample_bytree': 0.8\n",
        "}\n",
        "\n",
        "# Train the model to determine number of boosting rounds\n",
        "evals = [(dtrain, 'train'), (ddev, 'dev')]\n",
        "model = xgb.train(params, dtrain, num_boost_round=1000, evals=evals, verbose_eval=100, early_stopping_rounds=10)"
      ],
      "metadata": {
        "colab": {
          "base_uri": "https://localhost:8080/"
        },
        "id": "Q4JjddXYM7u3",
        "outputId": "46682b11-fb40-45c2-e6a3-ead8a42dae68"
      },
      "execution_count": null,
      "outputs": [
        {
          "output_type": "stream",
          "name": "stdout",
          "text": [
            "[0]\ttrain-mlogloss:2.30768\tdev-mlogloss:2.30822\n",
            "[100]\ttrain-mlogloss:0.09029\tdev-mlogloss:0.09835\n",
            "[198]\ttrain-mlogloss:0.06018\tdev-mlogloss:0.07436\n"
          ]
        }
      ]
    },
    {
      "cell_type": "code",
      "source": [
        "# Tune max_depth, min_child_weight, gamma\n",
        "param_grid1 = {\n",
        "    'max_depth':range(3,10,2),\n",
        "    'min_child_weight':range(1,6,2),\n",
        "    'gamma':[i/10.0 for i in range(0,6)]\n",
        "    }\n",
        "grid_search1 = GridSearchCV(estimator = xgb.XGBClassifier(\n",
        "                                            objective='multi:softmax',\n",
        "                                            num_class=len(np.unique(y_train)),\n",
        "                                            max_depth=5,\n",
        "                                            eta=0.1,\n",
        "                                            eval_metric='mlogloss',\n",
        "                                            min_child_weight=1,\n",
        "                                            gamma=0,\n",
        "                                            subsample=0.8,\n",
        "                                            colsample_bytree=0.8,\n",
        "                                            n_estimators=200),\n",
        "                           param_grid = param_grid1, cv = 5, scoring = 'accuracy')\n",
        "grid_search1.fit(X_train_pca, y_train)\n",
        "print(f\"Best parameters found: {grid_search1.best_params_}\")\n"
      ],
      "metadata": {
        "id": "TH1ZknSjzbwm",
        "colab": {
          "base_uri": "https://localhost:8080/"
        },
        "outputId": "2d53702e-9207-4228-87fc-5933f7a07e85"
      },
      "execution_count": null,
      "outputs": [
        {
          "output_type": "stream",
          "name": "stdout",
          "text": [
            "Best parameters found: {'gamma': 0.1, 'max_depth': 3, 'min_child_weight': 3}\n"
          ]
        }
      ]
    },
    {
      "cell_type": "code",
      "source": [
        "# Further tune max_depth and min_child_weight\n",
        "param_grid1a = {\n",
        "    'max_depth':[3,4],\n",
        "    'min_child_weight':[2,3,4],\n",
        "    }\n",
        "grid_search1a = GridSearchCV(estimator = xgb.XGBClassifier(\n",
        "                                            objective='multi:softmax',\n",
        "                                            num_class=len(np.unique(y_train)),\n",
        "                                            max_depth=5,\n",
        "                                            eta=0.1,\n",
        "                                            eval_metric='mlogloss',\n",
        "                                            min_child_weight=1,\n",
        "                                            gamma=0.1,\n",
        "                                            subsample=0.8,\n",
        "                                            colsample_bytree=0.8,\n",
        "                                            n_estimators=200),\n",
        "                           param_grid = param_grid1a, cv = 5, scoring = 'accuracy')\n",
        "grid_search1a.fit(X_train_pca, y_train)\n",
        "print(f\"Best parameters found: {grid_search1a.best_params_}\")"
      ],
      "metadata": {
        "colab": {
          "base_uri": "https://localhost:8080/"
        },
        "id": "mZk-yAJ34L-2",
        "outputId": "af8ed1de-30ab-473c-b08b-94a3112dbaef"
      },
      "execution_count": null,
      "outputs": [
        {
          "output_type": "stream",
          "name": "stdout",
          "text": [
            "Best parameters found: {'max_depth': 4, 'min_child_weight': 3}\n"
          ]
        }
      ]
    },
    {
      "cell_type": "code",
      "source": [
        "# Tune subsample and colsample_bytree\n",
        "param_grid2 = {\n",
        "    'subsample':[i/10.0 for i in range(6,11,2)],\n",
        "    'colsample_bytree':[i/10.0 for i in range(6,11,2)]\n",
        "    }\n",
        "grid_search2 = GridSearchCV(estimator = xgb.XGBClassifier(\n",
        "                                            objective='multi:softmax',\n",
        "                                            num_class=len(np.unique(y_train)),\n",
        "                                            max_depth=4,\n",
        "                                            eta=0.1,\n",
        "                                            eval_metric='mlogloss',\n",
        "                                            min_child_weight=3,\n",
        "                                            gamma=0.1,\n",
        "                                            subsample=0.8,\n",
        "                                            colsample_bytree=0.8,\n",
        "                                            n_estimators=200),\n",
        "                           param_grid = param_grid2, cv = 5, scoring = 'accuracy')\n",
        "grid_search2.fit(X_train_pca, y_train)\n",
        "print(f\"Best parameters found: {grid_search2.best_params_}\")"
      ],
      "metadata": {
        "id": "rCFjnv_HfBmk",
        "colab": {
          "base_uri": "https://localhost:8080/"
        },
        "outputId": "706b1ed7-0f65-443a-e4b5-a18f671a583b"
      },
      "execution_count": null,
      "outputs": [
        {
          "output_type": "stream",
          "name": "stdout",
          "text": [
            "Best parameters found: {'colsample_bytree': 1.0, 'subsample': 1.0}\n"
          ]
        }
      ]
    },
    {
      "cell_type": "code",
      "source": [
        "# Further tune subsample and colsample_bytree\n",
        "param_grid2a = {\n",
        "    'subsample':[i/10.0 for i in range(9,11)],\n",
        "    'colsample_bytree':[i/10.0 for i in range(9,11)]\n",
        "    }\n",
        "grid_search2a = GridSearchCV(estimator = xgb.XGBClassifier(\n",
        "                                            objective='multi:softmax',\n",
        "                                            num_class=len(np.unique(y_train)),\n",
        "                                            max_depth=4,\n",
        "                                            eta=0.1,\n",
        "                                            eval_metric='mlogloss',\n",
        "                                            min_child_weight=3,\n",
        "                                            gamma=0.1,\n",
        "                                            subsample=0.8,\n",
        "                                            colsample_bytree=0.8,\n",
        "                                            n_estimators=200),\n",
        "                           param_grid = param_grid2a, cv = 5, scoring = 'accuracy')\n",
        "grid_search2a.fit(X_train_pca, y_train)\n",
        "print(f\"Best parameters found: {grid_search2a.best_params_}\")"
      ],
      "metadata": {
        "colab": {
          "base_uri": "https://localhost:8080/"
        },
        "id": "IXJ3zyEFBmzR",
        "outputId": "6e38d38e-acd1-4197-a536-b7fdba51989c"
      },
      "execution_count": null,
      "outputs": [
        {
          "output_type": "stream",
          "name": "stdout",
          "text": [
            "Best parameters found: {'colsample_bytree': 0.9, 'subsample': 1.0}\n"
          ]
        }
      ]
    },
    {
      "cell_type": "code",
      "source": [
        "# Set parameters\n",
        "opt_params = {\n",
        "    'objective': 'multi:softmax',\n",
        "    'num_class': len(np.unique(y_train)),\n",
        "    'max_depth': 4,\n",
        "    'eta': 0.1,\n",
        "    'eval_metric': 'mlogloss',\n",
        "    'min_child_weight': 3,\n",
        "    'gamma': 0.1,\n",
        "    'subsample': 1,\n",
        "    'colsample_bytree': 0.9\n",
        "}\n",
        "\n",
        "# Train the model and predict\n",
        "best_model = xgb.train(opt_params, dtrain, num_boost_round=200)\n",
        "y_train_pred = best_model.predict(dtrain)\n",
        "print(\"Train Accuracy:\", accuracy_score(y_train, y_train_pred))\n",
        "print(\"Train Precision:\", precision_score(y_train, y_train_pred, average='weighted'))\n",
        "\n",
        "y_pred = best_model.predict(dtest)\n",
        "print(\"Test Accuracy:\", accuracy_score(y_test, y_pred))\n",
        "print(\"Test Precision:\", precision_score(y_test, y_pred, average='weighted'))"
      ],
      "metadata": {
        "colab": {
          "base_uri": "https://localhost:8080/"
        },
        "id": "g5f-Zd0n4rxS",
        "outputId": "7e943813-80be-4da9-e31f-9a98feceea3a"
      },
      "execution_count": null,
      "outputs": [
        {
          "output_type": "stream",
          "name": "stdout",
          "text": [
            "Train Accuracy: 0.9658996968861946\n",
            "Train Precision: 0.9714071957338887\n",
            "Test Accuracy: 0.9504132231404959\n",
            "Test Precision: 0.9613940778760739\n"
          ]
        }
      ]
    },
    {
      "cell_type": "markdown",
      "source": [
        "## Not PCA"
      ],
      "metadata": {
        "id": "UO_4SjKL7XD7"
      }
    },
    {
      "cell_type": "code",
      "source": [
        "# Create DMatrices\n",
        "dtrain_no_pca = xgb.DMatrix(X_train_no_pca, y_train_no_pca)\n",
        "ddev_no_pca = xgb.DMatrix(X_dev_no_pca, y_dev_no_pca)\n",
        "dtest_no_pca = xgb.DMatrix(X_test_no_pca)"
      ],
      "metadata": {
        "id": "rafqVgfbNLHJ"
      },
      "execution_count": null,
      "outputs": []
    },
    {
      "cell_type": "code",
      "source": [
        "# Train the model to determine number of boosting rounds\n",
        "evals_no_pca = [(dtrain_no_pca, 'train'), (ddev_no_pca, 'dev')]\n",
        "model_no_pca = xgb.train(params, dtrain_no_pca, num_boost_round=1000, evals=evals_no_pca, verbose_eval=100, early_stopping_rounds=10)"
      ],
      "metadata": {
        "colab": {
          "base_uri": "https://localhost:8080/"
        },
        "id": "9Wb1S90R7eTA",
        "outputId": "28fb5a69-ca80-4a98-96aa-ee09a4d76649"
      },
      "execution_count": null,
      "outputs": [
        {
          "output_type": "stream",
          "name": "stdout",
          "text": [
            "[0]\ttrain-mlogloss:2.18965\tdev-mlogloss:2.19194\n",
            "[100]\ttrain-mlogloss:0.05807\tdev-mlogloss:0.05963\n",
            "[109]\ttrain-mlogloss:0.05777\tdev-mlogloss:0.06005\n"
          ]
        }
      ]
    },
    {
      "cell_type": "code",
      "source": [
        "# Tune max_depth, min_child_weight, and gamma\n",
        "param_grid1 = {\n",
        "    'max_depth':range(3,10,2),\n",
        "    'min_child_weight':range(1,6,2),\n",
        "    'gamma':[i/10.0 for i in range(0,6)],\n",
        "    }\n",
        "grid_search1 = GridSearchCV(estimator = xgb.XGBClassifier(\n",
        "                                            objective='multi:softmax',\n",
        "                                            num_class=len(np.unique(y_train)),\n",
        "                                            max_depth=5,\n",
        "                                            eta=0.1,\n",
        "                                            eval_metric='mlogloss',\n",
        "                                            min_child_weight=1,\n",
        "                                            gamma=0,\n",
        "                                            subsample=0.8,\n",
        "                                            colsample_bytree=0.8,\n",
        "                                            n_estimators=110),\n",
        "                           param_grid = param_grid1, cv = 5, scoring = 'accuracy')\n",
        "grid_search1.fit(X_train_no_pca, y_train_no_pca)\n",
        "print(f\"Best parameters found: {grid_search1.best_params_}\")"
      ],
      "metadata": {
        "colab": {
          "base_uri": "https://localhost:8080/"
        },
        "id": "FCnQbV4e71w1",
        "outputId": "404deac9-7525-4d1c-8b12-23ec59690cdb"
      },
      "execution_count": null,
      "outputs": [
        {
          "output_type": "stream",
          "name": "stdout",
          "text": [
            "Best parameters found: {'gamma': 0.4, 'max_depth': 3, 'min_child_weight': 5}\n"
          ]
        }
      ]
    },
    {
      "cell_type": "code",
      "source": [
        "# Further tune max_depth and min_child_weight\n",
        "param_grid1a = {\n",
        "    'max_depth':[3,4],\n",
        "    'min_child_weight':[4,5,6]\n",
        "    }\n",
        "grid_search1a = GridSearchCV(estimator = xgb.XGBClassifier(\n",
        "                                            objective='multi:softmax',\n",
        "                                            num_class=len(np.unique(y_train)),\n",
        "                                            max_depth=5,\n",
        "                                            eta=0.1,\n",
        "                                            eval_metric='mlogloss',\n",
        "                                            min_child_weight=1,\n",
        "                                            gamma=0.4,\n",
        "                                            subsample=0.8,\n",
        "                                            colsample_bytree=0.8,\n",
        "                                            n_estimators=110),\n",
        "                           param_grid = param_grid1a, cv = 5, scoring = 'accuracy')\n",
        "grid_search1a.fit(X_train_no_pca, y_train_no_pca)\n",
        "print(f\"Best parameters found: {grid_search1a.best_params_}\")"
      ],
      "metadata": {
        "colab": {
          "base_uri": "https://localhost:8080/"
        },
        "id": "G9bWVr_075v2",
        "outputId": "d8604244-2e6e-41d6-c786-120ca4b060db"
      },
      "execution_count": null,
      "outputs": [
        {
          "output_type": "stream",
          "name": "stdout",
          "text": [
            "Best parameters found: {'max_depth': 3, 'min_child_weight': 5}\n"
          ]
        }
      ]
    },
    {
      "cell_type": "code",
      "source": [
        "# Tune subsample and colsample_bytree\n",
        "param_grid2 = {\n",
        "    'subsample':[i/10.0 for i in range(6,11,2)],\n",
        "    'colsample_bytree':[i/10.0 for i in range(6,11,2)]\n",
        "    }\n",
        "grid_search2 = GridSearchCV(estimator = xgb.XGBClassifier(\n",
        "                                            objective='multi:softmax',\n",
        "                                            num_class=len(np.unique(y_train)),\n",
        "                                            max_depth=3,\n",
        "                                            eta=0.1,\n",
        "                                            eval_metric='mlogloss',\n",
        "                                            min_child_weight=5,\n",
        "                                            gamma=0.4,\n",
        "                                            subsample=0.8,\n",
        "                                            colsample_bytree=0.8,\n",
        "                                            n_estimators=110),\n",
        "                           param_grid = param_grid2, cv = 5, scoring = 'accuracy')\n",
        "grid_search2.fit(X_train_no_pca, y_train_no_pca)\n",
        "print(f\"Best parameters found: {grid_search2.best_params_}\")"
      ],
      "metadata": {
        "colab": {
          "base_uri": "https://localhost:8080/"
        },
        "id": "O6yDQTd0AjaK",
        "outputId": "e7fe5b12-af28-4ebc-d9c2-8e047b0de31f"
      },
      "execution_count": null,
      "outputs": [
        {
          "output_type": "stream",
          "name": "stdout",
          "text": [
            "Best parameters found: {'colsample_bytree': 0.8, 'subsample': 1.0}\n"
          ]
        }
      ]
    },
    {
      "cell_type": "code",
      "source": [
        "# Further tune subsample and colsample_bytree\n",
        "param_grid2a = {\n",
        "    'subsample':[i/10.0 for i in range(9,11)],\n",
        "    'colsample_bytree':[i/10.0 for i in range(7,10)]\n",
        "    }\n",
        "grid_search2a = GridSearchCV(estimator = xgb.XGBClassifier(\n",
        "                                            objective='multi:softmax',\n",
        "                                            num_class=len(np.unique(y_train)),\n",
        "                                            max_depth=3,\n",
        "                                            eta=0.1,\n",
        "                                            eval_metric='mlogloss',\n",
        "                                            min_child_weight=5,\n",
        "                                            gamma=0.4,\n",
        "                                            subsample=0.8,\n",
        "                                            colsample_bytree=0.8,\n",
        "                                            n_estimators=110),\n",
        "                           param_grid = param_grid2a, cv = 5, scoring = 'accuracy')\n",
        "grid_search2a.fit(X_train_no_pca, y_train_no_pca)\n",
        "print(f\"Best parameters found: {grid_search2a.best_params_}\")"
      ],
      "metadata": {
        "colab": {
          "base_uri": "https://localhost:8080/"
        },
        "id": "AYQ52f46-yJc",
        "outputId": "10749247-ccc4-477f-a160-34c0286b63f6"
      },
      "execution_count": null,
      "outputs": [
        {
          "output_type": "stream",
          "name": "stdout",
          "text": [
            "Best parameters found: {'colsample_bytree': 0.7, 'subsample': 1.0}\n"
          ]
        }
      ]
    },
    {
      "cell_type": "code",
      "source": [
        "# Set parameters\n",
        "opt_params = {\n",
        "    'objective': 'multi:softmax',\n",
        "    'num_class': len(np.unique(y_train)),\n",
        "    'max_depth': 3,\n",
        "    'eta': 0.1,\n",
        "    'eval_metric': 'mlogloss',\n",
        "    'min_child_weight': 5,\n",
        "    'gamma': 0.4,\n",
        "    'subsample': 1,\n",
        "    'colsample_bytree': 0.7\n",
        "}\n",
        "\n",
        "# Train the model and predict\n",
        "best_model_no_pca = xgb.train(opt_params, dtrain_no_pca, num_boost_round=110)\n",
        "y_train_no_pca_pred = best_model_no_pca.predict(dtrain_no_pca)\n",
        "print(\"Train Accuracy:\", accuracy_score(y_train_no_pca, y_train_no_pca_pred))\n",
        "print(\"Train Precision:\", precision_score(y_train_no_pca, y_train_no_pca_pred, average='weighted'))\n",
        "\n",
        "y_pred_no_pca = best_model_no_pca.predict(dtest_no_pca)\n",
        "print(\"Test Accuracy:\", accuracy_score(y_test_no_pca, y_pred_no_pca))\n",
        "print(\"Test Precision:\", precision_score(y_test_no_pca, y_pred_no_pca, average='weighted'))"
      ],
      "metadata": {
        "colab": {
          "base_uri": "https://localhost:8080/"
        },
        "id": "lcj-AkpXttze",
        "outputId": "1a800854-170d-481e-f022-2cb5d7abadb8"
      },
      "execution_count": null,
      "outputs": [
        {
          "output_type": "stream",
          "name": "stdout",
          "text": [
            "Train Accuracy: 0.9654174703775145\n",
            "Train Precision: 0.9767907757401133\n",
            "Test Accuracy: 0.9573002754820936\n",
            "Test Precision: 0.9740331294050302\n"
          ]
        }
      ]
    },
    {
      "cell_type": "code",
      "source": [
        "# Confusion matrix visual\n",
        "# used for feature engineering results with each model\n",
        "\n",
        "from sklearn.metrics import confusion_matrix, ConfusionMatrixDisplay\n",
        "import matplotlib.pyplot as plt\n",
        "\n",
        "conf_matrix_xg = confusion_matrix(y_test_no_pca, y_pred_no_pca)\n",
        "disp = ConfusionMatrixDisplay(confusion_matrix=conf_matrix_xg)\n",
        "disp.plot(cmap=plt.cm.Blues)\n",
        "plt.title(\"Confusion Matrix - XGBoost (Feature Engineering)\")\n",
        "plt.xlabel(\"Predicted Label\")\n",
        "plt.ylabel(\"True Label\")\n",
        "plt.show()"
      ],
      "metadata": {
        "id": "hQc2y7Dkomku",
        "colab": {
          "base_uri": "https://localhost:8080/",
          "height": 472
        },
        "outputId": "0249455e-baa4-498d-ca8e-9e508d5c77de"
      },
      "execution_count": null,
      "outputs": [
        {
          "output_type": "display_data",
          "data": {
            "text/plain": [
              "<Figure size 640x480 with 2 Axes>"
            ],
            "image/png": "[encoded data removed]"
          },
          "metadata": {}
        }
      ]
    },
    {
      "cell_type": "markdown",
      "source": [
        "# Naive Bayes"
      ],
      "metadata": {
        "id": "KzGuZnYxjDEh"
      }
    },
    {
      "cell_type": "markdown",
      "source": [
        "## PCA"
      ],
      "metadata": {
        "id": "nrF6ltzvensT"
      }
    },
    {
      "cell_type": "code",
      "source": [
        "from sklearn.naive_bayes import GaussianNB\n",
        "from sklearn.model_selection import GridSearchCV\n",
        "from sklearn.metrics import classification_report\n",
        "import numpy as np\n",
        "\n",
        "# Class priors (to correct for class imbalance)\n",
        "class_distribution = np.bincount(y_train) / len(y_train)\n",
        "\n",
        "# Hyperparameter tuning\n",
        "param_grid_nb = {\n",
        "    'var_smoothing': np.logspace(-9, 2, 12)\n",
        "}\n",
        "\n",
        "# Find best parameters with CV\n",
        "grid_search_nb = GridSearchCV(GaussianNB(priors=class_distribution), param_grid_nb, scoring = \"accuracy\", refit=True, verbose=2, cv=5)\n",
        "\n",
        "# Fit to training data\n",
        "grid_search_nb.fit(X_train_pca, y_train)\n",
        "\n",
        "# Evaluate\n",
        "best_nb = grid_search_nb.best_estimator_\n",
        "\n",
        "# Training and testing metrics\n",
        "y_pred_test = best_nb.predict(X_test_pca)\n",
        "y_pred_train = best_nb.predict(X_train_pca)\n",
        "\n",
        "classification_report_test = classification_report(y_test, y_pred_test, output_dict=True)\n",
        "classification_report_train = classification_report(y_train, y_pred_train, output_dict=True)\n",
        "print(\"Train accuracy:\")\n",
        "print(classification_report_train['accuracy'])\n",
        "print(\"Train precision:\")\n",
        "print(classification_report_train['weighted avg']['precision'])\n",
        "print(\"Test accuracy:\")\n",
        "print(classification_report_test['accuracy'])\n",
        "print(\"Test precision:\")\n",
        "print(classification_report_test['weighted avg']['precision'])\n",
        "\n"
      ],
      "metadata": {
        "colab": {
          "base_uri": "https://localhost:8080/"
        },
        "id": "wuCpwAmojHs5",
        "outputId": "5dc76250-0079-4f21-b9e6-4e4ead6e0af1"
      },
      "execution_count": null,
      "outputs": [
        {
          "output_type": "stream",
          "name": "stdout",
          "text": [
            "{'priors': array([0.07244879, 0.06068017, 0.07258657, 0.07244879, 0.07178286,\n",
            "       0.01732571, 0.07268991, 0.07279324, 0.07251768, 0.07213879,\n",
            "       0.07240287, 0.07824699, 0.0604735 , 0.04379076, 0.0175783 ,\n",
            "       0.01756682, 0.05252824]), 'var_smoothing': 1e-09}\n",
            "Initial Dev Set Evaluation (Default Naive Bayes):\n",
            "Accuracy:\n",
            "0.6478239727692682\n",
            "Precision:\n",
            "0.6671210125628776\n",
            "Fitting 5 folds for each of 12 candidates, totalling 60 fits\n",
            "[CV] END ................................var_smoothing=1e-09; total time=   0.1s\n",
            "[CV] END ................................var_smoothing=1e-09; total time=   0.1s\n",
            "[CV] END ................................var_smoothing=1e-09; total time=   0.1s\n",
            "[CV] END ................................var_smoothing=1e-09; total time=   0.1s\n",
            "[CV] END ................................var_smoothing=1e-09; total time=   0.1s\n",
            "[CV] END ................................var_smoothing=1e-08; total time=   0.1s\n",
            "[CV] END ................................var_smoothing=1e-08; total time=   0.1s\n",
            "[CV] END ................................var_smoothing=1e-08; total time=   0.1s\n",
            "[CV] END ................................var_smoothing=1e-08; total time=   0.1s\n",
            "[CV] END ................................var_smoothing=1e-08; total time=   0.1s\n",
            "[CV] END ................................var_smoothing=1e-07; total time=   0.1s\n",
            "[CV] END ................................var_smoothing=1e-07; total time=   0.1s\n",
            "[CV] END ................................var_smoothing=1e-07; total time=   0.1s\n",
            "[CV] END ................................var_smoothing=1e-07; total time=   0.1s\n",
            "[CV] END ................................var_smoothing=1e-07; total time=   0.1s\n",
            "[CV] END ................................var_smoothing=1e-06; total time=   0.2s\n",
            "[CV] END ................................var_smoothing=1e-06; total time=   0.2s\n",
            "[CV] END ................................var_smoothing=1e-06; total time=   0.2s\n",
            "[CV] END ................................var_smoothing=1e-06; total time=   0.1s\n",
            "[CV] END ................................var_smoothing=1e-06; total time=   0.1s\n",
            "[CV] END ................................var_smoothing=1e-05; total time=   0.1s\n",
            "[CV] END ................................var_smoothing=1e-05; total time=   0.1s\n",
            "[CV] END ................................var_smoothing=1e-05; total time=   0.2s\n",
            "[CV] END ................................var_smoothing=1e-05; total time=   0.1s\n",
            "[CV] END ................................var_smoothing=1e-05; total time=   0.1s\n",
            "[CV] END ...............................var_smoothing=0.0001; total time=   0.1s\n",
            "[CV] END ...............................var_smoothing=0.0001; total time=   0.1s\n",
            "[CV] END ...............................var_smoothing=0.0001; total time=   0.1s\n",
            "[CV] END ...............................var_smoothing=0.0001; total time=   0.1s\n",
            "[CV] END ...............................var_smoothing=0.0001; total time=   0.1s\n",
            "[CV] END ................................var_smoothing=0.001; total time=   0.1s\n",
            "[CV] END ................................var_smoothing=0.001; total time=   0.1s\n",
            "[CV] END ................................var_smoothing=0.001; total time=   0.1s\n",
            "[CV] END ................................var_smoothing=0.001; total time=   0.1s\n",
            "[CV] END ................................var_smoothing=0.001; total time=   0.1s\n",
            "[CV] END .................................var_smoothing=0.01; total time=   0.1s\n",
            "[CV] END .................................var_smoothing=0.01; total time=   0.1s\n",
            "[CV] END .................................var_smoothing=0.01; total time=   0.1s\n",
            "[CV] END .................................var_smoothing=0.01; total time=   0.1s\n",
            "[CV] END .................................var_smoothing=0.01; total time=   0.1s\n",
            "[CV] END ..................................var_smoothing=0.1; total time=   0.1s\n",
            "[CV] END ..................................var_smoothing=0.1; total time=   0.1s\n",
            "[CV] END ..................................var_smoothing=0.1; total time=   0.1s\n",
            "[CV] END ..................................var_smoothing=0.1; total time=   0.1s\n",
            "[CV] END ..................................var_smoothing=0.1; total time=   0.1s\n",
            "[CV] END ..................................var_smoothing=1.0; total time=   0.1s\n",
            "[CV] END ..................................var_smoothing=1.0; total time=   0.1s\n",
            "[CV] END ..................................var_smoothing=1.0; total time=   0.1s\n",
            "[CV] END ..................................var_smoothing=1.0; total time=   0.1s\n",
            "[CV] END ..................................var_smoothing=1.0; total time=   0.1s\n",
            "[CV] END .................................var_smoothing=10.0; total time=   0.1s\n",
            "[CV] END .................................var_smoothing=10.0; total time=   0.1s\n",
            "[CV] END .................................var_smoothing=10.0; total time=   0.1s\n",
            "[CV] END .................................var_smoothing=10.0; total time=   0.1s\n",
            "[CV] END .................................var_smoothing=10.0; total time=   0.1s\n",
            "[CV] END ................................var_smoothing=100.0; total time=   0.1s\n",
            "[CV] END ................................var_smoothing=100.0; total time=   0.1s\n",
            "[CV] END ................................var_smoothing=100.0; total time=   0.1s\n",
            "[CV] END ................................var_smoothing=100.0; total time=   0.1s\n",
            "[CV] END ................................var_smoothing=100.0; total time=   0.1s\n",
            "Best Parameters for Naive Bayes: {'var_smoothing': 0.1}\n",
            "Test Set Evaluation, Optimized Naive Bayes Model:\n",
            "Train accuracy:\n",
            "0.9229126481124277\n",
            "Train precision:\n",
            "0.940055109445213\n",
            "Test accuracy:\n",
            "0.9090909090909091\n",
            "Test precision:\n",
            "0.9357690458351603\n"
          ]
        }
      ]
    },
    {
      "cell_type": "markdown",
      "source": [
        "## Not PCA"
      ],
      "metadata": {
        "id": "n_TcdaoEs_yH"
      }
    },
    {
      "cell_type": "code",
      "source": [
        "# Same process as above with feature engineering data\n",
        "param_grid_nb = {\n",
        "    'var_smoothing': np.logspace(-9, 2, 12)\n",
        "}\n",
        "\n",
        "\n",
        "grid_search_nb = GridSearchCV(GaussianNB(priors=class_distribution), param_grid_nb, scoring = \"accuracy\", refit=True, verbose=2, cv=5)\n",
        "grid_search_nb.fit(X_train_no_pca, y_train_no_pca)\n",
        "\n",
        "best_nb = grid_search_nb.best_estimator_\n",
        "y_pred_test = best_nb.predict(X_test_no_pca)\n",
        "y_pred_train = best_nb.predict(X_train_no_pca)\n",
        "\n",
        "classification_report_test = classification_report(y_test_no_pca, y_pred_test, output_dict=True)\n",
        "classification_report_train = classification_report(y_train_no_pca, y_pred_train, output_dict=True)\n",
        "print(\"Train accuracy:\")\n",
        "print(classification_report_train['accuracy'])\n",
        "print(\"Train precision:\")\n",
        "print(classification_report_train['weighted avg']['precision'])\n",
        "print(\"Test accuracy:\")\n",
        "print(classification_report_test['accuracy'])\n",
        "print(\"Test precision:\")\n",
        "print(classification_report_test['weighted avg']['precision'])"
      ],
      "metadata": {
        "colab": {
          "base_uri": "https://localhost:8080/"
        },
        "id": "WmQaetlKs_PG",
        "outputId": "fe4a053a-7791-41ca-ccbb-a83044be871b"
      },
      "execution_count": null,
      "outputs": [
        {
          "output_type": "stream",
          "name": "stdout",
          "text": [
            "{'priors': array([0.07244879, 0.06068017, 0.07258657, 0.07244879, 0.07178286,\n",
            "       0.01732571, 0.07268991, 0.07279324, 0.07251768, 0.07213879,\n",
            "       0.07240287, 0.07824699, 0.0604735 , 0.04379076, 0.0175783 ,\n",
            "       0.01756682, 0.05252824]), 'var_smoothing': 1e-09}\n",
            "Initial Dev Set Evaluation (Default Naive Bayes):\n",
            "Accuracy:\n",
            "0.9645027960126429\n",
            "Precision:\n",
            "0.979143023155188\n",
            "Fitting 5 folds for each of 12 candidates, totalling 60 fits\n",
            "[CV] END ................................var_smoothing=1e-09; total time=   0.1s\n",
            "[CV] END ................................var_smoothing=1e-09; total time=   0.1s\n",
            "[CV] END ................................var_smoothing=1e-09; total time=   0.2s\n",
            "[CV] END ................................var_smoothing=1e-09; total time=   0.1s\n",
            "[CV] END ................................var_smoothing=1e-09; total time=   0.1s\n",
            "[CV] END ................................var_smoothing=1e-08; total time=   0.1s\n",
            "[CV] END ................................var_smoothing=1e-08; total time=   0.1s\n",
            "[CV] END ................................var_smoothing=1e-08; total time=   0.1s\n",
            "[CV] END ................................var_smoothing=1e-08; total time=   0.1s\n",
            "[CV] END ................................var_smoothing=1e-08; total time=   0.1s\n",
            "[CV] END ................................var_smoothing=1e-07; total time=   0.2s\n",
            "[CV] END ................................var_smoothing=1e-07; total time=   0.1s\n",
            "[CV] END ................................var_smoothing=1e-07; total time=   0.1s\n",
            "[CV] END ................................var_smoothing=1e-07; total time=   0.1s\n",
            "[CV] END ................................var_smoothing=1e-07; total time=   0.1s\n",
            "[CV] END ................................var_smoothing=1e-06; total time=   0.1s\n",
            "[CV] END ................................var_smoothing=1e-06; total time=   0.1s\n",
            "[CV] END ................................var_smoothing=1e-06; total time=   0.1s\n",
            "[CV] END ................................var_smoothing=1e-06; total time=   0.1s\n",
            "[CV] END ................................var_smoothing=1e-06; total time=   0.1s\n",
            "[CV] END ................................var_smoothing=1e-05; total time=   0.1s\n",
            "[CV] END ................................var_smoothing=1e-05; total time=   0.1s\n",
            "[CV] END ................................var_smoothing=1e-05; total time=   0.1s\n",
            "[CV] END ................................var_smoothing=1e-05; total time=   0.1s\n",
            "[CV] END ................................var_smoothing=1e-05; total time=   0.1s\n",
            "[CV] END ...............................var_smoothing=0.0001; total time=   0.1s\n",
            "[CV] END ...............................var_smoothing=0.0001; total time=   0.1s\n",
            "[CV] END ...............................var_smoothing=0.0001; total time=   0.1s\n",
            "[CV] END ...............................var_smoothing=0.0001; total time=   0.1s\n",
            "[CV] END ...............................var_smoothing=0.0001; total time=   0.1s\n",
            "[CV] END ................................var_smoothing=0.001; total time=   0.1s\n",
            "[CV] END ................................var_smoothing=0.001; total time=   0.2s\n",
            "[CV] END ................................var_smoothing=0.001; total time=   0.1s\n",
            "[CV] END ................................var_smoothing=0.001; total time=   0.1s\n",
            "[CV] END ................................var_smoothing=0.001; total time=   0.1s\n",
            "[CV] END .................................var_smoothing=0.01; total time=   0.1s\n",
            "[CV] END .................................var_smoothing=0.01; total time=   0.1s\n",
            "[CV] END .................................var_smoothing=0.01; total time=   0.1s\n",
            "[CV] END .................................var_smoothing=0.01; total time=   0.1s\n",
            "[CV] END .................................var_smoothing=0.01; total time=   0.1s\n",
            "[CV] END ..................................var_smoothing=0.1; total time=   0.1s\n",
            "[CV] END ..................................var_smoothing=0.1; total time=   0.1s\n",
            "[CV] END ..................................var_smoothing=0.1; total time=   0.1s\n",
            "[CV] END ..................................var_smoothing=0.1; total time=   0.1s\n",
            "[CV] END ..................................var_smoothing=0.1; total time=   0.1s\n",
            "[CV] END ..................................var_smoothing=1.0; total time=   0.1s\n",
            "[CV] END ..................................var_smoothing=1.0; total time=   0.2s\n",
            "[CV] END ..................................var_smoothing=1.0; total time=   0.3s\n",
            "[CV] END ..................................var_smoothing=1.0; total time=   0.2s\n",
            "[CV] END ..................................var_smoothing=1.0; total time=   0.2s\n",
            "[CV] END .................................var_smoothing=10.0; total time=   0.1s\n",
            "[CV] END .................................var_smoothing=10.0; total time=   0.2s\n",
            "[CV] END .................................var_smoothing=10.0; total time=   0.4s\n",
            "[CV] END .................................var_smoothing=10.0; total time=   0.3s\n",
            "[CV] END .................................var_smoothing=10.0; total time=   0.3s\n",
            "[CV] END ................................var_smoothing=100.0; total time=   0.4s\n",
            "[CV] END ................................var_smoothing=100.0; total time=   0.3s\n",
            "[CV] END ................................var_smoothing=100.0; total time=   0.4s\n",
            "[CV] END ................................var_smoothing=100.0; total time=   0.4s\n",
            "[CV] END ................................var_smoothing=100.0; total time=   0.4s\n",
            "Best Parameters for Naive Bayes: {'var_smoothing': 1e-09}\n",
            "Test Set Evaluation, Optimized Naive Bayes Model:\n",
            "Train accuracy:\n",
            "0.9651993202902545\n",
            "Train precision:\n",
            "0.9766125715644848\n",
            "Test accuracy:\n",
            "0.9634986225895317\n",
            "Test precision:\n",
            "0.9733756635087013\n"
          ]
        }
      ]
    },
    {
      "cell_type": "markdown",
      "source": [
        "# Model Output"
      ],
      "metadata": {
        "id": "dUb4O22Al2JQ"
      }
    },
    {
      "cell_type": "code",
      "source": [
        "#train model with no-transformation"
      ],
      "metadata": {
        "id": "H_TgbvVHWZt_"
      },
      "execution_count": null,
      "outputs": []
    },
    {
      "cell_type": "code",
      "source": [
        "#class weights\n",
        "class_weights = compute_class_weight(\n",
        "    class_weight='balanced',\n",
        "    classes=np.unique(y_train),\n",
        "    y=y_train\n",
        ")\n",
        "\n",
        "class_weight_dict = dict(zip(np.unique(y_train), class_weights))"
      ],
      "metadata": {
        "id": "leGguDTbX1wU"
      },
      "execution_count": null,
      "outputs": []
    },
    {
      "cell_type": "code",
      "source": [
        "#one-hot encoding of y\n",
        "y_train_encoded = to_categorical(y_train)\n",
        "y_dev_encoded = to_categorical(y_dev)\n",
        "y_test_encoded = to_categorical(y_test)"
      ],
      "metadata": {
        "id": "X1DpoqJtWxs0"
      },
      "execution_count": null,
      "outputs": []
    },
    {
      "cell_type": "code",
      "source": [
        "#define\n",
        "nn_model_ = Sequential([\n",
        "    #first layer\n",
        "    Dense(128, activation='relu', input_shape=(X_train.shape[1],)),\n",
        "    Dropout(0.3),\n",
        "    #second layer\n",
        "    Dense(64, activation='relu'),\n",
        "    Dropout(0.3),\n",
        "    #output\n",
        "    Dense(y_train_encoded.shape[1], activation='softmax')\n",
        "])"
      ],
      "metadata": {
        "id": "dra4eMisW1LK"
      },
      "execution_count": null,
      "outputs": []
    },
    {
      "cell_type": "code",
      "source": [
        "#create model\n",
        "nn_model_.compile(\n",
        "    optimizer='adam',\n",
        "    loss='categorical_crossentropy',\n",
        "    metrics=['accuracy']\n",
        ")"
      ],
      "metadata": {
        "id": "DaXmZqrtW3q8"
      },
      "execution_count": null,
      "outputs": []
    },
    {
      "cell_type": "code",
      "source": [
        "#early stopping\n",
        "early_stopping = EarlyStopping(\n",
        "    monitor='val_loss',\n",
        "    patience=5,\n",
        "    restore_best_weights=True\n",
        ")"
      ],
      "metadata": {
        "id": "ddSZBjpVW_uD"
      },
      "execution_count": null,
      "outputs": []
    },
    {
      "cell_type": "code",
      "source": [
        "#Train\n",
        "history = nn_model_.fit(\n",
        "    X_train, y_train_encoded,\n",
        "    validation_data=(X_dev, y_dev_encoded),\n",
        "    #large for early stopping\n",
        "    epochs=100,\n",
        "    batch_size=32,\n",
        "    callbacks=[early_stopping],\n",
        "    verbose=1,\n",
        "    class_weight=class_weight_dict,\n",
        ")"
      ],
      "metadata": {
        "colab": {
          "base_uri": "https://localhost:8080/"
        },
        "id": "u-Tq6di7XAXL",
        "outputId": "748884c8-c761-4609-a3fd-461bae94e8e2"
      },
      "execution_count": null,
      "outputs": [
        {
          "output_type": "stream",
          "name": "stdout",
          "text": [
            "Epoch 1/100\n",
            "\u001b[1m2722/2722\u001b[0m \u001b[32m━━━━━━━━━━━━━━━━━━━━\u001b[0m\u001b[37m\u001b[0m \u001b[1m11s\u001b[0m 4ms/step - accuracy: 0.5320 - loss: 1.2372 - val_accuracy: 0.9673 - val_loss: 0.1266\n",
            "Epoch 2/100\n",
            "\u001b[1m2722/2722\u001b[0m \u001b[32m━━━━━━━━━━━━━━━━━━━━\u001b[0m\u001b[37m\u001b[0m \u001b[1m10s\u001b[0m 4ms/step - accuracy: 0.8740 - loss: 0.4057 - val_accuracy: 0.9534 - val_loss: 0.1071\n",
            "Epoch 3/100\n",
            "\u001b[1m2722/2722\u001b[0m \u001b[32m━━━━━━━━━━━━━━━━━━━━\u001b[0m\u001b[37m\u001b[0m \u001b[1m15s\u001b[0m 6ms/step - accuracy: 0.9128 - loss: 0.2984 - val_accuracy: 0.9656 - val_loss: 0.0676\n",
            "Epoch 4/100\n",
            "\u001b[1m2722/2722\u001b[0m \u001b[32m━━━━━━━━━━━━━━━━━━━━\u001b[0m\u001b[37m\u001b[0m \u001b[1m11s\u001b[0m 4ms/step - accuracy: 0.9268 - loss: 0.2502 - val_accuracy: 0.9660 - val_loss: 0.0679\n",
            "Epoch 5/100\n",
            "\u001b[1m2722/2722\u001b[0m \u001b[32m━━━━━━━━━━━━━━━━━━━━\u001b[0m\u001b[37m\u001b[0m \u001b[1m9s\u001b[0m 3ms/step - accuracy: 0.9335 - loss: 0.2338 - val_accuracy: 0.9610 - val_loss: 0.0801\n",
            "Epoch 6/100\n",
            "\u001b[1m2722/2722\u001b[0m \u001b[32m━━━━━━━━━━━━━━━━━━━━\u001b[0m\u001b[37m\u001b[0m \u001b[1m9s\u001b[0m 3ms/step - accuracy: 0.9405 - loss: 0.2116 - val_accuracy: 0.9645 - val_loss: 0.0654\n",
            "Epoch 7/100\n",
            "\u001b[1m2722/2722\u001b[0m \u001b[32m━━━━━━━━━━━━━━━━━━━━\u001b[0m\u001b[37m\u001b[0m \u001b[1m8s\u001b[0m 2ms/step - accuracy: 0.9408 - loss: 0.2108 - val_accuracy: 0.9661 - val_loss: 0.0631\n",
            "Epoch 8/100\n",
            "\u001b[1m2722/2722\u001b[0m \u001b[32m━━━━━━━━━━━━━━━━━━━━\u001b[0m\u001b[37m\u001b[0m \u001b[1m10s\u001b[0m 2ms/step - accuracy: 0.9437 - loss: 0.1968 - val_accuracy: 0.9644 - val_loss: 0.0674\n",
            "Epoch 9/100\n",
            "\u001b[1m2722/2722\u001b[0m \u001b[32m━━━━━━━━━━━━━━━━━━━━\u001b[0m\u001b[37m\u001b[0m \u001b[1m6s\u001b[0m 2ms/step - accuracy: 0.9415 - loss: 0.2087 - val_accuracy: 0.9661 - val_loss: 0.0650\n",
            "Epoch 10/100\n",
            "\u001b[1m2722/2722\u001b[0m \u001b[32m━━━━━━━━━━━━━━━━━━━━\u001b[0m\u001b[37m\u001b[0m \u001b[1m6s\u001b[0m 2ms/step - accuracy: 0.9413 - loss: 0.2086 - val_accuracy: 0.9638 - val_loss: 0.0721\n",
            "Epoch 11/100\n",
            "\u001b[1m2722/2722\u001b[0m \u001b[32m━━━━━━━━━━━━━━━━━━━━\u001b[0m\u001b[37m\u001b[0m \u001b[1m5s\u001b[0m 2ms/step - accuracy: 0.9402 - loss: 0.2153 - val_accuracy: 0.9645 - val_loss: 0.0646\n",
            "Epoch 12/100\n",
            "\u001b[1m2722/2722\u001b[0m \u001b[32m━━━━━━━━━━━━━━━━━━━━\u001b[0m\u001b[37m\u001b[0m \u001b[1m7s\u001b[0m 3ms/step - accuracy: 0.9419 - loss: 0.2058 - val_accuracy: 0.9663 - val_loss: 0.0649\n"
          ]
        }
      ]
    },
    {
      "cell_type": "code",
      "source": [
        "#evaluate on test - accuracy (just to make sure it is high)\n",
        "test_loss, test_accuracy = nn_model_.evaluate(X_test, y_test_encoded, verbose=1)\n",
        "print(f\"Test Accuracy: {test_accuracy:.4f}\")"
      ],
      "metadata": {
        "colab": {
          "base_uri": "https://localhost:8080/"
        },
        "id": "BuK0_TQpXE7m",
        "outputId": "809883c1-7356-4773-f2e1-e809af3ba86a"
      },
      "execution_count": null,
      "outputs": [
        {
          "output_type": "stream",
          "name": "stdout",
          "text": [
            "\u001b[1m46/46\u001b[0m \u001b[32m━━━━━━━━━━━━━━━━━━━━\u001b[0m\u001b[37m\u001b[0m \u001b[1m0s\u001b[0m 3ms/step - accuracy: 0.9540 - loss: 0.0739\n",
            "Test Accuracy: 0.9552\n"
          ]
        }
      ]
    },
    {
      "cell_type": "code",
      "source": [
        "#evaluate on test - precision (just to make sure it is high)\n",
        "y_test_pred_probs = nn_model_.predict(X_test)\n",
        "y_test_pred = np.argmax(y_test_pred_probs, axis=1)"
      ],
      "metadata": {
        "colab": {
          "base_uri": "https://localhost:8080/"
        },
        "id": "uEpBUXvLX8s7",
        "outputId": "1549e6a5-11b9-4afc-a715-c2bb56f348a9"
      },
      "execution_count": null,
      "outputs": [
        {
          "output_type": "stream",
          "name": "stdout",
          "text": [
            "\u001b[1m46/46\u001b[0m \u001b[32m━━━━━━━━━━━━━━━━━━━━\u001b[0m\u001b[37m\u001b[0m \u001b[1m0s\u001b[0m 3ms/step\n"
          ]
        }
      ]
    },
    {
      "cell_type": "code",
      "source": [
        "overall_precision = precision_score(y_test, y_test_pred, average = 'weighted')\n",
        "print(f\"Overall Precision: {overall_precision:.4f}\")\n"
      ],
      "metadata": {
        "colab": {
          "base_uri": "https://localhost:8080/"
        },
        "id": "CZaDU8RKWcXU",
        "outputId": "0c52c152-aa79-45f3-8b9e-9da087afff8f"
      },
      "execution_count": null,
      "outputs": [
        {
          "output_type": "stream",
          "name": "stdout",
          "text": [
            "Overall Precision: 0.9679\n"
          ]
        },
        {
          "output_type": "stream",
          "name": "stderr",
          "text": [
            "/usr/local/lib/python3.10/dist-packages/sklearn/metrics/_classification.py:1531: UndefinedMetricWarning: Precision is ill-defined and being set to 0.0 in labels with no predicted samples. Use `zero_division` parameter to control this behavior.\n",
            "  _warn_prf(average, modifier, f\"{metric.capitalize()} is\", len(result))\n"
          ]
        }
      ]
    },
    {
      "cell_type": "code",
      "source": [
        "#define a function that will pre-process data and output a recommendation\n",
        "def predict_exercise(user_input):\n",
        "    user_input_df = pd.DataFrame([user_input])\n",
        "\n",
        "    #encode\n",
        "    for col in categorical_cols:\n",
        "        user_input_df[col] = encoders[col].transform([user_input[col]])[0]\n",
        "\n",
        "    #nn prediction (using simplified nn model)\n",
        "    prediction_encoded = nn_model_.predict(user_input_df)\n",
        "    pred_max = np.argmax(prediction_encoded, axis=1)\n",
        "\n",
        "    #decode\n",
        "    prediction = target_encoder.inverse_transform(pred_max)\n",
        "\n",
        "    return prediction\n"
      ],
      "metadata": {
        "id": "vqZdUV--6xow"
      },
      "execution_count": null,
      "outputs": []
    },
    {
      "cell_type": "markdown",
      "source": [
        "EXAMPLE 1"
      ],
      "metadata": {
        "id": "Q4cdaBf7j3-A"
      }
    },
    {
      "cell_type": "code",
      "source": [
        "#example 1\n",
        "user_input = {\n",
        "    \"Sex\": \"Male\",\n",
        "    \"Age\": 25,\n",
        "    \"Hypertension\": \"No\",\n",
        "    \"Diabetes\": \"No\",\n",
        "    \"BMI\": 22,\n",
        "    \"Level\": \"Normal\",\n",
        "    \"Fitness Goal\": \"Weight Loss\",\n",
        "    \"Fitness Type\": \"Cardio Fitness\",\n",
        "    \"Equipment\": \"Body Only\",\n",
        "    \"Type\": \"Cardio\",\n",
        "    \"BodyPart\": \"Quadriceps\",\n",
        "    \"Workout Intensity Level\": \"Intermediate\",\n",
        "    \"Height_in_inches\": 75,\n",
        "    \"Weight_in_pounds\":160\n",
        "}\n"
      ],
      "metadata": {
        "id": "k6lh6jOK1tyK"
      },
      "execution_count": null,
      "outputs": []
    },
    {
      "cell_type": "code",
      "source": [
        "prediction = predict_exercise(user_input)"
      ],
      "metadata": {
        "colab": {
          "base_uri": "https://localhost:8080/"
        },
        "id": "9UAgQ75r7H2F",
        "outputId": "68b6cbf0-678b-4f4c-b179-58af771a8644"
      },
      "execution_count": null,
      "outputs": [
        {
          "output_type": "stream",
          "name": "stdout",
          "text": [
            "\u001b[1m1/1\u001b[0m \u001b[32m━━━━━━━━━━━━━━━━━━━━\u001b[0m\u001b[37m\u001b[0m \u001b[1m0s\u001b[0m 21ms/step\n"
          ]
        }
      ]
    },
    {
      "cell_type": "code",
      "source": [
        "print(f\"The recommended exercise for the given user profile is: {prediction[0]}\")\n"
      ],
      "metadata": {
        "colab": {
          "base_uri": "https://localhost:8080/"
        },
        "id": "Lqcdt8kt61m2",
        "outputId": "8baad5cf-56f6-4f60-b5ca-51f0f620785a"
      },
      "execution_count": null,
      "outputs": [
        {
          "output_type": "stream",
          "name": "stdout",
          "text": [
            "The recommended exercise for the given user profile is: Trail Running/Walking\n"
          ]
        }
      ]
    },
    {
      "cell_type": "markdown",
      "source": [
        "EXAMPLE 2"
      ],
      "metadata": {
        "id": "_VvlWOunj6CQ"
      }
    },
    {
      "cell_type": "code",
      "source": [
        "#example 2\n",
        "user_input = {\n",
        "    \"Sex\": \"Female\",\n",
        "    \"Age\": 45,\n",
        "    \"Hypertension\": \"No\",\n",
        "    \"Diabetes\": \"Yes\",\n",
        "    \"BMI\": 20,\n",
        "    \"Level\": \"Normal\",\n",
        "    \"Fitness Goal\": \"Weight Gain\",\n",
        "    \"Fitness Type\": \"Muscular Fitness\",\n",
        "    \"Equipment\": \"Barbell\",\n",
        "    \"Type\": \"Strength\",\n",
        "    \"BodyPart\": \"Chest\",\n",
        "    \"Workout Intensity Level\": \"Beginner\",\n",
        "    \"Height_in_inches\": 65,\n",
        "    \"Weight_in_pounds\":150\n",
        "}"
      ],
      "metadata": {
        "id": "DLb8ocIGZUen"
      },
      "execution_count": null,
      "outputs": []
    },
    {
      "cell_type": "code",
      "source": [
        "prediction = predict_exercise(user_input)"
      ],
      "metadata": {
        "colab": {
          "base_uri": "https://localhost:8080/"
        },
        "id": "xbYzDLHmZvcU",
        "outputId": "52c62755-e925-4ed4-8de6-8ba239352737"
      },
      "execution_count": null,
      "outputs": [
        {
          "output_type": "stream",
          "name": "stdout",
          "text": [
            "\u001b[1m1/1\u001b[0m \u001b[32m━━━━━━━━━━━━━━━━━━━━\u001b[0m\u001b[37m\u001b[0m \u001b[1m0s\u001b[0m 31ms/step\n"
          ]
        }
      ]
    },
    {
      "cell_type": "code",
      "source": [
        "print(f\"The recommended exercise for the given user profile is: {prediction[0]}\")\n"
      ],
      "metadata": {
        "colab": {
          "base_uri": "https://localhost:8080/"
        },
        "id": "Rs29AIDnZw7I",
        "outputId": "25a6684c-c83f-488b-bfa2-890896e72fb3"
      },
      "execution_count": null,
      "outputs": [
        {
          "output_type": "stream",
          "name": "stdout",
          "text": [
            "The recommended exercise for the given user profile is: Jefferson Squats\n"
          ]
        }
      ]
    },
    {
      "cell_type": "code",
      "source": [
        "#easy way to check values (for example inputs)"
      ],
      "metadata": {
        "id": "tJo1me9LZgcJ"
      },
      "execution_count": null,
      "outputs": []
    },
    {
      "cell_type": "code",
      "source": [
        "for col, le in encoders.items():\n",
        "    print(f\"Classes for {col}: {le.classes_}\")"
      ],
      "metadata": {
        "colab": {
          "base_uri": "https://localhost:8080/"
        },
        "id": "dJbiWNVF-pvO",
        "outputId": "4baa76bc-a595-492b-cad8-ea620a6a04b8"
      },
      "execution_count": null,
      "outputs": [
        {
          "output_type": "stream",
          "name": "stdout",
          "text": [
            "Classes for Sex: ['Female' 'Male']\n",
            "Classes for Hypertension: ['No' 'Yes']\n",
            "Classes for Diabetes: ['No' 'Yes']\n",
            "Classes for Level: ['Normal' 'Obese' 'Overweight' 'Underweight']\n",
            "Classes for Fitness Goal: ['Weight Gain' 'Weight Loss']\n",
            "Classes for Fitness Type: ['Cardio Fitness' 'Muscular Fitness']\n",
            "Classes for Equipment: ['Bands' 'Barbell' 'Body Only' 'Cable' 'Kettlebells' 'Machine' 'Other' nan]\n",
            "Classes for Type: ['Cardio' 'Strength' 'Stretching']\n",
            "Classes for BodyPart: ['Chest' 'Lower Back' 'Quadriceps']\n",
            "Classes for Workout Intensity Level: ['Beginner' 'Intermediate']\n"
          ]
        }
      ]
    }
  ]
}